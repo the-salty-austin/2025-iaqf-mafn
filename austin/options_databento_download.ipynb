{
 "cells": [
  {
   "cell_type": "code",
   "execution_count": 1,
   "metadata": {},
   "outputs": [
    {
     "data": {
      "text/plain": [
       "True"
      ]
     },
     "execution_count": 1,
     "metadata": {},
     "output_type": "execute_result"
    }
   ],
   "source": [
    "import os\n",
    "import sys\n",
    "from dotenv import load_dotenv\n",
    "\n",
    "notebook_path = os.getcwd()\n",
    "\n",
    "# One level up from the notebook\n",
    "PROJECT_ROOT = os.path.abspath(os.path.join(notebook_path, \"../\"))\n",
    "\n",
    "DATA_ROOT = os.path.join(PROJECT_ROOT, \"data\")\n",
    "\n",
    "sys.path.insert(1, PROJECT_ROOT)\n",
    "load_dotenv()"
   ]
  },
  {
   "cell_type": "code",
   "execution_count": 2,
   "metadata": {},
   "outputs": [],
   "source": [
    "import glob\n",
    "\n",
    "import databento as db\n",
    "import pandas as pd\n",
    "import numpy as np\n",
    "import datetime\n",
    "\n",
    "import plotly.graph_objects as go"
   ]
  },
  {
   "cell_type": "code",
   "execution_count": 3,
   "metadata": {},
   "outputs": [],
   "source": [
    "client = db.Historical(os.getenv(\"DATABENTO_API\"))"
   ]
  },
  {
   "cell_type": "code",
   "execution_count": 6,
   "metadata": {},
   "outputs": [
    {
     "name": "stdout",
     "output_type": "stream",
     "text": [
      "197.256767749786\n"
     ]
    }
   ],
   "source": [
    "cost = client.metadata.get_cost(\n",
    "    dataset=\"OPRA.PILLAR\",\n",
    "    schema=\"ohlcv-1d\",\n",
    "    stype_in=\"parent\",\n",
    "    symbols=[\"AAPL.OPT\", \"AMZN.OPT\", \"GOOG.OPT\", \"META.OPT\", \"MSFT.OPT\", \"NVDA.OPT\", \"TSLA.OPT\"],\n",
    "    start=\"2024-09-01T00:00\",\n",
    "    end=\"2025-01-01T00:00\"\n",
    ")\n",
    "print(cost)"
   ]
  }
 ],
 "metadata": {
  "kernelspec": {
   "display_name": "base",
   "language": "python",
   "name": "python3"
  },
  "language_info": {
   "codemirror_mode": {
    "name": "ipython",
    "version": 3
   },
   "file_extension": ".py",
   "mimetype": "text/x-python",
   "name": "python",
   "nbconvert_exporter": "python",
   "pygments_lexer": "ipython3",
   "version": "3.11.5"
  }
 },
 "nbformat": 4,
 "nbformat_minor": 2
}
