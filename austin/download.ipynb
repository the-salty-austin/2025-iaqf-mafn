{
 "cells": [
  {
   "cell_type": "code",
   "execution_count": 22,
   "metadata": {},
   "outputs": [
    {
     "data": {
      "text/plain": [
       "True"
      ]
     },
     "execution_count": 22,
     "metadata": {},
     "output_type": "execute_result"
    }
   ],
   "source": [
    "import os\n",
    "import sys\n",
    "from dotenv import load_dotenv\n",
    "\n",
    "notebook_path = os.getcwd()\n",
    "\n",
    "# One level up from the notebook\n",
    "PROJECT_ROOT = os.path.abspath(os.path.join(notebook_path, \"../\"))\n",
    "\n",
    "DATA_ROOT = os.path.join(PROJECT_ROOT, \"data\")\n",
    "\n",
    "sys.path.insert(1, PROJECT_ROOT)\n",
    "load_dotenv()"
   ]
  },
  {
   "cell_type": "code",
   "execution_count": 41,
   "metadata": {},
   "outputs": [],
   "source": [
    "import databento as db\n",
    "import pandas as pd\n",
    "import numpy as np\n",
    "import datetime\n",
    "\n",
    "import plotly.graph_objects as go"
   ]
  },
  {
   "cell_type": "markdown",
   "metadata": {},
   "source": [
    "Download from Databento (Magnificent 7, OHLCV-1min)"
   ]
  },
  {
   "cell_type": "code",
   "execution_count": 25,
   "metadata": {},
   "outputs": [
    {
     "name": "stdout",
     "output_type": "stream",
     "text": [
      "2018-01-01 00:00:00 2019-01-01 00:00:00\n",
      "2019-01-01 00:00:00 2020-01-01 00:00:00\n",
      "2020-01-01 00:00:00 2021-01-01 00:00:00\n",
      "2021-01-01 00:00:00 2022-01-01 00:00:00\n"
     ]
    },
    {
     "name": "stderr",
     "output_type": "stream",
     "text": [
      "C:\\Users\\Austin\\AppData\\Local\\Temp\\ipykernel_22408\\1028509837.py:15: BentoWarning: The streaming request contained one or more days which have reduced quality: 2021-07-07 (degraded), 2021-10-26 (degraded). See: https://databento.com/docs/api-reference-historical/metadata/metadata-get-dataset-condition\n",
      "  data = client.timeseries.get_range(\n"
     ]
    },
    {
     "name": "stdout",
     "output_type": "stream",
     "text": [
      "2022-01-01 00:00:00 2023-01-01 00:00:00\n"
     ]
    },
    {
     "name": "stderr",
     "output_type": "stream",
     "text": [
      "C:\\Users\\Austin\\AppData\\Local\\Temp\\ipykernel_22408\\1028509837.py:15: BentoWarning: The streaming request contained one or more days which have reduced quality: 2022-09-19 (degraded). See: https://databento.com/docs/api-reference-historical/metadata/metadata-get-dataset-condition\n",
      "  data = client.timeseries.get_range(\n"
     ]
    },
    {
     "name": "stdout",
     "output_type": "stream",
     "text": [
      "2023-01-01 00:00:00 2024-01-01 00:00:00\n",
      "2024-01-01 00:00:00 2025-01-01 00:00:00\n",
      "2018-01-01 00:00:00 2019-01-01 00:00:00\n",
      "2019-01-01 00:00:00 2020-01-01 00:00:00\n",
      "2020-01-01 00:00:00 2021-01-01 00:00:00\n",
      "2021-01-01 00:00:00 2022-01-01 00:00:00\n"
     ]
    },
    {
     "name": "stderr",
     "output_type": "stream",
     "text": [
      "C:\\Users\\Austin\\AppData\\Local\\Temp\\ipykernel_22408\\1028509837.py:15: BentoWarning: The streaming request contained one or more days which have reduced quality: 2021-07-07 (degraded), 2021-10-26 (degraded). See: https://databento.com/docs/api-reference-historical/metadata/metadata-get-dataset-condition\n",
      "  data = client.timeseries.get_range(\n"
     ]
    },
    {
     "name": "stdout",
     "output_type": "stream",
     "text": [
      "2022-01-01 00:00:00 2023-01-01 00:00:00\n"
     ]
    },
    {
     "name": "stderr",
     "output_type": "stream",
     "text": [
      "C:\\Users\\Austin\\AppData\\Local\\Temp\\ipykernel_22408\\1028509837.py:15: BentoWarning: The streaming request contained one or more days which have reduced quality: 2022-09-19 (degraded). See: https://databento.com/docs/api-reference-historical/metadata/metadata-get-dataset-condition\n",
      "  data = client.timeseries.get_range(\n"
     ]
    },
    {
     "name": "stdout",
     "output_type": "stream",
     "text": [
      "2023-01-01 00:00:00 2024-01-01 00:00:00\n",
      "2024-01-01 00:00:00 2025-01-01 00:00:00\n",
      "2018-01-01 00:00:00 2019-01-01 00:00:00\n",
      "2019-01-01 00:00:00 2020-01-01 00:00:00\n",
      "2020-01-01 00:00:00 2021-01-01 00:00:00\n",
      "2021-01-01 00:00:00 2022-01-01 00:00:00\n"
     ]
    },
    {
     "name": "stderr",
     "output_type": "stream",
     "text": [
      "C:\\Users\\Austin\\AppData\\Local\\Temp\\ipykernel_22408\\1028509837.py:15: BentoWarning: The streaming request contained one or more days which have reduced quality: 2021-07-07 (degraded), 2021-10-26 (degraded). See: https://databento.com/docs/api-reference-historical/metadata/metadata-get-dataset-condition\n",
      "  data = client.timeseries.get_range(\n"
     ]
    },
    {
     "name": "stdout",
     "output_type": "stream",
     "text": [
      "2022-01-01 00:00:00 2023-01-01 00:00:00\n"
     ]
    },
    {
     "name": "stderr",
     "output_type": "stream",
     "text": [
      "C:\\Users\\Austin\\AppData\\Local\\Temp\\ipykernel_22408\\1028509837.py:15: BentoWarning: The streaming request contained one or more days which have reduced quality: 2022-09-19 (degraded). See: https://databento.com/docs/api-reference-historical/metadata/metadata-get-dataset-condition\n",
      "  data = client.timeseries.get_range(\n"
     ]
    },
    {
     "name": "stdout",
     "output_type": "stream",
     "text": [
      "2023-01-01 00:00:00 2024-01-01 00:00:00\n",
      "2024-01-01 00:00:00 2025-01-01 00:00:00\n",
      "2018-01-01 00:00:00 2019-01-01 00:00:00\n",
      "2019-01-01 00:00:00 2020-01-01 00:00:00\n",
      "2020-01-01 00:00:00 2021-01-01 00:00:00\n",
      "2021-01-01 00:00:00 2022-01-01 00:00:00\n"
     ]
    },
    {
     "name": "stderr",
     "output_type": "stream",
     "text": [
      "C:\\Users\\Austin\\AppData\\Local\\Temp\\ipykernel_22408\\1028509837.py:15: BentoWarning: The streaming request contained one or more days which have reduced quality: 2021-07-07 (degraded), 2021-10-26 (degraded). See: https://databento.com/docs/api-reference-historical/metadata/metadata-get-dataset-condition\n",
      "  data = client.timeseries.get_range(\n"
     ]
    },
    {
     "name": "stdout",
     "output_type": "stream",
     "text": [
      "2022-01-01 00:00:00 2023-01-01 00:00:00\n"
     ]
    },
    {
     "name": "stderr",
     "output_type": "stream",
     "text": [
      "C:\\Users\\Austin\\AppData\\Local\\Temp\\ipykernel_22408\\1028509837.py:15: BentoWarning: The streaming request contained one or more days which have reduced quality: 2022-09-19 (degraded). See: https://databento.com/docs/api-reference-historical/metadata/metadata-get-dataset-condition\n",
      "  data = client.timeseries.get_range(\n"
     ]
    },
    {
     "name": "stdout",
     "output_type": "stream",
     "text": [
      "2023-01-01 00:00:00 2024-01-01 00:00:00\n",
      "2024-01-01 00:00:00 2025-01-01 00:00:00\n",
      "2018-01-01 00:00:00 2019-01-01 00:00:00\n"
     ]
    },
    {
     "name": "stderr",
     "output_type": "stream",
     "text": [
      "C:\\Users\\Austin\\AppData\\Local\\Temp\\ipykernel_22408\\1028509837.py:15: BentoWarning: No data found for the request you submitted.\n",
      "  data = client.timeseries.get_range(\n",
      "C:\\Users\\Austin\\AppData\\Local\\Temp\\ipykernel_22408\\1028509837.py:15: BentoWarning: The streaming request had one or more symbols which did not resolve: META.\n",
      "  data = client.timeseries.get_range(\n"
     ]
    },
    {
     "name": "stdout",
     "output_type": "stream",
     "text": [
      "2019-01-01 00:00:00 2020-01-01 00:00:00\n"
     ]
    },
    {
     "name": "stderr",
     "output_type": "stream",
     "text": [
      "C:\\Users\\Austin\\AppData\\Local\\Temp\\ipykernel_22408\\1028509837.py:15: BentoWarning: No data found for the request you submitted.\n",
      "  data = client.timeseries.get_range(\n",
      "C:\\Users\\Austin\\AppData\\Local\\Temp\\ipykernel_22408\\1028509837.py:15: BentoWarning: The streaming request had one or more symbols which did not resolve: META.\n",
      "  data = client.timeseries.get_range(\n"
     ]
    },
    {
     "name": "stdout",
     "output_type": "stream",
     "text": [
      "2020-01-01 00:00:00 2021-01-01 00:00:00\n"
     ]
    },
    {
     "name": "stderr",
     "output_type": "stream",
     "text": [
      "C:\\Users\\Austin\\AppData\\Local\\Temp\\ipykernel_22408\\1028509837.py:15: BentoWarning: No data found for the request you submitted.\n",
      "  data = client.timeseries.get_range(\n",
      "C:\\Users\\Austin\\AppData\\Local\\Temp\\ipykernel_22408\\1028509837.py:15: BentoWarning: The streaming request had one or more symbols which did not resolve: META.\n",
      "  data = client.timeseries.get_range(\n"
     ]
    },
    {
     "name": "stdout",
     "output_type": "stream",
     "text": [
      "2021-01-01 00:00:00 2022-01-01 00:00:00\n"
     ]
    },
    {
     "name": "stderr",
     "output_type": "stream",
     "text": [
      "C:\\Users\\Austin\\AppData\\Local\\Temp\\ipykernel_22408\\1028509837.py:15: BentoWarning: The streaming request contained one or more days which have reduced quality: 2021-07-07 (degraded), 2021-10-26 (degraded). See: https://databento.com/docs/api-reference-historical/metadata/metadata-get-dataset-condition\n",
      "  data = client.timeseries.get_range(\n"
     ]
    },
    {
     "name": "stdout",
     "output_type": "stream",
     "text": [
      "2022-01-01 00:00:00 2023-01-01 00:00:00\n"
     ]
    },
    {
     "name": "stderr",
     "output_type": "stream",
     "text": [
      "C:\\Users\\Austin\\AppData\\Local\\Temp\\ipykernel_22408\\1028509837.py:15: BentoWarning: The streaming request contained one or more days which have reduced quality: 2022-09-19 (degraded). See: https://databento.com/docs/api-reference-historical/metadata/metadata-get-dataset-condition\n",
      "  data = client.timeseries.get_range(\n"
     ]
    },
    {
     "name": "stdout",
     "output_type": "stream",
     "text": [
      "2023-01-01 00:00:00 2024-01-01 00:00:00\n",
      "2024-01-01 00:00:00 2025-01-01 00:00:00\n",
      "2018-01-01 00:00:00 2019-01-01 00:00:00\n",
      "2019-01-01 00:00:00 2020-01-01 00:00:00\n",
      "2020-01-01 00:00:00 2021-01-01 00:00:00\n",
      "2021-01-01 00:00:00 2022-01-01 00:00:00\n"
     ]
    },
    {
     "name": "stderr",
     "output_type": "stream",
     "text": [
      "C:\\Users\\Austin\\AppData\\Local\\Temp\\ipykernel_22408\\1028509837.py:15: BentoWarning: The streaming request contained one or more days which have reduced quality: 2021-07-07 (degraded), 2021-10-26 (degraded). See: https://databento.com/docs/api-reference-historical/metadata/metadata-get-dataset-condition\n",
      "  data = client.timeseries.get_range(\n"
     ]
    },
    {
     "name": "stdout",
     "output_type": "stream",
     "text": [
      "2022-01-01 00:00:00 2023-01-01 00:00:00\n"
     ]
    },
    {
     "name": "stderr",
     "output_type": "stream",
     "text": [
      "C:\\Users\\Austin\\AppData\\Local\\Temp\\ipykernel_22408\\1028509837.py:15: BentoWarning: The streaming request contained one or more days which have reduced quality: 2022-09-19 (degraded). See: https://databento.com/docs/api-reference-historical/metadata/metadata-get-dataset-condition\n",
      "  data = client.timeseries.get_range(\n"
     ]
    },
    {
     "name": "stdout",
     "output_type": "stream",
     "text": [
      "2023-01-01 00:00:00 2024-01-01 00:00:00\n",
      "2024-01-01 00:00:00 2025-01-01 00:00:00\n",
      "2018-01-01 00:00:00 2019-01-01 00:00:00\n",
      "2019-01-01 00:00:00 2020-01-01 00:00:00\n",
      "2020-01-01 00:00:00 2021-01-01 00:00:00\n",
      "2021-01-01 00:00:00 2022-01-01 00:00:00\n"
     ]
    },
    {
     "name": "stderr",
     "output_type": "stream",
     "text": [
      "C:\\Users\\Austin\\AppData\\Local\\Temp\\ipykernel_22408\\1028509837.py:15: BentoWarning: The streaming request contained one or more days which have reduced quality: 2021-07-07 (degraded), 2021-10-26 (degraded). See: https://databento.com/docs/api-reference-historical/metadata/metadata-get-dataset-condition\n",
      "  data = client.timeseries.get_range(\n"
     ]
    },
    {
     "name": "stdout",
     "output_type": "stream",
     "text": [
      "2022-01-01 00:00:00 2023-01-01 00:00:00\n"
     ]
    },
    {
     "name": "stderr",
     "output_type": "stream",
     "text": [
      "C:\\Users\\Austin\\AppData\\Local\\Temp\\ipykernel_22408\\1028509837.py:15: BentoWarning: The streaming request contained one or more days which have reduced quality: 2022-09-19 (degraded). See: https://databento.com/docs/api-reference-historical/metadata/metadata-get-dataset-condition\n",
      "  data = client.timeseries.get_range(\n"
     ]
    },
    {
     "name": "stdout",
     "output_type": "stream",
     "text": [
      "2023-01-01 00:00:00 2024-01-01 00:00:00\n",
      "2024-01-01 00:00:00 2025-01-01 00:00:00\n"
     ]
    }
   ],
   "source": [
    "client = db.Historical(os.getenv(\"DATABENTO_API\"))\n",
    "symbols = [\"AAPL\", \"MSFT\", \"AMZN\", \"GOOG\", \"META\", \"NVDA\", \"TSLA\"]\n",
    "start_date = datetime.datetime(2018, 1, 1, 0, 0, 0)\n",
    "end_date = datetime.datetime(2025, 1, 1, 0, 0, 0)\n",
    "min_allowed_date = datetime.datetime(2018, 5, 1, 0, 0, 0)\n",
    "\n",
    "for symbol in symbols:\n",
    "    current_date = start_date\n",
    "    df = pd.DataFrame()\n",
    "\n",
    "    while current_date < end_date:\n",
    "        next_date = current_date + pd.DateOffset(years=1)\n",
    "        print(current_date, next_date)\n",
    "\n",
    "        data = client.timeseries.get_range(\n",
    "            dataset=\"XNAS.ITCH\",\n",
    "            symbols=symbol,\n",
    "            schema=\"ohlcv-1m\",\n",
    "            start=max(current_date, min_allowed_date).strftime(\"%Y-%m-%dT%H:%M:%S\"),\n",
    "            end=next_date.strftime(\"%Y-%m-%dT%H:%M:%S\"),\n",
    "        )\n",
    "\n",
    "        tmp_df = data.to_df()\n",
    "        current_date = next_date\n",
    "        if len(tmp_df) == 0: continue\n",
    "        tmp_df.to_csv(f\"../data/databento/{symbol}_ohlcv-1m_{tmp_df.index.min().strftime('%Y-%m-%d')}.csv\")"
   ]
  },
  {
   "cell_type": "markdown",
   "metadata": {},
   "source": [
    "Aggregate 1 min data into whatever time frame.(sample operation)"
   ]
  },
  {
   "cell_type": "code",
   "execution_count": 37,
   "metadata": {},
   "outputs": [],
   "source": [
    "symbol = \"AAPL\"\n",
    "date   = \"2019-01-02\"\n",
    "\n",
    "df = pd.read_csv(os.path.join(DATA_ROOT, \"databento\", f\"{symbol}_ohlcv-1m_{date}.csv\"), index_col=0)\n",
    "df.index = pd.to_datetime(df.index)"
   ]
  },
  {
   "cell_type": "code",
   "execution_count": 39,
   "metadata": {},
   "outputs": [],
   "source": [
    "timeframe = \"1min\"\n",
    "resampled_df = df.resample(timeframe).agg(\n",
    "                    {\n",
    "                        'open': 'first',\n",
    "                        'high': 'max',\n",
    "                        'low': 'min',\n",
    "                        'close': 'last',\n",
    "                        'volume': 'sum',\n",
    "                    }\n",
    "                )"
   ]
  },
  {
   "cell_type": "code",
   "execution_count": 40,
   "metadata": {},
   "outputs": [
    {
     "data": {
      "text/plain": [
       "<Axes: xlabel='ts_event'>"
      ]
     },
     "execution_count": 40,
     "metadata": {},
     "output_type": "execute_result"
    },
    {
     "data": {
      "image/png": "[encoded data removed]",
      "text/plain": [
       "<Figure size 640x480 with 1 Axes>"
      ]
     },
     "metadata": {},
     "output_type": "display_data"
    }
   ],
   "source": [
    "resampled_df[['high','close']].plot()"
   ]
  },
  {
   "cell_type": "code",
   "execution_count": null,
   "metadata": {},
   "outputs": [],
   "source": [
    "fig = go.Figure(data=[go.Candlestick(x=resampled_df.index,\n",
    "                open=resampled_df['open'],\n",
    "                high=resampled_df['high'],\n",
    "                low=resampled_df['low'],\n",
    "                close=resampled_df['close'])])\n",
    "\n",
    "fig.show()"
   ]
  }
 ],
 "metadata": {
  "kernelspec": {
   "display_name": "base",
   "language": "python",
   "name": "python3"
  },
  "language_info": {
   "codemirror_mode": {
    "name": "ipython",
    "version": 3
   },
   "file_extension": ".py",
   "mimetype": "text/x-python",
   "name": "python",
   "nbconvert_exporter": "python",
   "pygments_lexer": "ipython3",
   "version": "3.11.5"
  }
 },
 "nbformat": 4,
 "nbformat_minor": 2
}
