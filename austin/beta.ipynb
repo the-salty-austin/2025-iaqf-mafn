{
 "cells": [
  {
   "cell_type": "code",
   "execution_count": 2,
   "metadata": {},
   "outputs": [
    {
     "data": {
      "text/plain": [
       "False"
      ]
     },
     "execution_count": 2,
     "metadata": {},
     "output_type": "execute_result"
    }
   ],
   "source": [
    "import os\n",
    "import sys\n",
    "from dotenv import load_dotenv\n",
    "\n",
    "notebook_path = os.getcwd()\n",
    "\n",
    "# One level up from the notebook\n",
    "PROJECT_ROOT = os.path.abspath(os.path.join(notebook_path, \"../\"))\n",
    "\n",
    "DATA_ROOT = os.path.join(PROJECT_ROOT, \"data\", \"BINANCE\")\n",
    "\n",
    "sys.path.insert(1, PROJECT_ROOT)\n",
    "load_dotenv()"
   ]
  }
 ],
 "metadata": {
  "kernelspec": {
   "display_name": "base",
   "language": "python",
   "name": "python3"
  },
  "language_info": {
   "codemirror_mode": {
    "name": "ipython",
    "version": 3
   },
   "file_extension": ".py",
   "mimetype": "text/x-python",
   "name": "python",
   "nbconvert_exporter": "python",
   "pygments_lexer": "ipython3",
   "version": "3.11.5"
  }
 },
 "nbformat": 4,
 "nbformat_minor": 2
}
