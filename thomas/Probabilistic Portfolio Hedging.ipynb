{
 "cells": [
  {
   "cell_type": "code",
   "execution_count": 1,
   "id": "5345091b",
   "metadata": {},
   "outputs": [],
   "source": [
    "import pandas as pd\n",
    "import numpy as np\n",
    "import statsmodels.api as sm\n",
    "import matplotlib.pyplot as plt"
   ]
  },
  {
   "cell_type": "code",
   "execution_count": 2,
   "id": "221afd05",
   "metadata": {},
   "outputs": [],
   "source": [
    "SPY = pd.read_csv('SPY.csv', index_col = 0)\n",
    "AAPL = pd.read_csv('AAPL.O.csv', index_col = 0)\n",
    "AMZN = pd.read_csv('AMZN.O.csv', index_col = 0)\n",
    "GOOG = pd.read_csv('GOOG.O.csv', index_col = 0)\n",
    "META = pd.read_csv('META.O.csv', index_col = 0)\n",
    "MSFT = pd.read_csv('MSFT.O.csv', index_col = 0)\n",
    "NVDA = pd.read_csv('NVDA.O.csv', index_col = 0)\n",
    "TSLA = pd.read_csv('TSLA.O.csv', index_col = 0)"
   ]
  },
  {
   "cell_type": "code",
   "execution_count": 3,
   "id": "249771af",
   "metadata": {},
   "outputs": [],
   "source": [
    "Mag_7 = ['AAPL', \n",
    "         'MSFT', \n",
    "         'GOOG', \n",
    "         'AMZN', \n",
    "         'META', \n",
    "         'NVDA', \n",
    "         'TSLA']"
   ]
  },
  {
   "cell_type": "code",
   "execution_count": 4,
   "id": "af60381f",
   "metadata": {},
   "outputs": [],
   "source": [
    "data = pd.DataFrame(index = SPY.index)\n",
    "data['SPY'] = SPY['Adj Close']\n",
    "data['AAPL'] = AAPL['CLOSE']\n",
    "data['MSFT'] = MSFT['CLOSE']\n",
    "data['GOOG'] = GOOG['CLOSE']\n",
    "data['AMZN'] = AMZN['CLOSE']\n",
    "data['META'] = META['CLOSE']\n",
    "data['NVDA'] = NVDA['CLOSE']\n",
    "data['TSLA'] = TSLA['CLOSE']\n",
    "data.dropna(inplace = True)"
   ]
  },
  {
   "cell_type": "code",
   "execution_count": 24,
   "id": "2fde9999",
   "metadata": {},
   "outputs": [],
   "source": [
    "returns = data.pct_change()"
   ]
  },
  {
   "cell_type": "code",
   "execution_count": 6,
   "id": "8714019b",
   "metadata": {},
   "outputs": [],
   "source": [
    "mkt_cap = pd.DataFrame(index = AAPL.index)\n",
    "mkt_cap['AAPL'] = AAPL['MKT_CAP_ARD']\n",
    "mkt_cap['MSFT'] = MSFT['MKT_CAP_ARD']\n",
    "mkt_cap['GOOG'] = GOOG['MKT_CAP_ARD']\n",
    "mkt_cap['AMZN'] = AMZN['MKT_CAP_ARD']\n",
    "mkt_cap['META'] = META['MKT_CAP_ARD']\n",
    "mkt_cap['NVDA'] = NVDA['MKT_CAP_ARD']\n",
    "mkt_cap['TSLA'] = TSLA['MKT_CAP_ARD']\n",
    "mkt_cap.dropna(inplace = True)"
   ]
  },
  {
   "cell_type": "code",
   "execution_count": 8,
   "id": "71fce195",
   "metadata": {},
   "outputs": [],
   "source": [
    "interest_rate = pd.DataFrame(0, index = data.index, columns=[\"Rate\"])"
   ]
  },
  {
   "cell_type": "code",
   "execution_count": null,
   "id": "1a2ed501",
   "metadata": {},
   "outputs": [],
   "source": [
    "data.index[0], data.index[-1]"
   ]
  },
  {
   "cell_type": "code",
   "execution_count": 13,
   "id": "b6a7b510",
   "metadata": {},
   "outputs": [],
   "source": [
    "# Backtest Params\n",
    "lookback = 200\n",
    "observe = 100\n",
    "weigh_flag = \"Market Cap\"\n",
    "\n",
    "for i in range(lookback + 1, len(data.index) - observe):\n",
    "    date = data.index[i]\n",
    "    \n",
    "    # Portfolio weights for this day\n",
    "    if weigh_flag == \"Market Cap\":\n",
    "        daily_mkt_cap = {ticker : mkt_cap.loc[date, ticker] for ticker in Mag_7}\n",
    "        denominator = sum(daily_mkt_cap.values())\n",
    "        portfolio = {ticker : daily_mkt_cap[ticker] / denominator for ticker in Mag_7}\n",
    "    \n",
    "    elif weigh_flag == \"Equal\":\n",
    "        portfolio = {ticker : 1.0/7 for ticker in Mag_7}\n",
    "    \n",
    "    # Portfolio beta during lookback\n",
    "    beta = {ticker : 0} \n",
    "    SPY_returns = returns.iloc[i - 200 : i, \"SPY\"]\n",
    "    for ticker in Mag_7:\n",
    "        asset_returns = returns.loc"
   ]
  },
  {
   "cell_type": "code",
   "execution_count": 9,
   "id": "35d193f9",
   "metadata": {},
   "outputs": [
    {
     "data": {
      "text/html": [
       "<div>\n",
       "<style scoped>\n",
       "    .dataframe tbody tr th:only-of-type {\n",
       "        vertical-align: middle;\n",
       "    }\n",
       "\n",
       "    .dataframe tbody tr th {\n",
       "        vertical-align: top;\n",
       "    }\n",
       "\n",
       "    .dataframe thead th {\n",
       "        text-align: right;\n",
       "    }\n",
       "</style>\n",
       "<table border=\"1\" class=\"dataframe\">\n",
       "  <thead>\n",
       "    <tr style=\"text-align: right;\">\n",
       "      <th></th>\n",
       "      <th>SPY</th>\n",
       "      <th>AAPL</th>\n",
       "      <th>MSFT</th>\n",
       "      <th>GOOG</th>\n",
       "      <th>AMZN</th>\n",
       "      <th>META</th>\n",
       "      <th>NVDA</th>\n",
       "      <th>TSLA</th>\n",
       "    </tr>\n",
       "    <tr>\n",
       "      <th>Date</th>\n",
       "      <th></th>\n",
       "      <th></th>\n",
       "      <th></th>\n",
       "      <th></th>\n",
       "      <th></th>\n",
       "      <th></th>\n",
       "      <th></th>\n",
       "      <th></th>\n",
       "    </tr>\n",
       "  </thead>\n",
       "  <tbody>\n",
       "    <tr>\n",
       "      <th>2014-03-27</th>\n",
       "      <td>NaN</td>\n",
       "      <td>NaN</td>\n",
       "      <td>NaN</td>\n",
       "      <td>NaN</td>\n",
       "      <td>NaN</td>\n",
       "      <td>NaN</td>\n",
       "      <td>NaN</td>\n",
       "      <td>NaN</td>\n",
       "    </tr>\n",
       "    <tr>\n",
       "      <th>2014-03-28</th>\n",
       "      <td>0.004930</td>\n",
       "      <td>-0.001116</td>\n",
       "      <td>0.023882</td>\n",
       "      <td>0.002740</td>\n",
       "      <td>-0.000532</td>\n",
       "      <td>-0.015745</td>\n",
       "      <td>0.006183</td>\n",
       "      <td>0.024358</td>\n",
       "    </tr>\n",
       "    <tr>\n",
       "      <th>2014-03-31</th>\n",
       "      <td>0.008194</td>\n",
       "      <td>-0.000224</td>\n",
       "      <td>0.017122</td>\n",
       "      <td>-0.005393</td>\n",
       "      <td>-0.005690</td>\n",
       "      <td>0.003833</td>\n",
       "      <td>0.000559</td>\n",
       "      <td>-0.018458</td>\n",
       "    </tr>\n",
       "    <tr>\n",
       "      <th>2014-04-01</th>\n",
       "      <td>0.006631</td>\n",
       "      <td>0.009148</td>\n",
       "      <td>0.010490</td>\n",
       "      <td>0.018295</td>\n",
       "      <td>0.019696</td>\n",
       "      <td>0.039509</td>\n",
       "      <td>0.041318</td>\n",
       "      <td>0.040873</td>\n",
       "    </tr>\n",
       "    <tr>\n",
       "      <th>2014-04-02</th>\n",
       "      <td>0.003346</td>\n",
       "      <td>0.001662</td>\n",
       "      <td>-0.001690</td>\n",
       "      <td>-0.000282</td>\n",
       "      <td>-0.003003</td>\n",
       "      <td>0.001597</td>\n",
       "      <td>-0.006434</td>\n",
       "      <td>0.061391</td>\n",
       "    </tr>\n",
       "  </tbody>\n",
       "</table>\n",
       "</div>"
      ],
      "text/plain": [
       "                 SPY      AAPL      MSFT      GOOG      AMZN      META  \\\n",
       "Date                                                                     \n",
       "2014-03-27       NaN       NaN       NaN       NaN       NaN       NaN   \n",
       "2014-03-28  0.004930 -0.001116  0.023882  0.002740 -0.000532 -0.015745   \n",
       "2014-03-31  0.008194 -0.000224  0.017122 -0.005393 -0.005690  0.003833   \n",
       "2014-04-01  0.006631  0.009148  0.010490  0.018295  0.019696  0.039509   \n",
       "2014-04-02  0.003346  0.001662 -0.001690 -0.000282 -0.003003  0.001597   \n",
       "\n",
       "                NVDA      TSLA  \n",
       "Date                            \n",
       "2014-03-27       NaN       NaN  \n",
       "2014-03-28  0.006183  0.024358  \n",
       "2014-03-31  0.000559 -0.018458  \n",
       "2014-04-01  0.041318  0.040873  \n",
       "2014-04-02 -0.006434  0.061391  "
      ]
     },
     "execution_count": 9,
     "metadata": {},
     "output_type": "execute_result"
    }
   ],
   "source": [
    "returns.head()"
   ]
  },
  {
   "cell_type": "code",
   "execution_count": 25,
   "id": "354e2db5",
   "metadata": {},
   "outputs": [],
   "source": [
    "lookback = 200\n",
    "observe = 100\n",
    "weigh_flag = \"Market Cap\"\n",
    "beta_STD = 0.2\n",
    "\n",
    "i = lookback + 1\n",
    "date = data.index[i]\n",
    "\n",
    "daily_mkt_cap = {ticker : mkt_cap.loc[date, ticker] for ticker in Mag_7}\n",
    "denominator = sum(daily_mkt_cap.values())\n",
    "portfolio = {ticker : daily_mkt_cap[ticker] / denominator for ticker in Mag_7}\n",
    "\n",
    "beta = {}\n",
    "return_samples = returns.iloc[i - lookback : i, :]\n",
    "rate_samples = interest_rate.iloc[i - lookback : i, :]\n",
    "\n",
    "for ticker in Mag_7:\n",
    "    X = return_samples[\"SPY\"] - rate_samples[\"Rate\"]  # Currently Assumed 0\n",
    "    y = return_samples[ticker] - rate_samples[\"Rate\"]\n",
    "    \n",
    "    X = sm.add_constant(X)\n",
    "    \n",
    "    model = sm.OLS(y, X).fit()\n",
    "    beta[ticker] = model.params.iloc[1]\n",
    "    \n",
    "portfolio_beta = sum([beta[ticker] * portfolio[ticker] for ticker in Mag_7])\n",
    "\n",
    "# Sample with Gaussian Distribution N(portfolio_beta, beta_STD)\n",
    "normal_betas = np.random.normal(loc = portfolio_beta, scale = beta_STD, size = 10000)\n",
    "return_results = []\n",
    "\n",
    "return_samples = returns.iloc[i : i + observe, :]\n",
    "beta_return_sets = []\n",
    "\n",
    "for sample_beta in normal_betas:\n",
    "    portfolio[\"SPY\"] = -sample_beta\n",
    "    portfolio_returns = []\n",
    "    \n",
    "    for future_date in return_samples.index:\n",
    "        daily_return = sum([return_samples.loc[future_date, ticker] * portfolio[ticker] for ticker in portfolio])\n",
    "        portfolio_returns.append(daily_return)\n",
    "        \n",
    "    return_results.append(np.mean(portfolio_returns) * 250)\n",
    "    beta_return_sets.append((sample_beta, np.mean(portfolio_returns) * 250))"
   ]
  },
  {
   "cell_type": "code",
   "execution_count": 26,
   "id": "0bbf9131",
   "metadata": {},
   "outputs": [
    {
     "data": {
      "image/png": "[encoded data removed]",
      "text/plain": [
       "<Figure size 800x500 with 1 Axes>"
      ]
     },
     "metadata": {},
     "output_type": "display_data"
    }
   ],
   "source": [
    "plt.figure(figsize=(8, 5))\n",
    "plt.hist(return_results, bins=50, edgecolor=\"black\", alpha=0.75)\n",
    "\n",
    "plt.xlabel(\"Return - Simple Annual\")\n",
    "plt.ylabel(\"Frequency\")\n",
    "plt.title(\"Return Distribution\")\n",
    "\n",
    "# Show grid and plot\n",
    "plt.grid(axis=\"y\", linestyle=\"--\", alpha=0.7)\n",
    "plt.show()"
   ]
  },
  {
   "cell_type": "code",
   "execution_count": null,
   "id": "4c6dc760",
   "metadata": {},
   "outputs": [],
   "source": []
  }
 ],
 "metadata": {
  "kernelspec": {
   "display_name": "Python 3 (ipykernel)",
   "language": "python",
   "name": "python3"
  },
  "language_info": {
   "codemirror_mode": {
    "name": "ipython",
    "version": 3
   },
   "file_extension": ".py",
   "mimetype": "text/x-python",
   "name": "python",
   "nbconvert_exporter": "python",
   "pygments_lexer": "ipython3",
   "version": "3.11.3"
  }
 },
 "nbformat": 4,
 "nbformat_minor": 5
}
