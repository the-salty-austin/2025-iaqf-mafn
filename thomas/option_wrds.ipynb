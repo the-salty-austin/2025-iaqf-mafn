{
 "cells": [
  {
   "cell_type": "markdown",
   "metadata": {},
   "source": [
    "### **Options Database Download WRDS**"
   ]
  },
  {
   "cell_type": "code",
   "execution_count": 2,
   "metadata": {},
   "outputs": [],
   "source": [
    "import wrds \n",
    "import pandas as pd\n",
    "import numpy as np\n",
    "from datetime import date"
   ]
  },
  {
   "cell_type": "markdown",
   "metadata": {},
   "source": [
    "**Inputs**"
   ]
  },
  {
   "cell_type": "markdown",
   "metadata": {},
   "source": [
    "You can find SEC ID's here: https://wrds-www.wharton.upenn.edu/search/company-search/code-lookup/?product_id=274&attribute_type_map="
   ]
  },
  {
   "cell_type": "code",
   "execution_count": 33,
   "metadata": {},
   "outputs": [],
   "source": [
    "# Start/End Year\n",
    "start_year = 2020\n",
    "end_year = 2023\n",
    "\n",
    "mag7 = {\n",
    "    \"AAPL\": 101594,\n",
    "    \"AMZN\": 101310,\n",
    "    \"GOOG\": 203876,\n",
    "    \"META\": 154402,\n",
    "    \"MSFT\": 107525,\n",
    "    \"NVDA\": 108321,\n",
    "    \"TSLA\": 143439\n",
    "}\n",
    "\n",
    "secids = list(mag7.values()) + [108105,102442] # SPX, SML\n",
    "\n",
    "# Limit to 1M Options\n",
    "expiration_max = 31\n",
    "expiration_min = 27"
   ]
  },
  {
   "cell_type": "markdown",
   "metadata": {},
   "source": [
    "**Query**\n",
    "\n",
    "Options prices for different years are stored in different tables. The code below just applies a union all to the queries."
   ]
  },
  {
   "cell_type": "code",
   "execution_count": 37,
   "metadata": {},
   "outputs": [],
   "source": [
    "base_query = \"\"\"\n",
    "SELECT\n",
    "    date, secid, symbol,\n",
    "    exdate, cp_flag, strike_price,\n",
    "    best_bid, best_offer, impl_volatility,\n",
    "    delta, gamma, vega, theta\n",
    "FROM \n",
    "    optionm_all.opprcd{year} as o\n",
    "WHERE\n",
    "    o.secid IN {secids}\n",
    "    AND (o.exdate - o.date <= {expiration_max})\n",
    "    AND (o.exdate - o.date >= {expiration_min})\n",
    "\"\"\"\n",
    "\n",
    "expiration_max = 31\n",
    "expiration_min = 27\n",
    "\n",
    "# Build the query\n",
    "queries = [\n",
    "    base_query.format(year=year, secids=tuple(secids), expiration_max=expiration_max, expiration_min=expiration_min)\n",
    "    for year in range(start_year,end_year+1)\n",
    "]\n",
    "\n",
    "# Join subqueries\n",
    "q = \" UNION ALL \".join(queries)"
   ]
  },
  {
   "cell_type": "markdown",
   "metadata": {},
   "source": [
    "**Run**"
   ]
  },
  {
   "cell_type": "code",
   "execution_count": 39,
   "metadata": {},
   "outputs": [
    {
     "name": "stdout",
     "output_type": "stream",
     "text": [
      "WRDS recommends setting up a .pgpass file.\n",
      "You can create this file yourself at any time with the create_pgpass_file() function.\n",
      "Loading library list...\n",
      "Done\n"
     ]
    }
   ],
   "source": [
    "conn = wrds.Connection()\n",
    "data = conn.raw_sql(q)"
   ]
  },
  {
   "cell_type": "code",
   "execution_count": 45,
   "metadata": {},
   "outputs": [],
   "source": [
    "# data.to_parquet('../data/wrds/options_prices_2020_2023.parquet')"
   ]
  },
  {
   "cell_type": "markdown",
   "metadata": {},
   "source": [
    "**Import**"
   ]
  },
  {
   "cell_type": "code",
   "execution_count": 46,
   "metadata": {},
   "outputs": [
    {
     "data": {
      "text/html": [
       "<div>\n",
       "<style scoped>\n",
       "    .dataframe tbody tr th:only-of-type {\n",
       "        vertical-align: middle;\n",
       "    }\n",
       "\n",
       "    .dataframe tbody tr th {\n",
       "        vertical-align: top;\n",
       "    }\n",
       "\n",
       "    .dataframe thead th {\n",
       "        text-align: right;\n",
       "    }\n",
       "</style>\n",
       "<table border=\"1\" class=\"dataframe\">\n",
       "  <thead>\n",
       "    <tr style=\"text-align: right;\">\n",
       "      <th></th>\n",
       "      <th>date</th>\n",
       "      <th>secid</th>\n",
       "      <th>symbol</th>\n",
       "      <th>exdate</th>\n",
       "      <th>cp_flag</th>\n",
       "      <th>strike_price</th>\n",
       "      <th>best_bid</th>\n",
       "      <th>best_offer</th>\n",
       "      <th>impl_volatility</th>\n",
       "      <th>delta</th>\n",
       "      <th>gamma</th>\n",
       "      <th>vega</th>\n",
       "      <th>theta</th>\n",
       "    </tr>\n",
       "  </thead>\n",
       "  <tbody>\n",
       "    <tr>\n",
       "      <th>0</th>\n",
       "      <td>2023-01-03</td>\n",
       "      <td>101310.0</td>\n",
       "      <td>AMZN 230203C100000</td>\n",
       "      <td>2023-02-03</td>\n",
       "      <td>C</td>\n",
       "      <td>100000.0</td>\n",
       "      <td>1.13</td>\n",
       "      <td>1.24</td>\n",
       "      <td>0.518193</td>\n",
       "      <td>0.180449</td>\n",
       "      <td>0.020279</td>\n",
       "      <td>6.573099</td>\n",
       "      <td>-20.64159</td>\n",
       "    </tr>\n",
       "    <tr>\n",
       "      <th>1</th>\n",
       "      <td>2023-01-03</td>\n",
       "      <td>101310.0</td>\n",
       "      <td>AMZN 230203C101000</td>\n",
       "      <td>2023-02-03</td>\n",
       "      <td>C</td>\n",
       "      <td>101000.0</td>\n",
       "      <td>0.99</td>\n",
       "      <td>1.1</td>\n",
       "      <td>0.517512</td>\n",
       "      <td>0.163279</td>\n",
       "      <td>0.019051</td>\n",
       "      <td>6.167326</td>\n",
       "      <td>-19.3229</td>\n",
       "    </tr>\n",
       "    <tr>\n",
       "      <th>2</th>\n",
       "      <td>2023-01-03</td>\n",
       "      <td>101310.0</td>\n",
       "      <td>AMZN 230203C102000</td>\n",
       "      <td>2023-02-03</td>\n",
       "      <td>C</td>\n",
       "      <td>102000.0</td>\n",
       "      <td>0.89</td>\n",
       "      <td>0.98</td>\n",
       "      <td>0.51952</td>\n",
       "      <td>0.148764</td>\n",
       "      <td>0.017848</td>\n",
       "      <td>5.791956</td>\n",
       "      <td>-18.22698</td>\n",
       "    </tr>\n",
       "    <tr>\n",
       "      <th>3</th>\n",
       "      <td>2023-01-03</td>\n",
       "      <td>101310.0</td>\n",
       "      <td>AMZN 230203C103000</td>\n",
       "      <td>2023-02-03</td>\n",
       "      <td>C</td>\n",
       "      <td>103000.0</td>\n",
       "      <td>0.79</td>\n",
       "      <td>0.89</td>\n",
       "      <td>0.522221</td>\n",
       "      <td>0.135744</td>\n",
       "      <td>0.016688</td>\n",
       "      <td>5.445606</td>\n",
       "      <td>-17.20464</td>\n",
       "    </tr>\n",
       "    <tr>\n",
       "      <th>4</th>\n",
       "      <td>2023-01-03</td>\n",
       "      <td>101310.0</td>\n",
       "      <td>AMZN 230203C104000</td>\n",
       "      <td>2023-02-03</td>\n",
       "      <td>C</td>\n",
       "      <td>104000.0</td>\n",
       "      <td>0.69</td>\n",
       "      <td>0.79</td>\n",
       "      <td>0.522084</td>\n",
       "      <td>0.122306</td>\n",
       "      <td>0.015528</td>\n",
       "      <td>5.073944</td>\n",
       "      <td>-15.98841</td>\n",
       "    </tr>\n",
       "  </tbody>\n",
       "</table>\n",
       "</div>"
      ],
      "text/plain": [
       "         date     secid              symbol      exdate cp_flag  strike_price  \\\n",
       "0  2023-01-03  101310.0  AMZN 230203C100000  2023-02-03       C      100000.0   \n",
       "1  2023-01-03  101310.0  AMZN 230203C101000  2023-02-03       C      101000.0   \n",
       "2  2023-01-03  101310.0  AMZN 230203C102000  2023-02-03       C      102000.0   \n",
       "3  2023-01-03  101310.0  AMZN 230203C103000  2023-02-03       C      103000.0   \n",
       "4  2023-01-03  101310.0  AMZN 230203C104000  2023-02-03       C      104000.0   \n",
       "\n",
       "   best_bid  best_offer  impl_volatility     delta     gamma      vega  \\\n",
       "0      1.13        1.24         0.518193  0.180449  0.020279  6.573099   \n",
       "1      0.99         1.1         0.517512  0.163279  0.019051  6.167326   \n",
       "2      0.89        0.98          0.51952  0.148764  0.017848  5.791956   \n",
       "3      0.79        0.89         0.522221  0.135744  0.016688  5.445606   \n",
       "4      0.69        0.79         0.522084  0.122306  0.015528  5.073944   \n",
       "\n",
       "      theta  \n",
       "0 -20.64159  \n",
       "1  -19.3229  \n",
       "2 -18.22698  \n",
       "3 -17.20464  \n",
       "4 -15.98841  "
      ]
     },
     "execution_count": 46,
     "metadata": {},
     "output_type": "execute_result"
    }
   ],
   "source": [
    "# pip install pyarrow\n",
    "df = pd.read_parquet('../data/wrds/options_prices_2020_2023.parquet')\n",
    "df.head()"
   ]
  },
  {
   "cell_type": "code",
   "execution_count": null,
   "metadata": {},
   "outputs": [],
   "source": []
  }
 ],
 "metadata": {
  "kernelspec": {
   "display_name": ".venv",
   "language": "python",
   "name": "python3"
  },
  "language_info": {
   "codemirror_mode": {
    "name": "ipython",
    "version": 3
   },
   "file_extension": ".py",
   "mimetype": "text/x-python",
   "name": "python",
   "nbconvert_exporter": "python",
   "pygments_lexer": "ipython3",
   "version": "3.12.3"
  }
 },
 "nbformat": 4,
 "nbformat_minor": 2
}
