{
 "cells": [
  {
   "cell_type": "markdown",
   "metadata": {},
   "source": [
    "#### **Dispersion Based Equity Long/Short**"
   ]
  },
  {
   "cell_type": "code",
   "execution_count": 11,
   "metadata": {},
   "outputs": [],
   "source": [
    "import wrds\n",
    "import pandas as pd\n",
    "import numpy as np\n",
    "import yfinance as yf\n",
    "from datetime import date"
   ]
  },
  {
   "cell_type": "markdown",
   "metadata": {},
   "source": [
    "**Data**"
   ]
  },
  {
   "cell_type": "markdown",
   "metadata": {},
   "source": [
    "(101594, 101310, 203876, 154402, 107525, 108321, 143439, 108105)"
   ]
  },
  {
   "cell_type": "code",
   "execution_count": 35,
   "metadata": {},
   "outputs": [
    {
     "name": "stdout",
     "output_type": "stream",
     "text": [
      "WRDS recommends setting up a .pgpass file.\n",
      "You can create this file yourself at any time with the create_pgpass_file() function.\n",
      "Loading library list...\n",
      "Done\n"
     ]
    }
   ],
   "source": [
    "conn = wrds.Connection()\n",
    "\n",
    "option_q = \"\"\" \n",
    "    SELECT \n",
    "        date, secid, symbol,\n",
    "        exdate, cp_flag, strike_price,\n",
    "        best_bid, best_offer, impl_volatility,\n",
    "        delta, gamma, vega, theta\n",
    "    FROM \n",
    "        optionm_all.opprcd2023\n",
    "    WHERE \n",
    "        secid IN (108105,102442) AND date >= '2023-01-01'\n",
    "\n",
    "\"\"\"\n",
    "\n",
    "option_data = conn.raw_sql(option_q)"
   ]
  },
  {
   "cell_type": "markdown",
   "metadata": {},
   "source": [
    "https://wrds-www.wharton.upenn.edu/search/company-search/code-lookup/?product_id=274&attribute_type_map=\n",
    "\n",
    "SEC IDs:\n",
    "* AAPL: 101594\n",
    "* AMZN: 101310\n",
    "* GOOG: 203876\n",
    "* META: 154402 (also facebook)\n",
    "* MSFT: 107525\n",
    "* NVDA: 108321\n",
    "* TSLA: 143439\n",
    "\n",
    "* 108105 S&P 500 Index - SPX\n",
    "* 109764 S&P 100 Index - OEX\n",
    "* 101507 S&P Midcap 400 Index - MID\n",
    "* 102442 S&P Smallcap 600 Index - SML"
   ]
  },
  {
   "cell_type": "code",
   "execution_count": 42,
   "metadata": {},
   "outputs": [],
   "source": [
    "# Clean/Filter Options\n",
    "option_data['date'] = pd.to_datetime(option_data['date'])\n",
    "option_data['exdate'] = pd.to_datetime(option_data['exdate'])\n",
    "\n",
    "option_data['T'] = (option_data['exdate'] - option_data['date']).dt.days\n",
    "option_data = option_data[(option_data['T'] <= 31) & (option_data['T'] >= 27)]"
   ]
  },
  {
   "cell_type": "code",
   "execution_count": 39,
   "metadata": {},
   "outputs": [
    {
     "name": "stderr",
     "output_type": "stream",
     "text": [
      "[*********************100%***********************]  2 of 2 completed\n"
     ]
    }
   ],
   "source": [
    "stock_data = yf.download(tickers=['^GSPC','^SP600'],start = date(2023,1,1), end = date(2023,9,1))['Close']"
   ]
  },
  {
   "cell_type": "code",
   "execution_count": 40,
   "metadata": {},
   "outputs": [
    {
     "data": {
      "text/html": [
       "<div>\n",
       "<style scoped>\n",
       "    .dataframe tbody tr th:only-of-type {\n",
       "        vertical-align: middle;\n",
       "    }\n",
       "\n",
       "    .dataframe tbody tr th {\n",
       "        vertical-align: top;\n",
       "    }\n",
       "\n",
       "    .dataframe thead th {\n",
       "        text-align: right;\n",
       "    }\n",
       "</style>\n",
       "<table border=\"1\" class=\"dataframe\">\n",
       "  <thead>\n",
       "    <tr style=\"text-align: right;\">\n",
       "      <th>Ticker</th>\n",
       "      <th>^GSPC</th>\n",
       "      <th>^SP600</th>\n",
       "    </tr>\n",
       "    <tr>\n",
       "      <th>Date</th>\n",
       "      <th></th>\n",
       "      <th></th>\n",
       "    </tr>\n",
       "  </thead>\n",
       "  <tbody>\n",
       "    <tr>\n",
       "      <th>2023-01-03</th>\n",
       "      <td>3824.139893</td>\n",
       "      <td>1155.530029</td>\n",
       "    </tr>\n",
       "    <tr>\n",
       "      <th>2023-01-04</th>\n",
       "      <td>3852.969971</td>\n",
       "      <td>1169.430054</td>\n",
       "    </tr>\n",
       "    <tr>\n",
       "      <th>2023-01-05</th>\n",
       "      <td>3808.100098</td>\n",
       "      <td>1159.119995</td>\n",
       "    </tr>\n",
       "    <tr>\n",
       "      <th>2023-01-06</th>\n",
       "      <td>3895.080078</td>\n",
       "      <td>1185.829956</td>\n",
       "    </tr>\n",
       "    <tr>\n",
       "      <th>2023-01-09</th>\n",
       "      <td>3892.090088</td>\n",
       "      <td>1185.959961</td>\n",
       "    </tr>\n",
       "    <tr>\n",
       "      <th>...</th>\n",
       "      <td>...</td>\n",
       "      <td>...</td>\n",
       "    </tr>\n",
       "    <tr>\n",
       "      <th>2023-08-25</th>\n",
       "      <td>4405.709961</td>\n",
       "      <td>1196.689941</td>\n",
       "    </tr>\n",
       "    <tr>\n",
       "      <th>2023-08-28</th>\n",
       "      <td>4433.310059</td>\n",
       "      <td>1206.800049</td>\n",
       "    </tr>\n",
       "    <tr>\n",
       "      <th>2023-08-29</th>\n",
       "      <td>4497.629883</td>\n",
       "      <td>1222.819946</td>\n",
       "    </tr>\n",
       "    <tr>\n",
       "      <th>2023-08-30</th>\n",
       "      <td>4514.870117</td>\n",
       "      <td>1228.420044</td>\n",
       "    </tr>\n",
       "    <tr>\n",
       "      <th>2023-08-31</th>\n",
       "      <td>4507.660156</td>\n",
       "      <td>1226.890015</td>\n",
       "    </tr>\n",
       "  </tbody>\n",
       "</table>\n",
       "<p>167 rows × 2 columns</p>\n",
       "</div>"
      ],
      "text/plain": [
       "Ticker            ^GSPC       ^SP600\n",
       "Date                                \n",
       "2023-01-03  3824.139893  1155.530029\n",
       "2023-01-04  3852.969971  1169.430054\n",
       "2023-01-05  3808.100098  1159.119995\n",
       "2023-01-06  3895.080078  1185.829956\n",
       "2023-01-09  3892.090088  1185.959961\n",
       "...                 ...          ...\n",
       "2023-08-25  4405.709961  1196.689941\n",
       "2023-08-28  4433.310059  1206.800049\n",
       "2023-08-29  4497.629883  1222.819946\n",
       "2023-08-30  4514.870117  1228.420044\n",
       "2023-08-31  4507.660156  1226.890015\n",
       "\n",
       "[167 rows x 2 columns]"
      ]
     },
     "execution_count": 40,
     "metadata": {},
     "output_type": "execute_result"
    }
   ],
   "source": []
  }
 ],
 "metadata": {
  "kernelspec": {
   "display_name": ".venv",
   "language": "python",
   "name": "python3"
  },
  "language_info": {
   "codemirror_mode": {
    "name": "ipython",
    "version": 3
   },
   "file_extension": ".py",
   "mimetype": "text/x-python",
   "name": "python",
   "nbconvert_exporter": "python",
   "pygments_lexer": "ipython3",
   "version": "3.12.3"
  }
 },
 "nbformat": 4,
 "nbformat_minor": 2
}
