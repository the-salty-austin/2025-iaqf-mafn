{
 "cells": [
  {
   "cell_type": "code",
   "execution_count": 2,
   "metadata": {},
   "outputs": [],
   "source": [
    "import pandas as pd\n",
    "import numpy as np\n",
    "import yfinance as yf\n",
    "from datetime import date\n",
    "\n",
    "import plotly.graph_objects as go"
   ]
  },
  {
   "cell_type": "code",
   "execution_count": 8,
   "metadata": {},
   "outputs": [
    {
     "name": "stderr",
     "output_type": "stream",
     "text": [
      "[*********************100%***********************]  2 of 2 completed\n"
     ]
    },
    {
     "data": {
      "text/plain": [
       "Ticker\n",
       "SPY       0.000122\n",
       "^SP600    0.000190\n",
       "dtype: float64"
      ]
     },
     "execution_count": 8,
     "metadata": {},
     "output_type": "execute_result"
    }
   ],
   "source": [
    "df = yf.download(['SPY','^SP600'],start = date(2022,1,1),end =date(2025,1,1))['Close']\n",
    "df = np.log(df).diff()\n",
    "\n",
    "df.var(axis = 0)"
   ]
  },
  {
   "cell_type": "code",
   "execution_count": 4,
   "metadata": {},
   "outputs": [
    {
     "name": "stderr",
     "output_type": "stream",
     "text": [
      "[*********************100%***********************]  22 of 22 completed\n",
      "/var/folders/__/wgnmk9j14kl1krf80l2c6bfw0000gn/T/ipykernel_12006/2254076443.py:63: FutureWarning: The default fill_method='pad' in DataFrame.pct_change is deprecated and will be removed in a future version. Either fill in any non-leading NA values prior to calling pct_change or specify 'fill_method=None' to not fill NA values.\n",
      "  df_ret = df.pct_change().dropna()\n"
     ]
    }
   ],
   "source": [
    "sector_etfs = {\n",
    "    'Baseline': {\n",
    "        \"Large-Cap\": \"SPY\",\n",
    "        \"Small-Cap\": \"^SP600\"\n",
    "    },\n",
    "    \"Technology\": {\n",
    "        \"Large-Cap\": \"XLK\",\n",
    "        \"Small-Cap\": \"PSCT\"\n",
    "    },\n",
    "    \"Healthcare\": {\n",
    "        \"Large-Cap\": \"XLV\",\n",
    "        \"Small-Cap\": \"PSCH\"\n",
    "    },\n",
    "    \"Financials\": {\n",
    "        \"Large-Cap\": \"XLF\",\n",
    "        \"Small-Cap\": \"PSCF\"\n",
    "    },\n",
    "    \"Consumer Discretionary\": {\n",
    "        \"Large-Cap\": \"XLY\",\n",
    "        \"Small-Cap\": \"PSCD\"\n",
    "    },\n",
    "    \"Consumer Staples\": {\n",
    "        \"Large-Cap\": \"XLP\",\n",
    "        \"Small-Cap\": \"PSCC\"\n",
    "    },\n",
    "    \"Industrials\": {\n",
    "        \"Large-Cap\": \"XLI\",\n",
    "        \"Small-Cap\": \"PSCI\"\n",
    "    },\n",
    "    \"Energy\": {\n",
    "        \"Large-Cap\": \"XLE\",\n",
    "        \"Small-Cap\": \"PSCE\"\n",
    "    },\n",
    "    \"Materials\": {\n",
    "        \"Large-Cap\": \"XLB\",\n",
    "        \"Small-Cap\": \"PSCM\"\n",
    "    },\n",
    "    \"Utilities\": {\n",
    "        \"Large-Cap\": \"XLU\",\n",
    "        \"Small-Cap\": \"PSCU\"\n",
    "    },\n",
    "    \"Real Estate\": {\n",
    "        \"Large-Cap\": \"XLRE\",\n",
    "        \"Small-Cap\": \"ROOF\"\n",
    "    }\n",
    "}\n",
    "\n",
    "tickers = []\n",
    "small_cap = []\n",
    "large_cap = []\n",
    "for sector, d in sector_etfs.items():\n",
    "    t = [_ for _ in d.values()]\n",
    "    tickers += t\n",
    "    if sector != 'Baseline':\n",
    "        large_cap.append(t[0])\n",
    "        small_cap.append(t[1])\n",
    "\n",
    "start = date(2020,1,1)\n",
    "end = date(2025,1,1)\n",
    "\n",
    "df = yf.download(tickers,start,end,auto_adjust=True)['Close']\n",
    "\n",
    "df_ret = df.pct_change().dropna()"
   ]
  },
  {
   "cell_type": "code",
   "execution_count": 7,
   "metadata": {},
   "outputs": [
    {
     "data": {
      "text/plain": [
       "['XLK', 'XLV', 'XLF', 'XLY', 'XLP', 'XLI', 'XLE', 'XLB', 'XLU', 'XLRE']"
      ]
     },
     "execution_count": 7,
     "metadata": {},
     "output_type": "execute_result"
    }
   ],
   "source": [
    "large_cap"
   ]
  },
  {
   "cell_type": "code",
   "execution_count": 16,
   "metadata": {},
   "outputs": [
    {
     "name": "stderr",
     "output_type": "stream",
     "text": [
      "[*********************100%***********************]  22 of 22 completed\n",
      "/var/folders/__/wgnmk9j14kl1krf80l2c6bfw0000gn/T/ipykernel_97370/2066423775.py:6: FutureWarning: The default fill_method='pad' in DataFrame.pct_change is deprecated and will be removed in a future version. Either fill in any non-leading NA values prior to calling pct_change or specify 'fill_method=None' to not fill NA values.\n",
      "  df_ret = df.pct_change().dropna()\n"
     ]
    }
   ],
   "source": [
    "start = date(2020,1,1)\n",
    "end = date(2025,1,1)\n",
    "\n",
    "df = yf.download(tickers,start,end,auto_adjust=True)['Close']\n",
    "\n",
    "df_ret = df.pct_change().dropna()"
   ]
  },
  {
   "cell_type": "code",
   "execution_count": 50,
   "metadata": {},
   "outputs": [
    {
     "name": "stderr",
     "output_type": "stream",
     "text": [
      "[*********************100%***********************]  22 of 22 completed\n",
      "/var/folders/__/wgnmk9j14kl1krf80l2c6bfw0000gn/T/ipykernel_97370/3218508952.py:73: FutureWarning:\n",
      "\n",
      "The default fill_method='pad' in DataFrame.pct_change is deprecated and will be removed in a future version. Either fill in any non-leading NA values prior to calling pct_change or specify 'fill_method=None' to not fill NA values.\n",
      "\n",
      "/var/folders/__/wgnmk9j14kl1krf80l2c6bfw0000gn/T/ipykernel_97370/3218508952.py:112: FutureWarning:\n",
      "\n",
      "Setting an item of incompatible dtype is deprecated and will raise an error in a future version of pandas. Value '[1.00949701]' has dtype incompatible with int64, please explicitly cast to a compatible dtype first.\n",
      "\n",
      "/var/folders/__/wgnmk9j14kl1krf80l2c6bfw0000gn/T/ipykernel_97370/3218508952.py:115: FutureWarning:\n",
      "\n",
      "Series.__getitem__ treating keys as positions is deprecated. In a future version, integer keys will always be treated as labels (consistent with DataFrame behavior). To access a value by position, use `ser.iloc[pos]`\n",
      "\n"
     ]
    },
    {
     "name": "stdout",
     "output_type": "stream",
     "text": [
      "Final Cumulative Return of the Momentum Portfolio: 100.00%\n"
     ]
    }
   ],
   "source": [
    "import yfinance as yf\n",
    "import pandas as pd\n",
    "import numpy as np\n",
    "from datetime import date\n",
    "\n",
    "# Define the sector ETFs (already provided in your code)\n",
    "sector_etfs = {\n",
    "    'Baseline': {\n",
    "        \"Large-Cap\": \"SPY\",\n",
    "        \"Small-Cap\": \"^SP600\"\n",
    "    },\n",
    "    \"Technology\": {\n",
    "        \"Large-Cap\": \"XLK\",\n",
    "        \"Small-Cap\": \"PSCT\"\n",
    "    },\n",
    "    \"Healthcare\": {\n",
    "        \"Large-Cap\": \"XLV\",\n",
    "        \"Small-Cap\": \"PSCH\"\n",
    "    },\n",
    "    \"Financials\": {\n",
    "        \"Large-Cap\": \"XLF\",\n",
    "        \"Small-Cap\": \"PSCF\"\n",
    "    },\n",
    "    \"Consumer Discretionary\": {\n",
    "        \"Large-Cap\": \"XLY\",\n",
    "        \"Small-Cap\": \"PSCD\"\n",
    "    },\n",
    "    \"Consumer Staples\": {\n",
    "        \"Large-Cap\": \"XLP\",\n",
    "        \"Small-Cap\": \"PSCC\"\n",
    "    },\n",
    "    \"Industrials\": {\n",
    "        \"Large-Cap\": \"XLI\",\n",
    "        \"Small-Cap\": \"PSCI\"\n",
    "    },\n",
    "    \"Energy\": {\n",
    "        \"Large-Cap\": \"XLE\",\n",
    "        \"Small-Cap\": \"PSCE\"\n",
    "    },\n",
    "    \"Materials\": {\n",
    "        \"Large-Cap\": \"XLB\",\n",
    "        \"Small-CCap\": \"PSCM\"\n",
    "    },\n",
    "    \"Utilities\": {\n",
    "        \"Large-Cap\": \"XLU\",\n",
    "        \"Small-Cap\": \"PSCU\"\n",
    "    },\n",
    "    \"Real Estate\": {\n",
    "        \"Large-Cap\": \"XLRE\",\n",
    "        \"Small-Cap\": \"ROOF\"\n",
    "    }\n",
    "}\n",
    "\n",
    "# Initialize lists to store tickers\n",
    "tickers = []\n",
    "small_cap = []\n",
    "large_cap = []\n",
    "for sector, d in sector_etfs.items():\n",
    "    t = [_ for _ in d.values()]\n",
    "    tickers += t\n",
    "    if sector != 'Baseline':\n",
    "        large_cap.append(t[0])\n",
    "        small_cap.append(t[1])\n",
    "\n",
    "# Define the date range for data\n",
    "start = date(2020, 1, 1)\n",
    "end = date(2025, 1, 1)\n",
    "\n",
    "# Download the adjusted closing prices\n",
    "df = yf.download(tickers, start=start, end=end, auto_adjust=True)['Close']\n",
    "\n",
    "# Calculate daily returns\n",
    "df_ret = df.pct_change().dropna()\n",
    "\n",
    "# Function to calculate 6-month price momentum\n",
    "def calculate_momentum(df, period='60d'):\n",
    "    # Calculate the momentum as the percentage change over the last 180 days (6 months)\n",
    "    momentum = df.pct_change(periods=round(pd.Timedelta(period).days / 1)).iloc[-1]\n",
    "    return momentum\n",
    "\n",
    "# Create an empty list to store cumulative returns for the strategy\n",
    "cumulative_returns = pd.Series(1, index=df_ret.index)\n",
    "\n",
    "# Generate dates for rebalancing every 60 days\n",
    "rebalance_dates = pd.date_range(start=df_ret.index[0], end=df_ret.index[-1], freq='60D')\n",
    "\n",
    "# Loop through each rebalancing date to rebalance\n",
    "for date in rebalance_dates:\n",
    "    # Filter data up to the current rebalancing date\n",
    "    current_data = df_ret.loc[:date]\n",
    "\n",
    "    # Calculate the 6-month momentum for each ETF\n",
    "    momentum_scores = calculate_momentum(current_data)\n",
    "\n",
    "    # Create DataFrame for the momentum scores\n",
    "    momentum_df = pd.DataFrame(momentum_scores)\n",
    "    momentum_df.columns = ['Momentum']\n",
    "    momentum_df['Rank'] = momentum_df['Momentum'].rank(ascending=False)\n",
    "\n",
    "    # Select the top 3 Small-Cap ETFs for long positions and top 3 Large-Cap ETFs for short positions\n",
    "    top_small_cap_etfs = momentum_df.loc[small_cap, 'Momentum'].nlargest(3).index.tolist()\n",
    "    top_large_cap_etfs = momentum_df.loc[large_cap, 'Momentum'].nsmallest(3).index.tolist()\n",
    "\n",
    "    # Calculate portfolio returns (long positions are positive, short positions are negative)\n",
    "    long_returns = current_data[top_small_cap_etfs].mean(axis=1)  # Average returns of long ETFs\n",
    "    short_returns = current_data[top_large_cap_etfs].mean(axis=1)  # Average returns of short ETFs\n",
    "\n",
    "    # Compute portfolio returns (long minus short)\n",
    "    portfolio_returns = long_returns - short_returns\n",
    "\n",
    "    # Add portfolio returns to cumulative returns\n",
    "    cumulative_returns.loc[portfolio_returns.index] *= (1 + portfolio_returns)\n",
    "\n",
    "# Print final cumulative return\n",
    "print(f\"Final Cumulative Return of the Momentum Portfolio: {cumulative_returns[-1] * 100:.2f}%\")\n"
   ]
  },
  {
   "cell_type": "code",
   "execution_count": 51,
   "metadata": {},
   "outputs": [
    {
     "data": {
      "application/vnd.plotly.v1+json": {
       "config": {
        "plotlyServerURL": "https://plot.ly"
       },
       "data": [
        {
         "type": "scatter",
         "y": {
          "bdata": "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",
          "dtype": "f8"
         }
        }
       ],
       "layout": {
        "template": {
         "data": {
          "bar": [
           {
            "error_x": {
             "color": "#2a3f5f"
            },
            "error_y": {
             "color": "#2a3f5f"
            },
            "marker": {
             "line": {
              "color": "#E5ECF6",
              "width": 0.5
             },
             "pattern": {
              "fillmode": "overlay",
              "size": 10,
              "solidity": 0.2
             }
            },
            "type": "bar"
           }
          ],
          "barpolar": [
           {
            "marker": {
             "line": {
              "color": "#E5ECF6",
              "width": 0.5
             },
             "pattern": {
              "fillmode": "overlay",
              "size": 10,
              "solidity": 0.2
             }
            },
            "type": "barpolar"
           }
          ],
          "carpet": [
           {
            "aaxis": {
             "endlinecolor": "#2a3f5f",
             "gridcolor": "white",
             "linecolor": "white",
             "minorgridcolor": "white",
             "startlinecolor": "#2a3f5f"
            },
            "baxis": {
             "endlinecolor": "#2a3f5f",
             "gridcolor": "white",
             "linecolor": "white",
             "minorgridcolor": "white",
             "startlinecolor": "#2a3f5f"
            },
            "type": "carpet"
           }
          ],
          "choropleth": [
           {
            "colorbar": {
             "outlinewidth": 0,
             "ticks": ""
            },
            "type": "choropleth"
           }
          ],
          "contour": [
           {
            "colorbar": {
             "outlinewidth": 0,
             "ticks": ""
            },
            "colorscale": [
             [
              0,
              "#0d0887"
             ],
             [
              0.1111111111111111,
              "#46039f"
             ],
             [
              0.2222222222222222,
              "#7201a8"
             ],
             [
              0.3333333333333333,
              "#9c179e"
             ],
             [
              0.4444444444444444,
              "#bd3786"
             ],
             [
              0.5555555555555556,
              "#d8576b"
             ],
             [
              0.6666666666666666,
              "#ed7953"
             ],
             [
              0.7777777777777778,
              "#fb9f3a"
             ],
             [
              0.8888888888888888,
              "#fdca26"
             ],
             [
              1,
              "#f0f921"
             ]
            ],
            "type": "contour"
           }
          ],
          "contourcarpet": [
           {
            "colorbar": {
             "outlinewidth": 0,
             "ticks": ""
            },
            "type": "contourcarpet"
           }
          ],
          "heatmap": [
           {
            "colorbar": {
             "outlinewidth": 0,
             "ticks": ""
            },
            "colorscale": [
             [
              0,
              "#0d0887"
             ],
             [
              0.1111111111111111,
              "#46039f"
             ],
             [
              0.2222222222222222,
              "#7201a8"
             ],
             [
              0.3333333333333333,
              "#9c179e"
             ],
             [
              0.4444444444444444,
              "#bd3786"
             ],
             [
              0.5555555555555556,
              "#d8576b"
             ],
             [
              0.6666666666666666,
              "#ed7953"
             ],
             [
              0.7777777777777778,
              "#fb9f3a"
             ],
             [
              0.8888888888888888,
              "#fdca26"
             ],
             [
              1,
              "#f0f921"
             ]
            ],
            "type": "heatmap"
           }
          ],
          "histogram": [
           {
            "marker": {
             "pattern": {
              "fillmode": "overlay",
              "size": 10,
              "solidity": 0.2
             }
            },
            "type": "histogram"
           }
          ],
          "histogram2d": [
           {
            "colorbar": {
             "outlinewidth": 0,
             "ticks": ""
            },
            "colorscale": [
             [
              0,
              "#0d0887"
             ],
             [
              0.1111111111111111,
              "#46039f"
             ],
             [
              0.2222222222222222,
              "#7201a8"
             ],
             [
              0.3333333333333333,
              "#9c179e"
             ],
             [
              0.4444444444444444,
              "#bd3786"
             ],
             [
              0.5555555555555556,
              "#d8576b"
             ],
             [
              0.6666666666666666,
              "#ed7953"
             ],
             [
              0.7777777777777778,
              "#fb9f3a"
             ],
             [
              0.8888888888888888,
              "#fdca26"
             ],
             [
              1,
              "#f0f921"
             ]
            ],
            "type": "histogram2d"
           }
          ],
          "histogram2dcontour": [
           {
            "colorbar": {
             "outlinewidth": 0,
             "ticks": ""
            },
            "colorscale": [
             [
              0,
              "#0d0887"
             ],
             [
              0.1111111111111111,
              "#46039f"
             ],
             [
              0.2222222222222222,
              "#7201a8"
             ],
             [
              0.3333333333333333,
              "#9c179e"
             ],
             [
              0.4444444444444444,
              "#bd3786"
             ],
             [
              0.5555555555555556,
              "#d8576b"
             ],
             [
              0.6666666666666666,
              "#ed7953"
             ],
             [
              0.7777777777777778,
              "#fb9f3a"
             ],
             [
              0.8888888888888888,
              "#fdca26"
             ],
             [
              1,
              "#f0f921"
             ]
            ],
            "type": "histogram2dcontour"
           }
          ],
          "mesh3d": [
           {
            "colorbar": {
             "outlinewidth": 0,
             "ticks": ""
            },
            "type": "mesh3d"
           }
          ],
          "parcoords": [
           {
            "line": {
             "colorbar": {
              "outlinewidth": 0,
              "ticks": ""
             }
            },
            "type": "parcoords"
           }
          ],
          "pie": [
           {
            "automargin": true,
            "type": "pie"
           }
          ],
          "scatter": [
           {
            "fillpattern": {
             "fillmode": "overlay",
             "size": 10,
             "solidity": 0.2
            },
            "type": "scatter"
           }
          ],
          "scatter3d": [
           {
            "line": {
             "colorbar": {
              "outlinewidth": 0,
              "ticks": ""
             }
            },
            "marker": {
             "colorbar": {
              "outlinewidth": 0,
              "ticks": ""
             }
            },
            "type": "scatter3d"
           }
          ],
          "scattercarpet": [
           {
            "marker": {
             "colorbar": {
              "outlinewidth": 0,
              "ticks": ""
             }
            },
            "type": "scattercarpet"
           }
          ],
          "scattergeo": [
           {
            "marker": {
             "colorbar": {
              "outlinewidth": 0,
              "ticks": ""
             }
            },
            "type": "scattergeo"
           }
          ],
          "scattergl": [
           {
            "marker": {
             "colorbar": {
              "outlinewidth": 0,
              "ticks": ""
             }
            },
            "type": "scattergl"
           }
          ],
          "scattermap": [
           {
            "marker": {
             "colorbar": {
              "outlinewidth": 0,
              "ticks": ""
             }
            },
            "type": "scattermap"
           }
          ],
          "scattermapbox": [
           {
            "marker": {
             "colorbar": {
              "outlinewidth": 0,
              "ticks": ""
             }
            },
            "type": "scattermapbox"
           }
          ],
          "scatterpolar": [
           {
            "marker": {
             "colorbar": {
              "outlinewidth": 0,
              "ticks": ""
             }
            },
            "type": "scatterpolar"
           }
          ],
          "scatterpolargl": [
           {
            "marker": {
             "colorbar": {
              "outlinewidth": 0,
              "ticks": ""
             }
            },
            "type": "scatterpolargl"
           }
          ],
          "scatterternary": [
           {
            "marker": {
             "colorbar": {
              "outlinewidth": 0,
              "ticks": ""
             }
            },
            "type": "scatterternary"
           }
          ],
          "surface": [
           {
            "colorbar": {
             "outlinewidth": 0,
             "ticks": ""
            },
            "colorscale": [
             [
              0,
              "#0d0887"
             ],
             [
              0.1111111111111111,
              "#46039f"
             ],
             [
              0.2222222222222222,
              "#7201a8"
             ],
             [
              0.3333333333333333,
              "#9c179e"
             ],
             [
              0.4444444444444444,
              "#bd3786"
             ],
             [
              0.5555555555555556,
              "#d8576b"
             ],
             [
              0.6666666666666666,
              "#ed7953"
             ],
             [
              0.7777777777777778,
              "#fb9f3a"
             ],
             [
              0.8888888888888888,
              "#fdca26"
             ],
             [
              1,
              "#f0f921"
             ]
            ],
            "type": "surface"
           }
          ],
          "table": [
           {
            "cells": {
             "fill": {
              "color": "#EBF0F8"
             },
             "line": {
              "color": "white"
             }
            },
            "header": {
             "fill": {
              "color": "#C8D4E3"
             },
             "line": {
              "color": "white"
             }
            },
            "type": "table"
           }
          ]
         },
         "layout": {
          "annotationdefaults": {
           "arrowcolor": "#2a3f5f",
           "arrowhead": 0,
           "arrowwidth": 1
          },
          "autotypenumbers": "strict",
          "coloraxis": {
           "colorbar": {
            "outlinewidth": 0,
            "ticks": ""
           }
          },
          "colorscale": {
           "diverging": [
            [
             0,
             "#8e0152"
            ],
            [
             0.1,
             "#c51b7d"
            ],
            [
             0.2,
             "#de77ae"
            ],
            [
             0.3,
             "#f1b6da"
            ],
            [
             0.4,
             "#fde0ef"
            ],
            [
             0.5,
             "#f7f7f7"
            ],
            [
             0.6,
             "#e6f5d0"
            ],
            [
             0.7,
             "#b8e186"
            ],
            [
             0.8,
             "#7fbc41"
            ],
            [
             0.9,
             "#4d9221"
            ],
            [
             1,
             "#276419"
            ]
           ],
           "sequential": [
            [
             0,
             "#0d0887"
            ],
            [
             0.1111111111111111,
             "#46039f"
            ],
            [
             0.2222222222222222,
             "#7201a8"
            ],
            [
             0.3333333333333333,
             "#9c179e"
            ],
            [
             0.4444444444444444,
             "#bd3786"
            ],
            [
             0.5555555555555556,
             "#d8576b"
            ],
            [
             0.6666666666666666,
             "#ed7953"
            ],
            [
             0.7777777777777778,
             "#fb9f3a"
            ],
            [
             0.8888888888888888,
             "#fdca26"
            ],
            [
             1,
             "#f0f921"
            ]
           ],
           "sequentialminus": [
            [
             0,
             "#0d0887"
            ],
            [
             0.1111111111111111,
             "#46039f"
            ],
            [
             0.2222222222222222,
             "#7201a8"
            ],
            [
             0.3333333333333333,
             "#9c179e"
            ],
            [
             0.4444444444444444,
             "#bd3786"
            ],
            [
             0.5555555555555556,
             "#d8576b"
            ],
            [
             0.6666666666666666,
             "#ed7953"
            ],
            [
             0.7777777777777778,
             "#fb9f3a"
            ],
            [
             0.8888888888888888,
             "#fdca26"
            ],
            [
             1,
             "#f0f921"
            ]
           ]
          },
          "colorway": [
           "#636efa",
           "#EF553B",
           "#00cc96",
           "#ab63fa",
           "#FFA15A",
           "#19d3f3",
           "#FF6692",
           "#B6E880",
           "#FF97FF",
           "#FECB52"
          ],
          "font": {
           "color": "#2a3f5f"
          },
          "geo": {
           "bgcolor": "white",
           "lakecolor": "white",
           "landcolor": "#E5ECF6",
           "showlakes": true,
           "showland": true,
           "subunitcolor": "white"
          },
          "hoverlabel": {
           "align": "left"
          },
          "hovermode": "closest",
          "mapbox": {
           "style": "light"
          },
          "paper_bgcolor": "white",
          "plot_bgcolor": "#E5ECF6",
          "polar": {
           "angularaxis": {
            "gridcolor": "white",
            "linecolor": "white",
            "ticks": ""
           },
           "bgcolor": "#E5ECF6",
           "radialaxis": {
            "gridcolor": "white",
            "linecolor": "white",
            "ticks": ""
           }
          },
          "scene": {
           "xaxis": {
            "backgroundcolor": "#E5ECF6",
            "gridcolor": "white",
            "gridwidth": 2,
            "linecolor": "white",
            "showbackground": true,
            "ticks": "",
            "zerolinecolor": "white"
           },
           "yaxis": {
            "backgroundcolor": "#E5ECF6",
            "gridcolor": "white",
            "gridwidth": 2,
            "linecolor": "white",
            "showbackground": true,
            "ticks": "",
            "zerolinecolor": "white"
           },
           "zaxis": {
            "backgroundcolor": "#E5ECF6",
            "gridcolor": "white",
            "gridwidth": 2,
            "linecolor": "white",
            "showbackground": true,
            "ticks": "",
            "zerolinecolor": "white"
           }
          },
          "shapedefaults": {
           "line": {
            "color": "#2a3f5f"
           }
          },
          "ternary": {
           "aaxis": {
            "gridcolor": "white",
            "linecolor": "white",
            "ticks": ""
           },
           "baxis": {
            "gridcolor": "white",
            "linecolor": "white",
            "ticks": ""
           },
           "bgcolor": "#E5ECF6",
           "caxis": {
            "gridcolor": "white",
            "linecolor": "white",
            "ticks": ""
           }
          },
          "title": {
           "x": 0.05
          },
          "xaxis": {
           "automargin": true,
           "gridcolor": "white",
           "linecolor": "white",
           "ticks": "",
           "title": {
            "standoff": 15
           },
           "zerolinecolor": "white",
           "zerolinewidth": 2
          },
          "yaxis": {
           "automargin": true,
           "gridcolor": "white",
           "linecolor": "white",
           "ticks": "",
           "title": {
            "standoff": 15
           },
           "zerolinecolor": "white",
           "zerolinewidth": 2
          }
         }
        }
       }
      }
     },
     "metadata": {},
     "output_type": "display_data"
    }
   ],
   "source": [
    "fig = go.Figure()\n",
    "\n",
    "fig.add_trace(\n",
    "    go.Scatter(\n",
    "        y = cumulative_returns\n",
    "    )\n",
    ")\n",
    "\n",
    "fig.show()"
   ]
  },
  {
   "cell_type": "code",
   "execution_count": null,
   "metadata": {},
   "outputs": [],
   "source": []
  }
 ],
 "metadata": {
  "kernelspec": {
   "display_name": ".venv",
   "language": "python",
   "name": "python3"
  },
  "language_info": {
   "codemirror_mode": {
    "name": "ipython",
    "version": 3
   },
   "file_extension": ".py",
   "mimetype": "text/x-python",
   "name": "python",
   "nbconvert_exporter": "python",
   "pygments_lexer": "ipython3",
   "version": "3.12.3"
  }
 },
 "nbformat": 4,
 "nbformat_minor": 2
}
