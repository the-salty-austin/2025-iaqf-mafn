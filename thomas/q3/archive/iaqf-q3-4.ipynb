{
 "cells": [
  {
   "cell_type": "code",
   "execution_count": 7,
   "metadata": {},
   "outputs": [],
   "source": [
    "import pandas as pd\n",
    "import numpy as np\n",
    "import plotly.graph_objects as go\n",
    "import yfinance as yf\n",
    "from datetime import date"
   ]
  },
  {
   "cell_type": "code",
   "execution_count": 48,
   "metadata": {},
   "outputs": [
    {
     "name": "stderr",
     "output_type": "stream",
     "text": [
      "[*********************100%***********************]  1 of 1 completed\n"
     ]
    }
   ],
   "source": [
    "df = pd.read_parquet('../../data/wrds/options_prices_2020_2023.parquet')\n",
    "\n",
    "prices = yf.download('^GSPC',start = date(2019,1,1),end = date(2023,8,31))['Close']\n",
    "returns = prices.pct_change().dropna()\n",
    "vol = returns.rolling(252).std() * np.sqrt(252)\n",
    "vol.index = pd.to_datetime(vol.index).date\n",
    "vol = vol[vol.index >= date(2020,1,1)]"
   ]
  },
  {
   "cell_type": "code",
   "execution_count": 50,
   "metadata": {},
   "outputs": [],
   "source": [
    "filter = ((df['secid'] == 108105) &     # SPX \n",
    "          (df['cp_flag'] == 'P')  &     # Puts\n",
    "        (df['delta'] >= -0.51) & (df['delta'] <= -0.49)  # ATM\n",
    ")\n",
    "\n",
    "df = (df.loc[filter,:]\n",
    " .sort_values(by = ['date','delta'])\n",
    " .drop_duplicates(subset=['date'],keep='first')\n",
    ")"
   ]
  },
  {
   "cell_type": "code",
   "execution_count": 51,
   "metadata": {},
   "outputs": [
    {
     "data": {
      "application/vnd.plotly.v1+json": {
       "config": {
        "plotlyServerURL": "https://plot.ly"
       },
       "data": [
        {
         "name": "bid",
         "opacity": 1,
         "type": "scatter",
         "x": [
          "2020-01-02",
          "2020-01-03",
          "2020-01-06",
          "2020-01-07",
          "2020-01-08",
          "2020-01-09",
          "2020-01-10",
          "2020-01-13",
          "2020-01-14",
          "2020-01-15",
          "2020-01-16",
          "2020-01-17",
          "2020-01-21",
          "2020-01-22",
          "2020-01-23",
          "2020-01-24",
          "2020-01-27",
          "2020-01-28",
          "2020-01-29",
          "2020-01-30",
          "2020-01-31",
          "2020-02-03",
          "2020-02-04",
          "2020-02-05",
          "2020-02-06",
          "2020-02-07",
          "2020-02-10",
          "2020-02-11",
          "2020-02-12",
          "2020-02-13",
          "2020-02-14",
          "2020-02-18",
          "2020-02-19",
          "2020-02-20",
          "2020-02-21",
          "2020-02-24",
          "2020-02-25",
          "2020-02-26",
          "2020-02-27",
          "2020-02-28",
          "2020-03-02",
          "2020-03-03",
          "2020-03-04",
          "2020-03-05",
          "2020-03-06",
          "2020-03-09",
          "2020-03-10",
          "2020-03-11",
          "2020-03-12",
          "2020-03-13",
          "2020-03-16",
          "2020-03-17",
          "2020-03-18",
          "2020-03-19",
          "2020-03-20",
          "2020-03-23",
          "2020-03-24",
          "2020-03-25",
          "2020-03-26",
          "2020-03-27",
          "2020-03-30",
          "2020-03-31",
          "2020-04-01",
          "2020-04-02",
          "2020-04-03",
          "2020-04-06",
          "2020-04-07",
          "2020-04-08",
          "2020-04-09",
          "2020-04-13",
          "2020-04-14",
          "2020-04-15",
          "2020-04-16",
          "2020-04-17",
          "2020-04-20",
          "2020-04-21",
          "2020-04-22",
          "2020-04-23",
          "2020-04-24",
          "2020-04-27",
          "2020-04-28",
          "2020-04-29",
          "2020-04-30",
          "2020-05-01",
          "2020-05-04",
          "2020-05-05",
          "2020-05-06",
          "2020-05-07",
          "2020-05-08",
          "2020-05-11",
          "2020-05-12",
          "2020-05-13",
          "2020-05-14",
          "2020-05-15",
          "2020-05-18",
          "2020-05-19",
          "2020-05-20",
          "2020-05-21",
          "2020-05-22",
          "2020-05-26",
          "2020-05-27",
          "2020-05-28",
          "2020-05-29",
          "2020-06-01",
          "2020-06-02",
          "2020-06-03",
          "2020-06-04",
          "2020-06-05",
          "2020-06-09",
          "2020-06-10",
          "2020-06-11",
          "2020-06-12",
          "2020-06-15",
          "2020-06-16",
          "2020-06-17",
          "2020-06-18",
          "2020-06-19",
          "2020-06-22",
          "2020-06-23",
          "2020-06-24",
          "2020-06-25",
          "2020-06-26",
          "2020-06-29",
          "2020-06-30",
          "2020-07-01",
          "2020-07-02",
          "2020-07-06",
          "2020-07-07",
          "2020-07-08",
          "2020-07-09",
          "2020-07-10",
          "2020-07-13",
          "2020-07-14",
          "2020-07-15",
          "2020-07-16",
          "2020-07-17",
          "2020-07-20",
          "2020-07-21",
          "2020-07-22",
          "2020-07-23",
          "2020-07-24",
          "2020-07-27",
          "2020-07-28",
          "2020-07-29",
          "2020-07-30",
          "2020-07-31",
          "2020-08-03",
          "2020-08-04",
          "2020-08-05",
          "2020-08-06",
          "2020-08-07",
          "2020-08-10",
          "2020-08-11",
          "2020-08-12",
          "2020-08-13",
          "2020-08-14",
          "2020-08-17",
          "2020-08-18",
          "2020-08-19",
          "2020-08-20",
          "2020-08-21",
          "2020-08-24",
          "2020-08-25",
          "2020-08-26",
          "2020-08-27",
          "2020-08-28",
          "2020-08-31",
          "2020-09-01",
          "2020-09-02",
          "2020-09-03",
          "2020-09-04",
          "2020-09-08",
          "2020-09-09",
          "2020-09-10",
          "2020-09-11",
          "2020-09-14",
          "2020-09-15",
          "2020-09-16",
          "2020-09-17",
          "2020-09-18",
          "2020-09-21",
          "2020-09-22",
          "2020-09-23",
          "2020-09-24",
          "2020-09-25",
          "2020-09-28",
          "2020-09-29",
          "2020-09-30",
          "2020-10-01",
          "2020-10-02",
          "2020-10-05",
          "2020-10-06",
          "2020-10-07",
          "2020-10-08",
          "2020-10-09",
          "2020-10-13",
          "2020-10-14",
          "2020-10-15",
          "2020-10-16",
          "2020-10-19",
          "2020-10-20",
          "2020-10-21",
          "2020-10-22",
          "2020-10-23",
          "2020-10-26",
          "2020-10-27",
          "2020-10-28",
          "2020-10-29",
          "2020-10-30",
          "2020-11-02",
          "2020-11-03",
          "2020-11-04",
          "2020-11-05",
          "2020-11-06",
          "2020-11-09",
          "2020-11-10",
          "2020-11-11",
          "2020-11-12",
          "2020-11-13",
          "2020-11-16",
          "2020-11-17",
          "2020-11-18",
          "2020-11-19",
          "2020-11-20",
          "2020-11-23",
          "2020-11-24",
          "2020-11-25",
          "2020-11-27",
          "2020-11-30",
          "2020-12-01",
          "2020-12-02",
          "2020-12-03",
          "2020-12-04",
          "2020-12-08",
          "2020-12-09",
          "2020-12-10",
          "2020-12-11",
          "2020-12-14",
          "2020-12-15",
          "2020-12-16",
          "2020-12-17",
          "2020-12-18",
          "2020-12-21",
          "2020-12-22",
          "2020-12-23",
          "2020-12-24",
          "2020-12-28",
          "2020-12-29",
          "2020-12-30",
          "2020-12-31",
          "2021-01-04",
          "2021-01-05",
          "2021-01-06",
          "2021-01-07",
          "2021-01-08",
          "2021-01-11",
          "2021-01-12",
          "2021-01-13",
          "2021-01-14",
          "2021-01-15",
          "2021-01-19",
          "2021-01-20",
          "2021-01-21",
          "2021-01-22",
          "2021-01-25",
          "2021-01-26",
          "2021-01-27",
          "2021-01-28",
          "2021-01-29",
          "2021-02-01",
          "2021-02-02",
          "2021-02-03",
          "2021-02-04",
          "2021-02-05",
          "2021-02-08",
          "2021-02-09",
          "2021-02-10",
          "2021-02-11",
          "2021-02-12",
          "2021-02-16",
          "2021-02-17",
          "2021-02-18",
          "2021-02-19",
          "2021-02-22",
          "2021-02-23",
          "2021-02-24",
          "2021-02-25",
          "2021-02-26",
          "2021-03-01",
          "2021-03-02",
          "2021-03-03",
          "2021-03-04",
          "2021-03-05",
          "2021-03-08",
          "2021-03-09",
          "2021-03-10",
          "2021-03-11",
          "2021-03-12",
          "2021-03-15",
          "2021-03-16",
          "2021-03-17",
          "2021-03-18",
          "2021-03-19",
          "2021-03-22",
          "2021-03-23",
          "2021-03-24",
          "2021-03-25",
          "2021-03-26",
          "2021-03-29",
          "2021-03-30",
          "2021-03-31",
          "2021-04-01",
          "2021-04-05",
          "2021-04-06",
          "2021-04-07",
          "2021-04-08",
          "2021-04-09",
          "2021-04-12",
          "2021-04-13",
          "2021-04-14",
          "2021-04-15",
          "2021-04-16",
          "2021-04-19",
          "2021-04-20",
          "2021-04-21",
          "2021-04-22",
          "2021-04-23",
          "2021-04-27",
          "2021-04-28",
          "2021-04-29",
          "2021-04-30",
          "2021-05-03",
          "2021-05-04",
          "2021-05-05",
          "2021-05-06",
          "2021-05-07",
          "2021-05-10",
          "2021-05-11",
          "2021-05-12",
          "2021-05-13",
          "2021-05-14",
          "2021-05-17",
          "2021-05-18",
          "2021-05-19",
          "2021-05-20",
          "2021-05-21",
          "2021-05-24",
          "2021-05-25",
          "2021-05-26",
          "2021-05-27",
          "2021-05-28",
          "2021-06-01",
          "2021-06-02",
          "2021-06-03",
          "2021-06-04",
          "2021-06-07",
          "2021-06-08",
          "2021-06-09",
          "2021-06-10",
          "2021-06-14",
          "2021-06-16",
          "2021-06-17",
          "2021-06-18",
          "2021-06-21",
          "2021-06-22",
          "2021-06-23",
          "2021-06-24",
          "2021-06-25",
          "2021-06-28",
          "2021-06-29",
          "2021-06-30",
          "2021-07-01",
          "2021-07-02",
          "2021-07-06",
          "2021-07-07",
          "2021-07-08",
          "2021-07-09",
          "2021-07-12",
          "2021-07-13",
          "2021-07-14",
          "2021-07-15",
          "2021-07-16",
          "2021-07-19",
          "2021-07-20",
          "2021-07-21",
          "2021-07-22",
          "2021-07-23",
          "2021-07-26",
          "2021-07-27",
          "2021-07-28",
          "2021-07-29",
          "2021-07-30",
          "2021-08-02",
          "2021-08-03",
          "2021-08-04",
          "2021-08-05",
          "2021-08-06",
          "2021-08-09",
          "2021-08-10",
          "2021-08-11",
          "2021-08-12",
          "2021-08-13",
          "2021-08-16",
          "2021-08-17",
          "2021-08-18",
          "2021-08-19",
          "2021-08-20",
          "2021-08-23",
          "2021-08-24",
          "2021-08-25",
          "2021-08-26",
          "2021-08-27",
          "2021-08-30",
          "2021-08-31",
          "2021-09-01",
          "2021-09-02",
          "2021-09-03",
          "2021-09-07",
          "2021-09-08",
          "2021-09-09",
          "2021-09-10",
          "2021-09-13",
          "2021-09-14",
          "2021-09-15",
          "2021-09-16",
          "2021-09-17",
          "2021-09-20",
          "2021-09-21",
          "2021-09-22",
          "2021-09-23",
          "2021-09-24",
          "2021-09-27",
          "2021-09-28",
          "2021-09-29",
          "2021-09-30",
          "2021-10-01",
          "2021-10-04",
          "2021-10-05",
          "2021-10-06",
          "2021-10-07",
          "2021-10-08",
          "2021-10-11",
          "2021-10-12",
          "2021-10-13",
          "2021-10-14",
          "2021-10-15",
          "2021-10-18",
          "2021-10-19",
          "2021-10-20",
          "2021-10-21",
          "2021-10-22",
          "2021-10-25",
          "2021-10-26",
          "2021-10-27",
          "2021-10-28",
          "2021-10-29",
          "2021-11-01",
          "2021-11-02",
          "2021-11-03",
          "2021-11-04",
          "2021-11-05",
          "2021-11-08",
          "2021-11-09",
          "2021-11-10",
          "2021-11-11",
          "2021-11-12",
          "2021-11-15",
          "2021-11-16",
          "2021-11-17",
          "2021-11-18",
          "2021-11-19",
          "2021-11-22",
          "2021-11-23",
          "2021-11-24",
          "2021-11-26",
          "2021-11-29",
          "2021-11-30",
          "2021-12-01",
          "2021-12-02",
          "2021-12-03",
          "2021-12-06",
          "2021-12-07",
          "2021-12-08",
          "2021-12-09",
          "2021-12-10",
          "2021-12-13",
          "2021-12-14",
          "2021-12-15",
          "2021-12-16",
          "2021-12-17",
          "2021-12-20",
          "2021-12-21",
          "2021-12-22",
          "2021-12-23",
          "2021-12-28",
          "2021-12-29",
          "2021-12-30",
          "2021-12-31",
          "2022-01-03",
          "2022-01-04",
          "2022-01-05",
          "2022-01-06",
          "2022-01-07",
          "2022-01-10",
          "2022-01-11",
          "2022-01-12",
          "2022-01-13",
          "2022-01-14",
          "2022-01-18",
          "2022-01-19",
          "2022-01-20",
          "2022-01-21",
          "2022-01-24",
          "2022-01-25",
          "2022-01-26",
          "2022-01-27",
          "2022-01-28",
          "2022-01-31",
          "2022-02-01",
          "2022-02-02",
          "2022-02-03",
          "2022-02-04",
          "2022-02-07",
          "2022-02-08",
          "2022-02-09",
          "2022-02-10",
          "2022-02-11",
          "2022-02-14",
          "2022-02-15",
          "2022-02-16",
          "2022-02-17",
          "2022-02-18",
          "2022-02-22",
          "2022-02-23",
          "2022-02-24",
          "2022-02-25",
          "2022-02-28",
          "2022-03-01",
          "2022-03-02",
          "2022-03-03",
          "2022-03-04",
          "2022-03-07",
          "2022-03-08",
          "2022-03-09",
          "2022-03-10",
          "2022-03-11",
          "2022-03-14",
          "2022-03-15",
          "2022-03-16",
          "2022-03-17",
          "2022-03-18",
          "2022-03-21",
          "2022-03-22",
          "2022-03-23",
          "2022-03-24",
          "2022-03-25",
          "2022-03-28",
          "2022-03-29",
          "2022-03-30",
          "2022-03-31",
          "2022-04-01",
          "2022-04-04",
          "2022-04-05",
          "2022-04-06",
          "2022-04-07",
          "2022-04-08",
          "2022-04-11",
          "2022-04-12",
          "2022-04-13",
          "2022-04-14",
          "2022-04-18",
          "2022-04-19",
          "2022-04-20",
          "2022-04-21",
          "2022-04-22",
          "2022-04-25",
          "2022-04-26",
          "2022-04-27",
          "2022-04-28",
          "2022-04-29",
          "2022-05-02",
          "2022-05-03",
          "2022-05-04",
          "2022-05-05",
          "2022-05-06",
          "2022-05-09",
          "2022-05-10",
          "2022-05-11",
          "2022-05-12",
          "2022-05-13",
          "2022-05-16",
          "2022-05-17",
          "2022-05-18",
          "2022-05-19",
          "2022-05-20",
          "2022-05-23",
          "2022-05-24",
          "2022-05-25",
          "2022-05-26",
          "2022-05-27",
          "2022-05-31",
          "2022-06-01",
          "2022-06-02",
          "2022-06-03",
          "2022-06-06",
          "2022-06-07",
          "2022-06-08",
          "2022-06-09",
          "2022-06-10",
          "2022-06-13",
          "2022-06-14",
          "2022-06-15",
          "2022-06-16",
          "2022-06-17",
          "2022-06-21",
          "2022-06-22",
          "2022-06-23",
          "2022-06-24",
          "2022-06-27",
          "2022-06-28",
          "2022-06-29",
          "2022-06-30",
          "2022-07-01",
          "2022-07-05",
          "2022-07-06",
          "2022-07-07",
          "2022-07-08",
          "2022-07-11",
          "2022-07-12",
          "2022-07-13",
          "2022-07-14",
          "2022-07-15",
          "2022-07-18",
          "2022-07-19",
          "2022-07-20",
          "2022-07-21",
          "2022-07-22",
          "2022-07-25",
          "2022-07-26",
          "2022-07-27",
          "2022-07-28",
          "2022-07-29",
          "2022-08-01",
          "2022-08-02",
          "2022-08-03",
          "2022-08-04",
          "2022-08-05",
          "2022-08-08",
          "2022-08-09",
          "2022-08-10",
          "2022-08-11",
          "2022-08-12",
          "2022-08-15",
          "2022-08-16",
          "2022-08-17",
          "2022-08-18",
          "2022-08-19",
          "2022-08-22",
          "2022-08-23",
          "2022-08-24",
          "2022-08-25",
          "2022-08-26",
          "2022-08-29",
          "2022-08-30",
          "2022-08-31",
          "2022-09-01",
          "2022-09-02",
          "2022-09-06",
          "2022-09-07",
          "2022-09-08",
          "2022-09-09",
          "2022-09-12",
          "2022-09-13",
          "2022-09-14",
          "2022-09-15",
          "2022-09-16",
          "2022-09-19",
          "2022-09-20",
          "2022-09-21",
          "2022-09-22",
          "2022-09-23",
          "2022-09-26",
          "2022-09-27",
          "2022-09-28",
          "2022-09-29",
          "2022-09-30",
          "2022-10-03",
          "2022-10-04",
          "2022-10-05",
          "2022-10-06",
          "2022-10-07",
          "2022-10-10",
          "2022-10-11",
          "2022-10-12",
          "2022-10-13",
          "2022-10-14",
          "2022-10-17",
          "2022-10-18",
          "2022-10-19",
          "2022-10-20",
          "2022-10-21",
          "2022-10-24",
          "2022-10-25",
          "2022-10-26",
          "2022-10-27",
          "2022-10-28",
          "2022-10-31",
          "2022-11-01",
          "2022-11-02",
          "2022-11-03",
          "2022-11-04",
          "2022-11-07",
          "2022-11-08",
          "2022-11-09",
          "2022-11-10",
          "2022-11-11",
          "2022-11-14",
          "2022-11-15",
          "2022-11-16",
          "2022-11-17",
          "2022-11-18",
          "2022-11-21",
          "2022-11-22",
          "2022-11-23",
          "2022-11-25",
          "2022-11-28",
          "2022-11-29",
          "2022-11-30",
          "2022-12-01",
          "2022-12-02",
          "2022-12-05",
          "2022-12-06",
          "2022-12-07",
          "2022-12-08",
          "2022-12-09",
          "2022-12-12",
          "2022-12-13",
          "2022-12-14",
          "2022-12-15",
          "2022-12-16",
          "2022-12-19",
          "2022-12-20",
          "2022-12-21",
          "2022-12-22",
          "2022-12-23",
          "2022-12-27",
          "2022-12-28",
          "2022-12-29",
          "2022-12-30",
          "2023-01-03",
          "2023-01-04",
          "2023-01-05",
          "2023-01-06",
          "2023-01-09",
          "2023-01-10",
          "2023-01-11",
          "2023-01-12",
          "2023-01-13",
          "2023-01-17",
          "2023-01-18",
          "2023-01-19",
          "2023-01-20",
          "2023-01-23",
          "2023-01-24",
          "2023-01-25",
          "2023-01-26",
          "2023-01-27",
          "2023-01-30",
          "2023-01-31",
          "2023-02-01",
          "2023-02-02",
          "2023-02-03",
          "2023-02-06",
          "2023-02-07",
          "2023-02-08",
          "2023-02-09",
          "2023-02-10",
          "2023-02-13",
          "2023-02-14",
          "2023-02-15",
          "2023-02-16",
          "2023-02-17",
          "2023-02-21",
          "2023-02-22",
          "2023-02-23",
          "2023-02-24",
          "2023-02-27",
          "2023-02-28",
          "2023-03-01",
          "2023-03-02",
          "2023-03-03",
          "2023-03-06",
          "2023-03-07",
          "2023-03-08",
          "2023-03-09",
          "2023-03-10",
          "2023-03-13",
          "2023-03-14",
          "2023-03-15",
          "2023-03-16",
          "2023-03-17",
          "2023-03-20",
          "2023-03-21",
          "2023-03-22",
          "2023-03-23",
          "2023-03-24",
          "2023-03-27",
          "2023-03-28",
          "2023-03-29",
          "2023-03-30",
          "2023-03-31",
          "2023-04-03",
          "2023-04-04",
          "2023-04-05",
          "2023-04-06",
          "2023-04-10",
          "2023-04-11",
          "2023-04-12",
          "2023-04-13",
          "2023-04-14",
          "2023-04-17",
          "2023-04-18",
          "2023-04-19",
          "2023-04-20",
          "2023-04-21",
          "2023-04-24",
          "2023-04-25",
          "2023-04-26",
          "2023-04-27",
          "2023-04-28",
          "2023-05-01",
          "2023-05-02",
          "2023-05-03",
          "2023-05-04",
          "2023-05-05",
          "2023-05-08",
          "2023-05-09",
          "2023-05-10",
          "2023-05-11",
          "2023-05-12",
          "2023-05-15",
          "2023-05-16",
          "2023-05-17",
          "2023-05-18",
          "2023-05-19",
          "2023-05-22",
          "2023-05-23",
          "2023-05-24",
          "2023-05-25",
          "2023-05-26",
          "2023-05-30",
          "2023-05-31",
          "2023-06-01",
          "2023-06-02",
          "2023-06-05",
          "2023-06-06",
          "2023-06-07",
          "2023-06-08",
          "2023-06-09",
          "2023-06-12",
          "2023-06-13",
          "2023-06-14",
          "2023-06-15",
          "2023-06-16",
          "2023-06-20",
          "2023-06-21",
          "2023-06-22",
          "2023-06-23",
          "2023-06-26",
          "2023-06-27",
          "2023-06-28",
          "2023-06-29",
          "2023-06-30",
          "2023-07-03",
          "2023-07-05",
          "2023-07-06",
          "2023-07-07",
          "2023-07-10",
          "2023-07-11",
          "2023-07-12",
          "2023-07-13",
          "2023-07-14",
          "2023-07-17",
          "2023-07-18",
          "2023-07-19",
          "2023-07-20",
          "2023-07-21",
          "2023-07-24",
          "2023-07-25",
          "2023-07-26",
          "2023-07-27",
          "2023-07-28",
          "2023-07-31",
          "2023-08-01",
          "2023-08-02",
          "2023-08-03",
          "2023-08-04",
          "2023-08-07",
          "2023-08-08",
          "2023-08-09",
          "2023-08-10",
          "2023-08-11",
          "2023-08-14",
          "2023-08-15",
          "2023-08-16",
          "2023-08-17",
          "2023-08-18",
          "2023-08-21",
          "2023-08-22",
          "2023-08-23",
          "2023-08-24",
          "2023-08-25",
          "2023-08-28",
          "2023-08-29",
          "2023-08-30",
          "2023-08-31"
         ],
         "y": {
          "bdata": "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",
          "dtype": "f8"
         }
        },
        {
         "line": {
          "dash": "dot"
         },
         "name": "offer",
         "opacity": 1,
         "type": "scatter",
         "x": [
          "2020-01-02",
          "2020-01-03",
          "2020-01-06",
          "2020-01-07",
          "2020-01-08",
          "2020-01-09",
          "2020-01-10",
          "2020-01-13",
          "2020-01-14",
          "2020-01-15",
          "2020-01-16",
          "2020-01-17",
          "2020-01-21",
          "2020-01-22",
          "2020-01-23",
          "2020-01-24",
          "2020-01-27",
          "2020-01-28",
          "2020-01-29",
          "2020-01-30",
          "2020-01-31",
          "2020-02-03",
          "2020-02-04",
          "2020-02-05",
          "2020-02-06",
          "2020-02-07",
          "2020-02-10",
          "2020-02-11",
          "2020-02-12",
          "2020-02-13",
          "2020-02-14",
          "2020-02-18",
          "2020-02-19",
          "2020-02-20",
          "2020-02-21",
          "2020-02-24",
          "2020-02-25",
          "2020-02-26",
          "2020-02-27",
          "2020-02-28",
          "2020-03-02",
          "2020-03-03",
          "2020-03-04",
          "2020-03-05",
          "2020-03-06",
          "2020-03-09",
          "2020-03-10",
          "2020-03-11",
          "2020-03-12",
          "2020-03-13",
          "2020-03-16",
          "2020-03-17",
          "2020-03-18",
          "2020-03-19",
          "2020-03-20",
          "2020-03-23",
          "2020-03-24",
          "2020-03-25",
          "2020-03-26",
          "2020-03-27",
          "2020-03-30",
          "2020-03-31",
          "2020-04-01",
          "2020-04-02",
          "2020-04-03",
          "2020-04-06",
          "2020-04-07",
          "2020-04-08",
          "2020-04-09",
          "2020-04-13",
          "2020-04-14",
          "2020-04-15",
          "2020-04-16",
          "2020-04-17",
          "2020-04-20",
          "2020-04-21",
          "2020-04-22",
          "2020-04-23",
          "2020-04-24",
          "2020-04-27",
          "2020-04-28",
          "2020-04-29",
          "2020-04-30",
          "2020-05-01",
          "2020-05-04",
          "2020-05-05",
          "2020-05-06",
          "2020-05-07",
          "2020-05-08",
          "2020-05-11",
          "2020-05-12",
          "2020-05-13",
          "2020-05-14",
          "2020-05-15",
          "2020-05-18",
          "2020-05-19",
          "2020-05-20",
          "2020-05-21",
          "2020-05-22",
          "2020-05-26",
          "2020-05-27",
          "2020-05-28",
          "2020-05-29",
          "2020-06-01",
          "2020-06-02",
          "2020-06-03",
          "2020-06-04",
          "2020-06-05",
          "2020-06-09",
          "2020-06-10",
          "2020-06-11",
          "2020-06-12",
          "2020-06-15",
          "2020-06-16",
          "2020-06-17",
          "2020-06-18",
          "2020-06-19",
          "2020-06-22",
          "2020-06-23",
          "2020-06-24",
          "2020-06-25",
          "2020-06-26",
          "2020-06-29",
          "2020-06-30",
          "2020-07-01",
          "2020-07-02",
          "2020-07-06",
          "2020-07-07",
          "2020-07-08",
          "2020-07-09",
          "2020-07-10",
          "2020-07-13",
          "2020-07-14",
          "2020-07-15",
          "2020-07-16",
          "2020-07-17",
          "2020-07-20",
          "2020-07-21",
          "2020-07-22",
          "2020-07-23",
          "2020-07-24",
          "2020-07-27",
          "2020-07-28",
          "2020-07-29",
          "2020-07-30",
          "2020-07-31",
          "2020-08-03",
          "2020-08-04",
          "2020-08-05",
          "2020-08-06",
          "2020-08-07",
          "2020-08-10",
          "2020-08-11",
          "2020-08-12",
          "2020-08-13",
          "2020-08-14",
          "2020-08-17",
          "2020-08-18",
          "2020-08-19",
          "2020-08-20",
          "2020-08-21",
          "2020-08-24",
          "2020-08-25",
          "2020-08-26",
          "2020-08-27",
          "2020-08-28",
          "2020-08-31",
          "2020-09-01",
          "2020-09-02",
          "2020-09-03",
          "2020-09-04",
          "2020-09-08",
          "2020-09-09",
          "2020-09-10",
          "2020-09-11",
          "2020-09-14",
          "2020-09-15",
          "2020-09-16",
          "2020-09-17",
          "2020-09-18",
          "2020-09-21",
          "2020-09-22",
          "2020-09-23",
          "2020-09-24",
          "2020-09-25",
          "2020-09-28",
          "2020-09-29",
          "2020-09-30",
          "2020-10-01",
          "2020-10-02",
          "2020-10-05",
          "2020-10-06",
          "2020-10-07",
          "2020-10-08",
          "2020-10-09",
          "2020-10-13",
          "2020-10-14",
          "2020-10-15",
          "2020-10-16",
          "2020-10-19",
          "2020-10-20",
          "2020-10-21",
          "2020-10-22",
          "2020-10-23",
          "2020-10-26",
          "2020-10-27",
          "2020-10-28",
          "2020-10-29",
          "2020-10-30",
          "2020-11-02",
          "2020-11-03",
          "2020-11-04",
          "2020-11-05",
          "2020-11-06",
          "2020-11-09",
          "2020-11-10",
          "2020-11-11",
          "2020-11-12",
          "2020-11-13",
          "2020-11-16",
          "2020-11-17",
          "2020-11-18",
          "2020-11-19",
          "2020-11-20",
          "2020-11-23",
          "2020-11-24",
          "2020-11-25",
          "2020-11-27",
          "2020-11-30",
          "2020-12-01",
          "2020-12-02",
          "2020-12-03",
          "2020-12-04",
          "2020-12-08",
          "2020-12-09",
          "2020-12-10",
          "2020-12-11",
          "2020-12-14",
          "2020-12-15",
          "2020-12-16",
          "2020-12-17",
          "2020-12-18",
          "2020-12-21",
          "2020-12-22",
          "2020-12-23",
          "2020-12-24",
          "2020-12-28",
          "2020-12-29",
          "2020-12-30",
          "2020-12-31",
          "2021-01-04",
          "2021-01-05",
          "2021-01-06",
          "2021-01-07",
          "2021-01-08",
          "2021-01-11",
          "2021-01-12",
          "2021-01-13",
          "2021-01-14",
          "2021-01-15",
          "2021-01-19",
          "2021-01-20",
          "2021-01-21",
          "2021-01-22",
          "2021-01-25",
          "2021-01-26",
          "2021-01-27",
          "2021-01-28",
          "2021-01-29",
          "2021-02-01",
          "2021-02-02",
          "2021-02-03",
          "2021-02-04",
          "2021-02-05",
          "2021-02-08",
          "2021-02-09",
          "2021-02-10",
          "2021-02-11",
          "2021-02-12",
          "2021-02-16",
          "2021-02-17",
          "2021-02-18",
          "2021-02-19",
          "2021-02-22",
          "2021-02-23",
          "2021-02-24",
          "2021-02-25",
          "2021-02-26",
          "2021-03-01",
          "2021-03-02",
          "2021-03-03",
          "2021-03-04",
          "2021-03-05",
          "2021-03-08",
          "2021-03-09",
          "2021-03-10",
          "2021-03-11",
          "2021-03-12",
          "2021-03-15",
          "2021-03-16",
          "2021-03-17",
          "2021-03-18",
          "2021-03-19",
          "2021-03-22",
          "2021-03-23",
          "2021-03-24",
          "2021-03-25",
          "2021-03-26",
          "2021-03-29",
          "2021-03-30",
          "2021-03-31",
          "2021-04-01",
          "2021-04-05",
          "2021-04-06",
          "2021-04-07",
          "2021-04-08",
          "2021-04-09",
          "2021-04-12",
          "2021-04-13",
          "2021-04-14",
          "2021-04-15",
          "2021-04-16",
          "2021-04-19",
          "2021-04-20",
          "2021-04-21",
          "2021-04-22",
          "2021-04-23",
          "2021-04-27",
          "2021-04-28",
          "2021-04-29",
          "2021-04-30",
          "2021-05-03",
          "2021-05-04",
          "2021-05-05",
          "2021-05-06",
          "2021-05-07",
          "2021-05-10",
          "2021-05-11",
          "2021-05-12",
          "2021-05-13",
          "2021-05-14",
          "2021-05-17",
          "2021-05-18",
          "2021-05-19",
          "2021-05-20",
          "2021-05-21",
          "2021-05-24",
          "2021-05-25",
          "2021-05-26",
          "2021-05-27",
          "2021-05-28",
          "2021-06-01",
          "2021-06-02",
          "2021-06-03",
          "2021-06-04",
          "2021-06-07",
          "2021-06-08",
          "2021-06-09",
          "2021-06-10",
          "2021-06-14",
          "2021-06-16",
          "2021-06-17",
          "2021-06-18",
          "2021-06-21",
          "2021-06-22",
          "2021-06-23",
          "2021-06-24",
          "2021-06-25",
          "2021-06-28",
          "2021-06-29",
          "2021-06-30",
          "2021-07-01",
          "2021-07-02",
          "2021-07-06",
          "2021-07-07",
          "2021-07-08",
          "2021-07-09",
          "2021-07-12",
          "2021-07-13",
          "2021-07-14",
          "2021-07-15",
          "2021-07-16",
          "2021-07-19",
          "2021-07-20",
          "2021-07-21",
          "2021-07-22",
          "2021-07-23",
          "2021-07-26",
          "2021-07-27",
          "2021-07-28",
          "2021-07-29",
          "2021-07-30",
          "2021-08-02",
          "2021-08-03",
          "2021-08-04",
          "2021-08-05",
          "2021-08-06",
          "2021-08-09",
          "2021-08-10",
          "2021-08-11",
          "2021-08-12",
          "2021-08-13",
          "2021-08-16",
          "2021-08-17",
          "2021-08-18",
          "2021-08-19",
          "2021-08-20",
          "2021-08-23",
          "2021-08-24",
          "2021-08-25",
          "2021-08-26",
          "2021-08-27",
          "2021-08-30",
          "2021-08-31",
          "2021-09-01",
          "2021-09-02",
          "2021-09-03",
          "2021-09-07",
          "2021-09-08",
          "2021-09-09",
          "2021-09-10",
          "2021-09-13",
          "2021-09-14",
          "2021-09-15",
          "2021-09-16",
          "2021-09-17",
          "2021-09-20",
          "2021-09-21",
          "2021-09-22",
          "2021-09-23",
          "2021-09-24",
          "2021-09-27",
          "2021-09-28",
          "2021-09-29",
          "2021-09-30",
          "2021-10-01",
          "2021-10-04",
          "2021-10-05",
          "2021-10-06",
          "2021-10-07",
          "2021-10-08",
          "2021-10-11",
          "2021-10-12",
          "2021-10-13",
          "2021-10-14",
          "2021-10-15",
          "2021-10-18",
          "2021-10-19",
          "2021-10-20",
          "2021-10-21",
          "2021-10-22",
          "2021-10-25",
          "2021-10-26",
          "2021-10-27",
          "2021-10-28",
          "2021-10-29",
          "2021-11-01",
          "2021-11-02",
          "2021-11-03",
          "2021-11-04",
          "2021-11-05",
          "2021-11-08",
          "2021-11-09",
          "2021-11-10",
          "2021-11-11",
          "2021-11-12",
          "2021-11-15",
          "2021-11-16",
          "2021-11-17",
          "2021-11-18",
          "2021-11-19",
          "2021-11-22",
          "2021-11-23",
          "2021-11-24",
          "2021-11-26",
          "2021-11-29",
          "2021-11-30",
          "2021-12-01",
          "2021-12-02",
          "2021-12-03",
          "2021-12-06",
          "2021-12-07",
          "2021-12-08",
          "2021-12-09",
          "2021-12-10",
          "2021-12-13",
          "2021-12-14",
          "2021-12-15",
          "2021-12-16",
          "2021-12-17",
          "2021-12-20",
          "2021-12-21",
          "2021-12-22",
          "2021-12-23",
          "2021-12-28",
          "2021-12-29",
          "2021-12-30",
          "2021-12-31",
          "2022-01-03",
          "2022-01-04",
          "2022-01-05",
          "2022-01-06",
          "2022-01-07",
          "2022-01-10",
          "2022-01-11",
          "2022-01-12",
          "2022-01-13",
          "2022-01-14",
          "2022-01-18",
          "2022-01-19",
          "2022-01-20",
          "2022-01-21",
          "2022-01-24",
          "2022-01-25",
          "2022-01-26",
          "2022-01-27",
          "2022-01-28",
          "2022-01-31",
          "2022-02-01",
          "2022-02-02",
          "2022-02-03",
          "2022-02-04",
          "2022-02-07",
          "2022-02-08",
          "2022-02-09",
          "2022-02-10",
          "2022-02-11",
          "2022-02-14",
          "2022-02-15",
          "2022-02-16",
          "2022-02-17",
          "2022-02-18",
          "2022-02-22",
          "2022-02-23",
          "2022-02-24",
          "2022-02-25",
          "2022-02-28",
          "2022-03-01",
          "2022-03-02",
          "2022-03-03",
          "2022-03-04",
          "2022-03-07",
          "2022-03-08",
          "2022-03-09",
          "2022-03-10",
          "2022-03-11",
          "2022-03-14",
          "2022-03-15",
          "2022-03-16",
          "2022-03-17",
          "2022-03-18",
          "2022-03-21",
          "2022-03-22",
          "2022-03-23",
          "2022-03-24",
          "2022-03-25",
          "2022-03-28",
          "2022-03-29",
          "2022-03-30",
          "2022-03-31",
          "2022-04-01",
          "2022-04-04",
          "2022-04-05",
          "2022-04-06",
          "2022-04-07",
          "2022-04-08",
          "2022-04-11",
          "2022-04-12",
          "2022-04-13",
          "2022-04-14",
          "2022-04-18",
          "2022-04-19",
          "2022-04-20",
          "2022-04-21",
          "2022-04-22",
          "2022-04-25",
          "2022-04-26",
          "2022-04-27",
          "2022-04-28",
          "2022-04-29",
          "2022-05-02",
          "2022-05-03",
          "2022-05-04",
          "2022-05-05",
          "2022-05-06",
          "2022-05-09",
          "2022-05-10",
          "2022-05-11",
          "2022-05-12",
          "2022-05-13",
          "2022-05-16",
          "2022-05-17",
          "2022-05-18",
          "2022-05-19",
          "2022-05-20",
          "2022-05-23",
          "2022-05-24",
          "2022-05-25",
          "2022-05-26",
          "2022-05-27",
          "2022-05-31",
          "2022-06-01",
          "2022-06-02",
          "2022-06-03",
          "2022-06-06",
          "2022-06-07",
          "2022-06-08",
          "2022-06-09",
          "2022-06-10",
          "2022-06-13",
          "2022-06-14",
          "2022-06-15",
          "2022-06-16",
          "2022-06-17",
          "2022-06-21",
          "2022-06-22",
          "2022-06-23",
          "2022-06-24",
          "2022-06-27",
          "2022-06-28",
          "2022-06-29",
          "2022-06-30",
          "2022-07-01",
          "2022-07-05",
          "2022-07-06",
          "2022-07-07",
          "2022-07-08",
          "2022-07-11",
          "2022-07-12",
          "2022-07-13",
          "2022-07-14",
          "2022-07-15",
          "2022-07-18",
          "2022-07-19",
          "2022-07-20",
          "2022-07-21",
          "2022-07-22",
          "2022-07-25",
          "2022-07-26",
          "2022-07-27",
          "2022-07-28",
          "2022-07-29",
          "2022-08-01",
          "2022-08-02",
          "2022-08-03",
          "2022-08-04",
          "2022-08-05",
          "2022-08-08",
          "2022-08-09",
          "2022-08-10",
          "2022-08-11",
          "2022-08-12",
          "2022-08-15",
          "2022-08-16",
          "2022-08-17",
          "2022-08-18",
          "2022-08-19",
          "2022-08-22",
          "2022-08-23",
          "2022-08-24",
          "2022-08-25",
          "2022-08-26",
          "2022-08-29",
          "2022-08-30",
          "2022-08-31",
          "2022-09-01",
          "2022-09-02",
          "2022-09-06",
          "2022-09-07",
          "2022-09-08",
          "2022-09-09",
          "2022-09-12",
          "2022-09-13",
          "2022-09-14",
          "2022-09-15",
          "2022-09-16",
          "2022-09-19",
          "2022-09-20",
          "2022-09-21",
          "2022-09-22",
          "2022-09-23",
          "2022-09-26",
          "2022-09-27",
          "2022-09-28",
          "2022-09-29",
          "2022-09-30",
          "2022-10-03",
          "2022-10-04",
          "2022-10-05",
          "2022-10-06",
          "2022-10-07",
          "2022-10-10",
          "2022-10-11",
          "2022-10-12",
          "2022-10-13",
          "2022-10-14",
          "2022-10-17",
          "2022-10-18",
          "2022-10-19",
          "2022-10-20",
          "2022-10-21",
          "2022-10-24",
          "2022-10-25",
          "2022-10-26",
          "2022-10-27",
          "2022-10-28",
          "2022-10-31",
          "2022-11-01",
          "2022-11-02",
          "2022-11-03",
          "2022-11-04",
          "2022-11-07",
          "2022-11-08",
          "2022-11-09",
          "2022-11-10",
          "2022-11-11",
          "2022-11-14",
          "2022-11-15",
          "2022-11-16",
          "2022-11-17",
          "2022-11-18",
          "2022-11-21",
          "2022-11-22",
          "2022-11-23",
          "2022-11-25",
          "2022-11-28",
          "2022-11-29",
          "2022-11-30",
          "2022-12-01",
          "2022-12-02",
          "2022-12-05",
          "2022-12-06",
          "2022-12-07",
          "2022-12-08",
          "2022-12-09",
          "2022-12-12",
          "2022-12-13",
          "2022-12-14",
          "2022-12-15",
          "2022-12-16",
          "2022-12-19",
          "2022-12-20",
          "2022-12-21",
          "2022-12-22",
          "2022-12-23",
          "2022-12-27",
          "2022-12-28",
          "2022-12-29",
          "2022-12-30",
          "2023-01-03",
          "2023-01-04",
          "2023-01-05",
          "2023-01-06",
          "2023-01-09",
          "2023-01-10",
          "2023-01-11",
          "2023-01-12",
          "2023-01-13",
          "2023-01-17",
          "2023-01-18",
          "2023-01-19",
          "2023-01-20",
          "2023-01-23",
          "2023-01-24",
          "2023-01-25",
          "2023-01-26",
          "2023-01-27",
          "2023-01-30",
          "2023-01-31",
          "2023-02-01",
          "2023-02-02",
          "2023-02-03",
          "2023-02-06",
          "2023-02-07",
          "2023-02-08",
          "2023-02-09",
          "2023-02-10",
          "2023-02-13",
          "2023-02-14",
          "2023-02-15",
          "2023-02-16",
          "2023-02-17",
          "2023-02-21",
          "2023-02-22",
          "2023-02-23",
          "2023-02-24",
          "2023-02-27",
          "2023-02-28",
          "2023-03-01",
          "2023-03-02",
          "2023-03-03",
          "2023-03-06",
          "2023-03-07",
          "2023-03-08",
          "2023-03-09",
          "2023-03-10",
          "2023-03-13",
          "2023-03-14",
          "2023-03-15",
          "2023-03-16",
          "2023-03-17",
          "2023-03-20",
          "2023-03-21",
          "2023-03-22",
          "2023-03-23",
          "2023-03-24",
          "2023-03-27",
          "2023-03-28",
          "2023-03-29",
          "2023-03-30",
          "2023-03-31",
          "2023-04-03",
          "2023-04-04",
          "2023-04-05",
          "2023-04-06",
          "2023-04-10",
          "2023-04-11",
          "2023-04-12",
          "2023-04-13",
          "2023-04-14",
          "2023-04-17",
          "2023-04-18",
          "2023-04-19",
          "2023-04-20",
          "2023-04-21",
          "2023-04-24",
          "2023-04-25",
          "2023-04-26",
          "2023-04-27",
          "2023-04-28",
          "2023-05-01",
          "2023-05-02",
          "2023-05-03",
          "2023-05-04",
          "2023-05-05",
          "2023-05-08",
          "2023-05-09",
          "2023-05-10",
          "2023-05-11",
          "2023-05-12",
          "2023-05-15",
          "2023-05-16",
          "2023-05-17",
          "2023-05-18",
          "2023-05-19",
          "2023-05-22",
          "2023-05-23",
          "2023-05-24",
          "2023-05-25",
          "2023-05-26",
          "2023-05-30",
          "2023-05-31",
          "2023-06-01",
          "2023-06-02",
          "2023-06-05",
          "2023-06-06",
          "2023-06-07",
          "2023-06-08",
          "2023-06-09",
          "2023-06-12",
          "2023-06-13",
          "2023-06-14",
          "2023-06-15",
          "2023-06-16",
          "2023-06-20",
          "2023-06-21",
          "2023-06-22",
          "2023-06-23",
          "2023-06-26",
          "2023-06-27",
          "2023-06-28",
          "2023-06-29",
          "2023-06-30",
          "2023-07-03",
          "2023-07-05",
          "2023-07-06",
          "2023-07-07",
          "2023-07-10",
          "2023-07-11",
          "2023-07-12",
          "2023-07-13",
          "2023-07-14",
          "2023-07-17",
          "2023-07-18",
          "2023-07-19",
          "2023-07-20",
          "2023-07-21",
          "2023-07-24",
          "2023-07-25",
          "2023-07-26",
          "2023-07-27",
          "2023-07-28",
          "2023-07-31",
          "2023-08-01",
          "2023-08-02",
          "2023-08-03",
          "2023-08-04",
          "2023-08-07",
          "2023-08-08",
          "2023-08-09",
          "2023-08-10",
          "2023-08-11",
          "2023-08-14",
          "2023-08-15",
          "2023-08-16",
          "2023-08-17",
          "2023-08-18",
          "2023-08-21",
          "2023-08-22",
          "2023-08-23",
          "2023-08-24",
          "2023-08-25",
          "2023-08-28",
          "2023-08-29",
          "2023-08-30",
          "2023-08-31"
         ],
         "y": {
          "bdata": "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",
          "dtype": "f8"
         }
        }
       ],
       "layout": {
        "template": {
         "data": {
          "bar": [
           {
            "error_x": {
             "color": "#2a3f5f"
            },
            "error_y": {
             "color": "#2a3f5f"
            },
            "marker": {
             "line": {
              "color": "#E5ECF6",
              "width": 0.5
             },
             "pattern": {
              "fillmode": "overlay",
              "size": 10,
              "solidity": 0.2
             }
            },
            "type": "bar"
           }
          ],
          "barpolar": [
           {
            "marker": {
             "line": {
              "color": "#E5ECF6",
              "width": 0.5
             },
             "pattern": {
              "fillmode": "overlay",
              "size": 10,
              "solidity": 0.2
             }
            },
            "type": "barpolar"
           }
          ],
          "carpet": [
           {
            "aaxis": {
             "endlinecolor": "#2a3f5f",
             "gridcolor": "white",
             "linecolor": "white",
             "minorgridcolor": "white",
             "startlinecolor": "#2a3f5f"
            },
            "baxis": {
             "endlinecolor": "#2a3f5f",
             "gridcolor": "white",
             "linecolor": "white",
             "minorgridcolor": "white",
             "startlinecolor": "#2a3f5f"
            },
            "type": "carpet"
           }
          ],
          "choropleth": [
           {
            "colorbar": {
             "outlinewidth": 0,
             "ticks": ""
            },
            "type": "choropleth"
           }
          ],
          "contour": [
           {
            "colorbar": {
             "outlinewidth": 0,
             "ticks": ""
            },
            "colorscale": [
             [
              0,
              "#0d0887"
             ],
             [
              0.1111111111111111,
              "#46039f"
             ],
             [
              0.2222222222222222,
              "#7201a8"
             ],
             [
              0.3333333333333333,
              "#9c179e"
             ],
             [
              0.4444444444444444,
              "#bd3786"
             ],
             [
              0.5555555555555556,
              "#d8576b"
             ],
             [
              0.6666666666666666,
              "#ed7953"
             ],
             [
              0.7777777777777778,
              "#fb9f3a"
             ],
             [
              0.8888888888888888,
              "#fdca26"
             ],
             [
              1,
              "#f0f921"
             ]
            ],
            "type": "contour"
           }
          ],
          "contourcarpet": [
           {
            "colorbar": {
             "outlinewidth": 0,
             "ticks": ""
            },
            "type": "contourcarpet"
           }
          ],
          "heatmap": [
           {
            "colorbar": {
             "outlinewidth": 0,
             "ticks": ""
            },
            "colorscale": [
             [
              0,
              "#0d0887"
             ],
             [
              0.1111111111111111,
              "#46039f"
             ],
             [
              0.2222222222222222,
              "#7201a8"
             ],
             [
              0.3333333333333333,
              "#9c179e"
             ],
             [
              0.4444444444444444,
              "#bd3786"
             ],
             [
              0.5555555555555556,
              "#d8576b"
             ],
             [
              0.6666666666666666,
              "#ed7953"
             ],
             [
              0.7777777777777778,
              "#fb9f3a"
             ],
             [
              0.8888888888888888,
              "#fdca26"
             ],
             [
              1,
              "#f0f921"
             ]
            ],
            "type": "heatmap"
           }
          ],
          "histogram": [
           {
            "marker": {
             "pattern": {
              "fillmode": "overlay",
              "size": 10,
              "solidity": 0.2
             }
            },
            "type": "histogram"
           }
          ],
          "histogram2d": [
           {
            "colorbar": {
             "outlinewidth": 0,
             "ticks": ""
            },
            "colorscale": [
             [
              0,
              "#0d0887"
             ],
             [
              0.1111111111111111,
              "#46039f"
             ],
             [
              0.2222222222222222,
              "#7201a8"
             ],
             [
              0.3333333333333333,
              "#9c179e"
             ],
             [
              0.4444444444444444,
              "#bd3786"
             ],
             [
              0.5555555555555556,
              "#d8576b"
             ],
             [
              0.6666666666666666,
              "#ed7953"
             ],
             [
              0.7777777777777778,
              "#fb9f3a"
             ],
             [
              0.8888888888888888,
              "#fdca26"
             ],
             [
              1,
              "#f0f921"
             ]
            ],
            "type": "histogram2d"
           }
          ],
          "histogram2dcontour": [
           {
            "colorbar": {
             "outlinewidth": 0,
             "ticks": ""
            },
            "colorscale": [
             [
              0,
              "#0d0887"
             ],
             [
              0.1111111111111111,
              "#46039f"
             ],
             [
              0.2222222222222222,
              "#7201a8"
             ],
             [
              0.3333333333333333,
              "#9c179e"
             ],
             [
              0.4444444444444444,
              "#bd3786"
             ],
             [
              0.5555555555555556,
              "#d8576b"
             ],
             [
              0.6666666666666666,
              "#ed7953"
             ],
             [
              0.7777777777777778,
              "#fb9f3a"
             ],
             [
              0.8888888888888888,
              "#fdca26"
             ],
             [
              1,
              "#f0f921"
             ]
            ],
            "type": "histogram2dcontour"
           }
          ],
          "mesh3d": [
           {
            "colorbar": {
             "outlinewidth": 0,
             "ticks": ""
            },
            "type": "mesh3d"
           }
          ],
          "parcoords": [
           {
            "line": {
             "colorbar": {
              "outlinewidth": 0,
              "ticks": ""
             }
            },
            "type": "parcoords"
           }
          ],
          "pie": [
           {
            "automargin": true,
            "type": "pie"
           }
          ],
          "scatter": [
           {
            "fillpattern": {
             "fillmode": "overlay",
             "size": 10,
             "solidity": 0.2
            },
            "type": "scatter"
           }
          ],
          "scatter3d": [
           {
            "line": {
             "colorbar": {
              "outlinewidth": 0,
              "ticks": ""
             }
            },
            "marker": {
             "colorbar": {
              "outlinewidth": 0,
              "ticks": ""
             }
            },
            "type": "scatter3d"
           }
          ],
          "scattercarpet": [
           {
            "marker": {
             "colorbar": {
              "outlinewidth": 0,
              "ticks": ""
             }
            },
            "type": "scattercarpet"
           }
          ],
          "scattergeo": [
           {
            "marker": {
             "colorbar": {
              "outlinewidth": 0,
              "ticks": ""
             }
            },
            "type": "scattergeo"
           }
          ],
          "scattergl": [
           {
            "marker": {
             "colorbar": {
              "outlinewidth": 0,
              "ticks": ""
             }
            },
            "type": "scattergl"
           }
          ],
          "scattermap": [
           {
            "marker": {
             "colorbar": {
              "outlinewidth": 0,
              "ticks": ""
             }
            },
            "type": "scattermap"
           }
          ],
          "scattermapbox": [
           {
            "marker": {
             "colorbar": {
              "outlinewidth": 0,
              "ticks": ""
             }
            },
            "type": "scattermapbox"
           }
          ],
          "scatterpolar": [
           {
            "marker": {
             "colorbar": {
              "outlinewidth": 0,
              "ticks": ""
             }
            },
            "type": "scatterpolar"
           }
          ],
          "scatterpolargl": [
           {
            "marker": {
             "colorbar": {
              "outlinewidth": 0,
              "ticks": ""
             }
            },
            "type": "scatterpolargl"
           }
          ],
          "scatterternary": [
           {
            "marker": {
             "colorbar": {
              "outlinewidth": 0,
              "ticks": ""
             }
            },
            "type": "scatterternary"
           }
          ],
          "surface": [
           {
            "colorbar": {
             "outlinewidth": 0,
             "ticks": ""
            },
            "colorscale": [
             [
              0,
              "#0d0887"
             ],
             [
              0.1111111111111111,
              "#46039f"
             ],
             [
              0.2222222222222222,
              "#7201a8"
             ],
             [
              0.3333333333333333,
              "#9c179e"
             ],
             [
              0.4444444444444444,
              "#bd3786"
             ],
             [
              0.5555555555555556,
              "#d8576b"
             ],
             [
              0.6666666666666666,
              "#ed7953"
             ],
             [
              0.7777777777777778,
              "#fb9f3a"
             ],
             [
              0.8888888888888888,
              "#fdca26"
             ],
             [
              1,
              "#f0f921"
             ]
            ],
            "type": "surface"
           }
          ],
          "table": [
           {
            "cells": {
             "fill": {
              "color": "#EBF0F8"
             },
             "line": {
              "color": "white"
             }
            },
            "header": {
             "fill": {
              "color": "#C8D4E3"
             },
             "line": {
              "color": "white"
             }
            },
            "type": "table"
           }
          ]
         },
         "layout": {
          "annotationdefaults": {
           "arrowcolor": "#2a3f5f",
           "arrowhead": 0,
           "arrowwidth": 1
          },
          "autotypenumbers": "strict",
          "coloraxis": {
           "colorbar": {
            "outlinewidth": 0,
            "ticks": ""
           }
          },
          "colorscale": {
           "diverging": [
            [
             0,
             "#8e0152"
            ],
            [
             0.1,
             "#c51b7d"
            ],
            [
             0.2,
             "#de77ae"
            ],
            [
             0.3,
             "#f1b6da"
            ],
            [
             0.4,
             "#fde0ef"
            ],
            [
             0.5,
             "#f7f7f7"
            ],
            [
             0.6,
             "#e6f5d0"
            ],
            [
             0.7,
             "#b8e186"
            ],
            [
             0.8,
             "#7fbc41"
            ],
            [
             0.9,
             "#4d9221"
            ],
            [
             1,
             "#276419"
            ]
           ],
           "sequential": [
            [
             0,
             "#0d0887"
            ],
            [
             0.1111111111111111,
             "#46039f"
            ],
            [
             0.2222222222222222,
             "#7201a8"
            ],
            [
             0.3333333333333333,
             "#9c179e"
            ],
            [
             0.4444444444444444,
             "#bd3786"
            ],
            [
             0.5555555555555556,
             "#d8576b"
            ],
            [
             0.6666666666666666,
             "#ed7953"
            ],
            [
             0.7777777777777778,
             "#fb9f3a"
            ],
            [
             0.8888888888888888,
             "#fdca26"
            ],
            [
             1,
             "#f0f921"
            ]
           ],
           "sequentialminus": [
            [
             0,
             "#0d0887"
            ],
            [
             0.1111111111111111,
             "#46039f"
            ],
            [
             0.2222222222222222,
             "#7201a8"
            ],
            [
             0.3333333333333333,
             "#9c179e"
            ],
            [
             0.4444444444444444,
             "#bd3786"
            ],
            [
             0.5555555555555556,
             "#d8576b"
            ],
            [
             0.6666666666666666,
             "#ed7953"
            ],
            [
             0.7777777777777778,
             "#fb9f3a"
            ],
            [
             0.8888888888888888,
             "#fdca26"
            ],
            [
             1,
             "#f0f921"
            ]
           ]
          },
          "colorway": [
           "#636efa",
           "#EF553B",
           "#00cc96",
           "#ab63fa",
           "#FFA15A",
           "#19d3f3",
           "#FF6692",
           "#B6E880",
           "#FF97FF",
           "#FECB52"
          ],
          "font": {
           "color": "#2a3f5f"
          },
          "geo": {
           "bgcolor": "white",
           "lakecolor": "white",
           "landcolor": "#E5ECF6",
           "showlakes": true,
           "showland": true,
           "subunitcolor": "white"
          },
          "hoverlabel": {
           "align": "left"
          },
          "hovermode": "closest",
          "mapbox": {
           "style": "light"
          },
          "paper_bgcolor": "white",
          "plot_bgcolor": "#E5ECF6",
          "polar": {
           "angularaxis": {
            "gridcolor": "white",
            "linecolor": "white",
            "ticks": ""
           },
           "bgcolor": "#E5ECF6",
           "radialaxis": {
            "gridcolor": "white",
            "linecolor": "white",
            "ticks": ""
           }
          },
          "scene": {
           "xaxis": {
            "backgroundcolor": "#E5ECF6",
            "gridcolor": "white",
            "gridwidth": 2,
            "linecolor": "white",
            "showbackground": true,
            "ticks": "",
            "zerolinecolor": "white"
           },
           "yaxis": {
            "backgroundcolor": "#E5ECF6",
            "gridcolor": "white",
            "gridwidth": 2,
            "linecolor": "white",
            "showbackground": true,
            "ticks": "",
            "zerolinecolor": "white"
           },
           "zaxis": {
            "backgroundcolor": "#E5ECF6",
            "gridcolor": "white",
            "gridwidth": 2,
            "linecolor": "white",
            "showbackground": true,
            "ticks": "",
            "zerolinecolor": "white"
           }
          },
          "shapedefaults": {
           "line": {
            "color": "#2a3f5f"
           }
          },
          "ternary": {
           "aaxis": {
            "gridcolor": "white",
            "linecolor": "white",
            "ticks": ""
           },
           "baxis": {
            "gridcolor": "white",
            "linecolor": "white",
            "ticks": ""
           },
           "bgcolor": "#E5ECF6",
           "caxis": {
            "gridcolor": "white",
            "linecolor": "white",
            "ticks": ""
           }
          },
          "title": {
           "x": 0.05
          },
          "xaxis": {
           "automargin": true,
           "gridcolor": "white",
           "linecolor": "white",
           "ticks": "",
           "title": {
            "standoff": 15
           },
           "zerolinecolor": "white",
           "zerolinewidth": 2
          },
          "yaxis": {
           "automargin": true,
           "gridcolor": "white",
           "linecolor": "white",
           "ticks": "",
           "title": {
            "standoff": 15
           },
           "zerolinecolor": "white",
           "zerolinewidth": 2
          }
         }
        },
        "title": {
         "text": "SPX Put Option Prices (ATM, 1M)"
        },
        "yaxis": {
         "title": {
          "text": "Price"
         }
        }
       }
      }
     },
     "metadata": {},
     "output_type": "display_data"
    }
   ],
   "source": [
    "fig = go.Figure()\n",
    "\n",
    "fig.add_trace(\n",
    "    go.Scatter(\n",
    "        x = df['date'],\n",
    "        y = df['best_bid'],\n",
    "        name = 'bid',\n",
    "        opacity=1,\n",
    "    )\n",
    ")\n",
    "\n",
    "fig.add_trace(\n",
    "    go.Scatter(\n",
    "        x = df['date'],\n",
    "        y = df['best_offer'],\n",
    "        name = 'offer',\n",
    "        opacity= 1,\n",
    "        line=dict(dash='dot')\n",
    "    ),\n",
    ")\n",
    "\n",
    "fig.update_layout(title = 'SPX Put Option Prices (ATM, 1M)')\n",
    "fig.update_yaxes(title = 'Price')\n",
    "fig.show()"
   ]
  },
  {
   "cell_type": "code",
   "execution_count": 55,
   "metadata": {},
   "outputs": [
    {
     "data": {
      "application/vnd.plotly.v1+json": {
       "config": {
        "plotlyServerURL": "https://plot.ly"
       },
       "data": [
        {
         "name": "implied vol",
         "opacity": 1,
         "showlegend": true,
         "type": "scatter",
         "x": [
          "2020-01-02",
          "2020-01-03",
          "2020-01-06",
          "2020-01-07",
          "2020-01-08",
          "2020-01-09",
          "2020-01-10",
          "2020-01-13",
          "2020-01-14",
          "2020-01-15",
          "2020-01-16",
          "2020-01-17",
          "2020-01-21",
          "2020-01-22",
          "2020-01-23",
          "2020-01-24",
          "2020-01-27",
          "2020-01-28",
          "2020-01-29",
          "2020-01-30",
          "2020-01-31",
          "2020-02-03",
          "2020-02-04",
          "2020-02-05",
          "2020-02-06",
          "2020-02-07",
          "2020-02-10",
          "2020-02-11",
          "2020-02-12",
          "2020-02-13",
          "2020-02-14",
          "2020-02-18",
          "2020-02-19",
          "2020-02-20",
          "2020-02-21",
          "2020-02-24",
          "2020-02-25",
          "2020-02-26",
          "2020-02-27",
          "2020-02-28",
          "2020-03-02",
          "2020-03-03",
          "2020-03-04",
          "2020-03-05",
          "2020-03-06",
          "2020-03-09",
          "2020-03-10",
          "2020-03-11",
          "2020-03-12",
          "2020-03-13",
          "2020-03-16",
          "2020-03-17",
          "2020-03-18",
          "2020-03-19",
          "2020-03-20",
          "2020-03-23",
          "2020-03-24",
          "2020-03-25",
          "2020-03-26",
          "2020-03-27",
          "2020-03-30",
          "2020-03-31",
          "2020-04-01",
          "2020-04-02",
          "2020-04-03",
          "2020-04-06",
          "2020-04-07",
          "2020-04-08",
          "2020-04-09",
          "2020-04-13",
          "2020-04-14",
          "2020-04-15",
          "2020-04-16",
          "2020-04-17",
          "2020-04-20",
          "2020-04-21",
          "2020-04-22",
          "2020-04-23",
          "2020-04-24",
          "2020-04-27",
          "2020-04-28",
          "2020-04-29",
          "2020-04-30",
          "2020-05-01",
          "2020-05-04",
          "2020-05-05",
          "2020-05-06",
          "2020-05-07",
          "2020-05-08",
          "2020-05-11",
          "2020-05-12",
          "2020-05-13",
          "2020-05-14",
          "2020-05-15",
          "2020-05-18",
          "2020-05-19",
          "2020-05-20",
          "2020-05-21",
          "2020-05-22",
          "2020-05-26",
          "2020-05-27",
          "2020-05-28",
          "2020-05-29",
          "2020-06-01",
          "2020-06-02",
          "2020-06-03",
          "2020-06-04",
          "2020-06-05",
          "2020-06-09",
          "2020-06-10",
          "2020-06-11",
          "2020-06-12",
          "2020-06-15",
          "2020-06-16",
          "2020-06-17",
          "2020-06-18",
          "2020-06-19",
          "2020-06-22",
          "2020-06-23",
          "2020-06-24",
          "2020-06-25",
          "2020-06-26",
          "2020-06-29",
          "2020-06-30",
          "2020-07-01",
          "2020-07-02",
          "2020-07-06",
          "2020-07-07",
          "2020-07-08",
          "2020-07-09",
          "2020-07-10",
          "2020-07-13",
          "2020-07-14",
          "2020-07-15",
          "2020-07-16",
          "2020-07-17",
          "2020-07-20",
          "2020-07-21",
          "2020-07-22",
          "2020-07-23",
          "2020-07-24",
          "2020-07-27",
          "2020-07-28",
          "2020-07-29",
          "2020-07-30",
          "2020-07-31",
          "2020-08-03",
          "2020-08-04",
          "2020-08-05",
          "2020-08-06",
          "2020-08-07",
          "2020-08-10",
          "2020-08-11",
          "2020-08-12",
          "2020-08-13",
          "2020-08-14",
          "2020-08-17",
          "2020-08-18",
          "2020-08-19",
          "2020-08-20",
          "2020-08-21",
          "2020-08-24",
          "2020-08-25",
          "2020-08-26",
          "2020-08-27",
          "2020-08-28",
          "2020-08-31",
          "2020-09-01",
          "2020-09-02",
          "2020-09-03",
          "2020-09-04",
          "2020-09-08",
          "2020-09-09",
          "2020-09-10",
          "2020-09-11",
          "2020-09-14",
          "2020-09-15",
          "2020-09-16",
          "2020-09-17",
          "2020-09-18",
          "2020-09-21",
          "2020-09-22",
          "2020-09-23",
          "2020-09-24",
          "2020-09-25",
          "2020-09-28",
          "2020-09-29",
          "2020-09-30",
          "2020-10-01",
          "2020-10-02",
          "2020-10-05",
          "2020-10-06",
          "2020-10-07",
          "2020-10-08",
          "2020-10-09",
          "2020-10-13",
          "2020-10-14",
          "2020-10-15",
          "2020-10-16",
          "2020-10-19",
          "2020-10-20",
          "2020-10-21",
          "2020-10-22",
          "2020-10-23",
          "2020-10-26",
          "2020-10-27",
          "2020-10-28",
          "2020-10-29",
          "2020-10-30",
          "2020-11-02",
          "2020-11-03",
          "2020-11-04",
          "2020-11-05",
          "2020-11-06",
          "2020-11-09",
          "2020-11-10",
          "2020-11-11",
          "2020-11-12",
          "2020-11-13",
          "2020-11-16",
          "2020-11-17",
          "2020-11-18",
          "2020-11-19",
          "2020-11-20",
          "2020-11-23",
          "2020-11-24",
          "2020-11-25",
          "2020-11-27",
          "2020-11-30",
          "2020-12-01",
          "2020-12-02",
          "2020-12-03",
          "2020-12-04",
          "2020-12-08",
          "2020-12-09",
          "2020-12-10",
          "2020-12-11",
          "2020-12-14",
          "2020-12-15",
          "2020-12-16",
          "2020-12-17",
          "2020-12-18",
          "2020-12-21",
          "2020-12-22",
          "2020-12-23",
          "2020-12-24",
          "2020-12-28",
          "2020-12-29",
          "2020-12-30",
          "2020-12-31",
          "2021-01-04",
          "2021-01-05",
          "2021-01-06",
          "2021-01-07",
          "2021-01-08",
          "2021-01-11",
          "2021-01-12",
          "2021-01-13",
          "2021-01-14",
          "2021-01-15",
          "2021-01-19",
          "2021-01-20",
          "2021-01-21",
          "2021-01-22",
          "2021-01-25",
          "2021-01-26",
          "2021-01-27",
          "2021-01-28",
          "2021-01-29",
          "2021-02-01",
          "2021-02-02",
          "2021-02-03",
          "2021-02-04",
          "2021-02-05",
          "2021-02-08",
          "2021-02-09",
          "2021-02-10",
          "2021-02-11",
          "2021-02-12",
          "2021-02-16",
          "2021-02-17",
          "2021-02-18",
          "2021-02-19",
          "2021-02-22",
          "2021-02-23",
          "2021-02-24",
          "2021-02-25",
          "2021-02-26",
          "2021-03-01",
          "2021-03-02",
          "2021-03-03",
          "2021-03-04",
          "2021-03-05",
          "2021-03-08",
          "2021-03-09",
          "2021-03-10",
          "2021-03-11",
          "2021-03-12",
          "2021-03-15",
          "2021-03-16",
          "2021-03-17",
          "2021-03-18",
          "2021-03-19",
          "2021-03-22",
          "2021-03-23",
          "2021-03-24",
          "2021-03-25",
          "2021-03-26",
          "2021-03-29",
          "2021-03-30",
          "2021-03-31",
          "2021-04-01",
          "2021-04-05",
          "2021-04-06",
          "2021-04-07",
          "2021-04-08",
          "2021-04-09",
          "2021-04-12",
          "2021-04-13",
          "2021-04-14",
          "2021-04-15",
          "2021-04-16",
          "2021-04-19",
          "2021-04-20",
          "2021-04-21",
          "2021-04-22",
          "2021-04-23",
          "2021-04-27",
          "2021-04-28",
          "2021-04-29",
          "2021-04-30",
          "2021-05-03",
          "2021-05-04",
          "2021-05-05",
          "2021-05-06",
          "2021-05-07",
          "2021-05-10",
          "2021-05-11",
          "2021-05-12",
          "2021-05-13",
          "2021-05-14",
          "2021-05-17",
          "2021-05-18",
          "2021-05-19",
          "2021-05-20",
          "2021-05-21",
          "2021-05-24",
          "2021-05-25",
          "2021-05-26",
          "2021-05-27",
          "2021-05-28",
          "2021-06-01",
          "2021-06-02",
          "2021-06-03",
          "2021-06-04",
          "2021-06-07",
          "2021-06-08",
          "2021-06-09",
          "2021-06-10",
          "2021-06-14",
          "2021-06-16",
          "2021-06-17",
          "2021-06-18",
          "2021-06-21",
          "2021-06-22",
          "2021-06-23",
          "2021-06-24",
          "2021-06-25",
          "2021-06-28",
          "2021-06-29",
          "2021-06-30",
          "2021-07-01",
          "2021-07-02",
          "2021-07-06",
          "2021-07-07",
          "2021-07-08",
          "2021-07-09",
          "2021-07-12",
          "2021-07-13",
          "2021-07-14",
          "2021-07-15",
          "2021-07-16",
          "2021-07-19",
          "2021-07-20",
          "2021-07-21",
          "2021-07-22",
          "2021-07-23",
          "2021-07-26",
          "2021-07-27",
          "2021-07-28",
          "2021-07-29",
          "2021-07-30",
          "2021-08-02",
          "2021-08-03",
          "2021-08-04",
          "2021-08-05",
          "2021-08-06",
          "2021-08-09",
          "2021-08-10",
          "2021-08-11",
          "2021-08-12",
          "2021-08-13",
          "2021-08-16",
          "2021-08-17",
          "2021-08-18",
          "2021-08-19",
          "2021-08-20",
          "2021-08-23",
          "2021-08-24",
          "2021-08-25",
          "2021-08-26",
          "2021-08-27",
          "2021-08-30",
          "2021-08-31",
          "2021-09-01",
          "2021-09-02",
          "2021-09-03",
          "2021-09-07",
          "2021-09-08",
          "2021-09-09",
          "2021-09-10",
          "2021-09-13",
          "2021-09-14",
          "2021-09-15",
          "2021-09-16",
          "2021-09-17",
          "2021-09-20",
          "2021-09-21",
          "2021-09-22",
          "2021-09-23",
          "2021-09-24",
          "2021-09-27",
          "2021-09-28",
          "2021-09-29",
          "2021-09-30",
          "2021-10-01",
          "2021-10-04",
          "2021-10-05",
          "2021-10-06",
          "2021-10-07",
          "2021-10-08",
          "2021-10-11",
          "2021-10-12",
          "2021-10-13",
          "2021-10-14",
          "2021-10-15",
          "2021-10-18",
          "2021-10-19",
          "2021-10-20",
          "2021-10-21",
          "2021-10-22",
          "2021-10-25",
          "2021-10-26",
          "2021-10-27",
          "2021-10-28",
          "2021-10-29",
          "2021-11-01",
          "2021-11-02",
          "2021-11-03",
          "2021-11-04",
          "2021-11-05",
          "2021-11-08",
          "2021-11-09",
          "2021-11-10",
          "2021-11-11",
          "2021-11-12",
          "2021-11-15",
          "2021-11-16",
          "2021-11-17",
          "2021-11-18",
          "2021-11-19",
          "2021-11-22",
          "2021-11-23",
          "2021-11-24",
          "2021-11-26",
          "2021-11-29",
          "2021-11-30",
          "2021-12-01",
          "2021-12-02",
          "2021-12-03",
          "2021-12-06",
          "2021-12-07",
          "2021-12-08",
          "2021-12-09",
          "2021-12-10",
          "2021-12-13",
          "2021-12-14",
          "2021-12-15",
          "2021-12-16",
          "2021-12-17",
          "2021-12-20",
          "2021-12-21",
          "2021-12-22",
          "2021-12-23",
          "2021-12-28",
          "2021-12-29",
          "2021-12-30",
          "2021-12-31",
          "2022-01-03",
          "2022-01-04",
          "2022-01-05",
          "2022-01-06",
          "2022-01-07",
          "2022-01-10",
          "2022-01-11",
          "2022-01-12",
          "2022-01-13",
          "2022-01-14",
          "2022-01-18",
          "2022-01-19",
          "2022-01-20",
          "2022-01-21",
          "2022-01-24",
          "2022-01-25",
          "2022-01-26",
          "2022-01-27",
          "2022-01-28",
          "2022-01-31",
          "2022-02-01",
          "2022-02-02",
          "2022-02-03",
          "2022-02-04",
          "2022-02-07",
          "2022-02-08",
          "2022-02-09",
          "2022-02-10",
          "2022-02-11",
          "2022-02-14",
          "2022-02-15",
          "2022-02-16",
          "2022-02-17",
          "2022-02-18",
          "2022-02-22",
          "2022-02-23",
          "2022-02-24",
          "2022-02-25",
          "2022-02-28",
          "2022-03-01",
          "2022-03-02",
          "2022-03-03",
          "2022-03-04",
          "2022-03-07",
          "2022-03-08",
          "2022-03-09",
          "2022-03-10",
          "2022-03-11",
          "2022-03-14",
          "2022-03-15",
          "2022-03-16",
          "2022-03-17",
          "2022-03-18",
          "2022-03-21",
          "2022-03-22",
          "2022-03-23",
          "2022-03-24",
          "2022-03-25",
          "2022-03-28",
          "2022-03-29",
          "2022-03-30",
          "2022-03-31",
          "2022-04-01",
          "2022-04-04",
          "2022-04-05",
          "2022-04-06",
          "2022-04-07",
          "2022-04-08",
          "2022-04-11",
          "2022-04-12",
          "2022-04-13",
          "2022-04-14",
          "2022-04-18",
          "2022-04-19",
          "2022-04-20",
          "2022-04-21",
          "2022-04-22",
          "2022-04-25",
          "2022-04-26",
          "2022-04-27",
          "2022-04-28",
          "2022-04-29",
          "2022-05-02",
          "2022-05-03",
          "2022-05-04",
          "2022-05-05",
          "2022-05-06",
          "2022-05-09",
          "2022-05-10",
          "2022-05-11",
          "2022-05-12",
          "2022-05-13",
          "2022-05-16",
          "2022-05-17",
          "2022-05-18",
          "2022-05-19",
          "2022-05-20",
          "2022-05-23",
          "2022-05-24",
          "2022-05-25",
          "2022-05-26",
          "2022-05-27",
          "2022-05-31",
          "2022-06-01",
          "2022-06-02",
          "2022-06-03",
          "2022-06-06",
          "2022-06-07",
          "2022-06-08",
          "2022-06-09",
          "2022-06-10",
          "2022-06-13",
          "2022-06-14",
          "2022-06-15",
          "2022-06-16",
          "2022-06-17",
          "2022-06-21",
          "2022-06-22",
          "2022-06-23",
          "2022-06-24",
          "2022-06-27",
          "2022-06-28",
          "2022-06-29",
          "2022-06-30",
          "2022-07-01",
          "2022-07-05",
          "2022-07-06",
          "2022-07-07",
          "2022-07-08",
          "2022-07-11",
          "2022-07-12",
          "2022-07-13",
          "2022-07-14",
          "2022-07-15",
          "2022-07-18",
          "2022-07-19",
          "2022-07-20",
          "2022-07-21",
          "2022-07-22",
          "2022-07-25",
          "2022-07-26",
          "2022-07-27",
          "2022-07-28",
          "2022-07-29",
          "2022-08-01",
          "2022-08-02",
          "2022-08-03",
          "2022-08-04",
          "2022-08-05",
          "2022-08-08",
          "2022-08-09",
          "2022-08-10",
          "2022-08-11",
          "2022-08-12",
          "2022-08-15",
          "2022-08-16",
          "2022-08-17",
          "2022-08-18",
          "2022-08-19",
          "2022-08-22",
          "2022-08-23",
          "2022-08-24",
          "2022-08-25",
          "2022-08-26",
          "2022-08-29",
          "2022-08-30",
          "2022-08-31",
          "2022-09-01",
          "2022-09-02",
          "2022-09-06",
          "2022-09-07",
          "2022-09-08",
          "2022-09-09",
          "2022-09-12",
          "2022-09-13",
          "2022-09-14",
          "2022-09-15",
          "2022-09-16",
          "2022-09-19",
          "2022-09-20",
          "2022-09-21",
          "2022-09-22",
          "2022-09-23",
          "2022-09-26",
          "2022-09-27",
          "2022-09-28",
          "2022-09-29",
          "2022-09-30",
          "2022-10-03",
          "2022-10-04",
          "2022-10-05",
          "2022-10-06",
          "2022-10-07",
          "2022-10-10",
          "2022-10-11",
          "2022-10-12",
          "2022-10-13",
          "2022-10-14",
          "2022-10-17",
          "2022-10-18",
          "2022-10-19",
          "2022-10-20",
          "2022-10-21",
          "2022-10-24",
          "2022-10-25",
          "2022-10-26",
          "2022-10-27",
          "2022-10-28",
          "2022-10-31",
          "2022-11-01",
          "2022-11-02",
          "2022-11-03",
          "2022-11-04",
          "2022-11-07",
          "2022-11-08",
          "2022-11-09",
          "2022-11-10",
          "2022-11-11",
          "2022-11-14",
          "2022-11-15",
          "2022-11-16",
          "2022-11-17",
          "2022-11-18",
          "2022-11-21",
          "2022-11-22",
          "2022-11-23",
          "2022-11-25",
          "2022-11-28",
          "2022-11-29",
          "2022-11-30",
          "2022-12-01",
          "2022-12-02",
          "2022-12-05",
          "2022-12-06",
          "2022-12-07",
          "2022-12-08",
          "2022-12-09",
          "2022-12-12",
          "2022-12-13",
          "2022-12-14",
          "2022-12-15",
          "2022-12-16",
          "2022-12-19",
          "2022-12-20",
          "2022-12-21",
          "2022-12-22",
          "2022-12-23",
          "2022-12-27",
          "2022-12-28",
          "2022-12-29",
          "2022-12-30",
          "2023-01-03",
          "2023-01-04",
          "2023-01-05",
          "2023-01-06",
          "2023-01-09",
          "2023-01-10",
          "2023-01-11",
          "2023-01-12",
          "2023-01-13",
          "2023-01-17",
          "2023-01-18",
          "2023-01-19",
          "2023-01-20",
          "2023-01-23",
          "2023-01-24",
          "2023-01-25",
          "2023-01-26",
          "2023-01-27",
          "2023-01-30",
          "2023-01-31",
          "2023-02-01",
          "2023-02-02",
          "2023-02-03",
          "2023-02-06",
          "2023-02-07",
          "2023-02-08",
          "2023-02-09",
          "2023-02-10",
          "2023-02-13",
          "2023-02-14",
          "2023-02-15",
          "2023-02-16",
          "2023-02-17",
          "2023-02-21",
          "2023-02-22",
          "2023-02-23",
          "2023-02-24",
          "2023-02-27",
          "2023-02-28",
          "2023-03-01",
          "2023-03-02",
          "2023-03-03",
          "2023-03-06",
          "2023-03-07",
          "2023-03-08",
          "2023-03-09",
          "2023-03-10",
          "2023-03-13",
          "2023-03-14",
          "2023-03-15",
          "2023-03-16",
          "2023-03-17",
          "2023-03-20",
          "2023-03-21",
          "2023-03-22",
          "2023-03-23",
          "2023-03-24",
          "2023-03-27",
          "2023-03-28",
          "2023-03-29",
          "2023-03-30",
          "2023-03-31",
          "2023-04-03",
          "2023-04-04",
          "2023-04-05",
          "2023-04-06",
          "2023-04-10",
          "2023-04-11",
          "2023-04-12",
          "2023-04-13",
          "2023-04-14",
          "2023-04-17",
          "2023-04-18",
          "2023-04-19",
          "2023-04-20",
          "2023-04-21",
          "2023-04-24",
          "2023-04-25",
          "2023-04-26",
          "2023-04-27",
          "2023-04-28",
          "2023-05-01",
          "2023-05-02",
          "2023-05-03",
          "2023-05-04",
          "2023-05-05",
          "2023-05-08",
          "2023-05-09",
          "2023-05-10",
          "2023-05-11",
          "2023-05-12",
          "2023-05-15",
          "2023-05-16",
          "2023-05-17",
          "2023-05-18",
          "2023-05-19",
          "2023-05-22",
          "2023-05-23",
          "2023-05-24",
          "2023-05-25",
          "2023-05-26",
          "2023-05-30",
          "2023-05-31",
          "2023-06-01",
          "2023-06-02",
          "2023-06-05",
          "2023-06-06",
          "2023-06-07",
          "2023-06-08",
          "2023-06-09",
          "2023-06-12",
          "2023-06-13",
          "2023-06-14",
          "2023-06-15",
          "2023-06-16",
          "2023-06-20",
          "2023-06-21",
          "2023-06-22",
          "2023-06-23",
          "2023-06-26",
          "2023-06-27",
          "2023-06-28",
          "2023-06-29",
          "2023-06-30",
          "2023-07-03",
          "2023-07-05",
          "2023-07-06",
          "2023-07-07",
          "2023-07-10",
          "2023-07-11",
          "2023-07-12",
          "2023-07-13",
          "2023-07-14",
          "2023-07-17",
          "2023-07-18",
          "2023-07-19",
          "2023-07-20",
          "2023-07-21",
          "2023-07-24",
          "2023-07-25",
          "2023-07-26",
          "2023-07-27",
          "2023-07-28",
          "2023-07-31",
          "2023-08-01",
          "2023-08-02",
          "2023-08-03",
          "2023-08-04",
          "2023-08-07",
          "2023-08-08",
          "2023-08-09",
          "2023-08-10",
          "2023-08-11",
          "2023-08-14",
          "2023-08-15",
          "2023-08-16",
          "2023-08-17",
          "2023-08-18",
          "2023-08-21",
          "2023-08-22",
          "2023-08-23",
          "2023-08-24",
          "2023-08-25",
          "2023-08-28",
          "2023-08-29",
          "2023-08-30",
          "2023-08-31"
         ],
         "y": {
          "bdata": "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",
          "dtype": "f8"
         }
        }
       ],
       "layout": {
        "template": {
         "data": {
          "bar": [
           {
            "error_x": {
             "color": "#2a3f5f"
            },
            "error_y": {
             "color": "#2a3f5f"
            },
            "marker": {
             "line": {
              "color": "#E5ECF6",
              "width": 0.5
             },
             "pattern": {
              "fillmode": "overlay",
              "size": 10,
              "solidity": 0.2
             }
            },
            "type": "bar"
           }
          ],
          "barpolar": [
           {
            "marker": {
             "line": {
              "color": "#E5ECF6",
              "width": 0.5
             },
             "pattern": {
              "fillmode": "overlay",
              "size": 10,
              "solidity": 0.2
             }
            },
            "type": "barpolar"
           }
          ],
          "carpet": [
           {
            "aaxis": {
             "endlinecolor": "#2a3f5f",
             "gridcolor": "white",
             "linecolor": "white",
             "minorgridcolor": "white",
             "startlinecolor": "#2a3f5f"
            },
            "baxis": {
             "endlinecolor": "#2a3f5f",
             "gridcolor": "white",
             "linecolor": "white",
             "minorgridcolor": "white",
             "startlinecolor": "#2a3f5f"
            },
            "type": "carpet"
           }
          ],
          "choropleth": [
           {
            "colorbar": {
             "outlinewidth": 0,
             "ticks": ""
            },
            "type": "choropleth"
           }
          ],
          "contour": [
           {
            "colorbar": {
             "outlinewidth": 0,
             "ticks": ""
            },
            "colorscale": [
             [
              0,
              "#0d0887"
             ],
             [
              0.1111111111111111,
              "#46039f"
             ],
             [
              0.2222222222222222,
              "#7201a8"
             ],
             [
              0.3333333333333333,
              "#9c179e"
             ],
             [
              0.4444444444444444,
              "#bd3786"
             ],
             [
              0.5555555555555556,
              "#d8576b"
             ],
             [
              0.6666666666666666,
              "#ed7953"
             ],
             [
              0.7777777777777778,
              "#fb9f3a"
             ],
             [
              0.8888888888888888,
              "#fdca26"
             ],
             [
              1,
              "#f0f921"
             ]
            ],
            "type": "contour"
           }
          ],
          "contourcarpet": [
           {
            "colorbar": {
             "outlinewidth": 0,
             "ticks": ""
            },
            "type": "contourcarpet"
           }
          ],
          "heatmap": [
           {
            "colorbar": {
             "outlinewidth": 0,
             "ticks": ""
            },
            "colorscale": [
             [
              0,
              "#0d0887"
             ],
             [
              0.1111111111111111,
              "#46039f"
             ],
             [
              0.2222222222222222,
              "#7201a8"
             ],
             [
              0.3333333333333333,
              "#9c179e"
             ],
             [
              0.4444444444444444,
              "#bd3786"
             ],
             [
              0.5555555555555556,
              "#d8576b"
             ],
             [
              0.6666666666666666,
              "#ed7953"
             ],
             [
              0.7777777777777778,
              "#fb9f3a"
             ],
             [
              0.8888888888888888,
              "#fdca26"
             ],
             [
              1,
              "#f0f921"
             ]
            ],
            "type": "heatmap"
           }
          ],
          "histogram": [
           {
            "marker": {
             "pattern": {
              "fillmode": "overlay",
              "size": 10,
              "solidity": 0.2
             }
            },
            "type": "histogram"
           }
          ],
          "histogram2d": [
           {
            "colorbar": {
             "outlinewidth": 0,
             "ticks": ""
            },
            "colorscale": [
             [
              0,
              "#0d0887"
             ],
             [
              0.1111111111111111,
              "#46039f"
             ],
             [
              0.2222222222222222,
              "#7201a8"
             ],
             [
              0.3333333333333333,
              "#9c179e"
             ],
             [
              0.4444444444444444,
              "#bd3786"
             ],
             [
              0.5555555555555556,
              "#d8576b"
             ],
             [
              0.6666666666666666,
              "#ed7953"
             ],
             [
              0.7777777777777778,
              "#fb9f3a"
             ],
             [
              0.8888888888888888,
              "#fdca26"
             ],
             [
              1,
              "#f0f921"
             ]
            ],
            "type": "histogram2d"
           }
          ],
          "histogram2dcontour": [
           {
            "colorbar": {
             "outlinewidth": 0,
             "ticks": ""
            },
            "colorscale": [
             [
              0,
              "#0d0887"
             ],
             [
              0.1111111111111111,
              "#46039f"
             ],
             [
              0.2222222222222222,
              "#7201a8"
             ],
             [
              0.3333333333333333,
              "#9c179e"
             ],
             [
              0.4444444444444444,
              "#bd3786"
             ],
             [
              0.5555555555555556,
              "#d8576b"
             ],
             [
              0.6666666666666666,
              "#ed7953"
             ],
             [
              0.7777777777777778,
              "#fb9f3a"
             ],
             [
              0.8888888888888888,
              "#fdca26"
             ],
             [
              1,
              "#f0f921"
             ]
            ],
            "type": "histogram2dcontour"
           }
          ],
          "mesh3d": [
           {
            "colorbar": {
             "outlinewidth": 0,
             "ticks": ""
            },
            "type": "mesh3d"
           }
          ],
          "parcoords": [
           {
            "line": {
             "colorbar": {
              "outlinewidth": 0,
              "ticks": ""
             }
            },
            "type": "parcoords"
           }
          ],
          "pie": [
           {
            "automargin": true,
            "type": "pie"
           }
          ],
          "scatter": [
           {
            "fillpattern": {
             "fillmode": "overlay",
             "size": 10,
             "solidity": 0.2
            },
            "type": "scatter"
           }
          ],
          "scatter3d": [
           {
            "line": {
             "colorbar": {
              "outlinewidth": 0,
              "ticks": ""
             }
            },
            "marker": {
             "colorbar": {
              "outlinewidth": 0,
              "ticks": ""
             }
            },
            "type": "scatter3d"
           }
          ],
          "scattercarpet": [
           {
            "marker": {
             "colorbar": {
              "outlinewidth": 0,
              "ticks": ""
             }
            },
            "type": "scattercarpet"
           }
          ],
          "scattergeo": [
           {
            "marker": {
             "colorbar": {
              "outlinewidth": 0,
              "ticks": ""
             }
            },
            "type": "scattergeo"
           }
          ],
          "scattergl": [
           {
            "marker": {
             "colorbar": {
              "outlinewidth": 0,
              "ticks": ""
             }
            },
            "type": "scattergl"
           }
          ],
          "scattermap": [
           {
            "marker": {
             "colorbar": {
              "outlinewidth": 0,
              "ticks": ""
             }
            },
            "type": "scattermap"
           }
          ],
          "scattermapbox": [
           {
            "marker": {
             "colorbar": {
              "outlinewidth": 0,
              "ticks": ""
             }
            },
            "type": "scattermapbox"
           }
          ],
          "scatterpolar": [
           {
            "marker": {
             "colorbar": {
              "outlinewidth": 0,
              "ticks": ""
             }
            },
            "type": "scatterpolar"
           }
          ],
          "scatterpolargl": [
           {
            "marker": {
             "colorbar": {
              "outlinewidth": 0,
              "ticks": ""
             }
            },
            "type": "scatterpolargl"
           }
          ],
          "scatterternary": [
           {
            "marker": {
             "colorbar": {
              "outlinewidth": 0,
              "ticks": ""
             }
            },
            "type": "scatterternary"
           }
          ],
          "surface": [
           {
            "colorbar": {
             "outlinewidth": 0,
             "ticks": ""
            },
            "colorscale": [
             [
              0,
              "#0d0887"
             ],
             [
              0.1111111111111111,
              "#46039f"
             ],
             [
              0.2222222222222222,
              "#7201a8"
             ],
             [
              0.3333333333333333,
              "#9c179e"
             ],
             [
              0.4444444444444444,
              "#bd3786"
             ],
             [
              0.5555555555555556,
              "#d8576b"
             ],
             [
              0.6666666666666666,
              "#ed7953"
             ],
             [
              0.7777777777777778,
              "#fb9f3a"
             ],
             [
              0.8888888888888888,
              "#fdca26"
             ],
             [
              1,
              "#f0f921"
             ]
            ],
            "type": "surface"
           }
          ],
          "table": [
           {
            "cells": {
             "fill": {
              "color": "#EBF0F8"
             },
             "line": {
              "color": "white"
             }
            },
            "header": {
             "fill": {
              "color": "#C8D4E3"
             },
             "line": {
              "color": "white"
             }
            },
            "type": "table"
           }
          ]
         },
         "layout": {
          "annotationdefaults": {
           "arrowcolor": "#2a3f5f",
           "arrowhead": 0,
           "arrowwidth": 1
          },
          "autotypenumbers": "strict",
          "coloraxis": {
           "colorbar": {
            "outlinewidth": 0,
            "ticks": ""
           }
          },
          "colorscale": {
           "diverging": [
            [
             0,
             "#8e0152"
            ],
            [
             0.1,
             "#c51b7d"
            ],
            [
             0.2,
             "#de77ae"
            ],
            [
             0.3,
             "#f1b6da"
            ],
            [
             0.4,
             "#fde0ef"
            ],
            [
             0.5,
             "#f7f7f7"
            ],
            [
             0.6,
             "#e6f5d0"
            ],
            [
             0.7,
             "#b8e186"
            ],
            [
             0.8,
             "#7fbc41"
            ],
            [
             0.9,
             "#4d9221"
            ],
            [
             1,
             "#276419"
            ]
           ],
           "sequential": [
            [
             0,
             "#0d0887"
            ],
            [
             0.1111111111111111,
             "#46039f"
            ],
            [
             0.2222222222222222,
             "#7201a8"
            ],
            [
             0.3333333333333333,
             "#9c179e"
            ],
            [
             0.4444444444444444,
             "#bd3786"
            ],
            [
             0.5555555555555556,
             "#d8576b"
            ],
            [
             0.6666666666666666,
             "#ed7953"
            ],
            [
             0.7777777777777778,
             "#fb9f3a"
            ],
            [
             0.8888888888888888,
             "#fdca26"
            ],
            [
             1,
             "#f0f921"
            ]
           ],
           "sequentialminus": [
            [
             0,
             "#0d0887"
            ],
            [
             0.1111111111111111,
             "#46039f"
            ],
            [
             0.2222222222222222,
             "#7201a8"
            ],
            [
             0.3333333333333333,
             "#9c179e"
            ],
            [
             0.4444444444444444,
             "#bd3786"
            ],
            [
             0.5555555555555556,
             "#d8576b"
            ],
            [
             0.6666666666666666,
             "#ed7953"
            ],
            [
             0.7777777777777778,
             "#fb9f3a"
            ],
            [
             0.8888888888888888,
             "#fdca26"
            ],
            [
             1,
             "#f0f921"
            ]
           ]
          },
          "colorway": [
           "#636efa",
           "#EF553B",
           "#00cc96",
           "#ab63fa",
           "#FFA15A",
           "#19d3f3",
           "#FF6692",
           "#B6E880",
           "#FF97FF",
           "#FECB52"
          ],
          "font": {
           "color": "#2a3f5f"
          },
          "geo": {
           "bgcolor": "white",
           "lakecolor": "white",
           "landcolor": "#E5ECF6",
           "showlakes": true,
           "showland": true,
           "subunitcolor": "white"
          },
          "hoverlabel": {
           "align": "left"
          },
          "hovermode": "closest",
          "mapbox": {
           "style": "light"
          },
          "paper_bgcolor": "white",
          "plot_bgcolor": "#E5ECF6",
          "polar": {
           "angularaxis": {
            "gridcolor": "white",
            "linecolor": "white",
            "ticks": ""
           },
           "bgcolor": "#E5ECF6",
           "radialaxis": {
            "gridcolor": "white",
            "linecolor": "white",
            "ticks": ""
           }
          },
          "scene": {
           "xaxis": {
            "backgroundcolor": "#E5ECF6",
            "gridcolor": "white",
            "gridwidth": 2,
            "linecolor": "white",
            "showbackground": true,
            "ticks": "",
            "zerolinecolor": "white"
           },
           "yaxis": {
            "backgroundcolor": "#E5ECF6",
            "gridcolor": "white",
            "gridwidth": 2,
            "linecolor": "white",
            "showbackground": true,
            "ticks": "",
            "zerolinecolor": "white"
           },
           "zaxis": {
            "backgroundcolor": "#E5ECF6",
            "gridcolor": "white",
            "gridwidth": 2,
            "linecolor": "white",
            "showbackground": true,
            "ticks": "",
            "zerolinecolor": "white"
           }
          },
          "shapedefaults": {
           "line": {
            "color": "#2a3f5f"
           }
          },
          "ternary": {
           "aaxis": {
            "gridcolor": "white",
            "linecolor": "white",
            "ticks": ""
           },
           "baxis": {
            "gridcolor": "white",
            "linecolor": "white",
            "ticks": ""
           },
           "bgcolor": "#E5ECF6",
           "caxis": {
            "gridcolor": "white",
            "linecolor": "white",
            "ticks": ""
           }
          },
          "title": {
           "x": 0.05
          },
          "xaxis": {
           "automargin": true,
           "gridcolor": "white",
           "linecolor": "white",
           "ticks": "",
           "title": {
            "standoff": 15
           },
           "zerolinecolor": "white",
           "zerolinewidth": 2
          },
          "yaxis": {
           "automargin": true,
           "gridcolor": "white",
           "linecolor": "white",
           "ticks": "",
           "title": {
            "standoff": 15
           },
           "zerolinecolor": "white",
           "zerolinewidth": 2
          }
         }
        },
        "title": {
         "text": "SPX Put IV (ATM, 1M)"
        },
        "yaxis": {
         "title": {
          "text": "IV"
         }
        }
       }
      }
     },
     "metadata": {},
     "output_type": "display_data"
    }
   ],
   "source": [
    "fig = go.Figure()\n",
    "\n",
    "fig.add_trace(\n",
    "    go.Scatter(\n",
    "        x = df['date'],\n",
    "        y = df['impl_volatility'],\n",
    "        name = 'implied vol',\n",
    "        showlegend=True,\n",
    "        opacity=1,\n",
    "    )\n",
    ")\n",
    "\n",
    "fig.update_layout(title = 'SPX Put IV (ATM, 1M)')\n",
    "fig.update_yaxes(title = 'IV')\n",
    "fig.show()"
   ]
  },
  {
   "cell_type": "code",
   "execution_count": null,
   "metadata": {},
   "outputs": [],
   "source": []
  }
 ],
 "metadata": {
  "kernelspec": {
   "display_name": ".venv",
   "language": "python",
   "name": "python3"
  },
  "language_info": {
   "codemirror_mode": {
    "name": "ipython",
    "version": 3
   },
   "file_extension": ".py",
   "mimetype": "text/x-python",
   "name": "python",
   "nbconvert_exporter": "python",
   "pygments_lexer": "ipython3",
   "version": "3.12.3"
  }
 },
 "nbformat": 4,
 "nbformat_minor": 2
}
