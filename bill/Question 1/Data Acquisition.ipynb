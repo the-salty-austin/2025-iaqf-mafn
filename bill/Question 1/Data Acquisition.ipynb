{
 "cells": [
  {
   "cell_type": "code",
   "execution_count": 2,
   "id": "c63e6da2",
   "metadata": {},
   "outputs": [
    {
     "name": "stdout",
     "output_type": "stream",
     "text": [
      "Welcome to use Wind Quant API for Python (WindPy)!\n",
      "\n",
      "COPYRIGHT (C) 2024 WIND INFORMATION CO., LTD. ALL RIGHTS RESERVED.\n",
      "IN NO CIRCUMSTANCE SHALL WIND BE RESPONSIBLE FOR ANY DAMAGES OR LOSSES CAUSED BY USING WIND QUANT API FOR Python.\n"
     ]
    },
    {
     "data": {
      "text/plain": [
       "True"
      ]
     },
     "execution_count": 2,
     "metadata": {},
     "output_type": "execute_result"
    }
   ],
   "source": [
    "from WindPy import w\n",
    "import numpy as np\n",
    "import pandas as pd\n",
    "import yfinance as yf\n",
    "\n",
    "w.start()\n",
    "w.isconnected()"
   ]
  },
  {
   "cell_type": "code",
   "execution_count": 4,
   "id": "5ec9c5d1",
   "metadata": {},
   "outputs": [],
   "source": [
    "Ticker_Start = {'NVDA.O': '1999-01-22',\n",
    "               'META.O': '2012-05-18',\n",
    "               'TSLA.O': '2010-06-29',\n",
    "               'AMZN.O': '1997-05-14',\n",
    "               'GOOG.O': '2014-03-27',\n",
    "               'MSFT.O': '1986-03-13',\n",
    "               'AAPL.O': '1980-12-12'}"
   ]
  },
  {
   "cell_type": "code",
   "execution_count": 5,
   "id": "8974ead7",
   "metadata": {},
   "outputs": [],
   "source": [
    "ticker = 'NVDA.O'\n",
    "start_date = '1999-01-22'\n",
    "\n",
    "data = w.wsd(ticker, 'close, mkt_cap_ard', start_date, '2025-1-24', 'unit=1;Currency=USD;PriceAdj=F', usedf = True)[1]"
   ]
  },
  {
   "cell_type": "code",
   "execution_count": 10,
   "id": "ce14c3c1",
   "metadata": {},
   "outputs": [],
   "source": [
    "data.to_csv(\"NVDA.O.csv\")"
   ]
  },
  {
   "cell_type": "code",
   "execution_count": 14,
   "id": "0e8b28d8",
   "metadata": {},
   "outputs": [],
   "source": [
    "for ticker, start_date in Ticker_Start.items():\n",
    "    if ticker == 'NVDA.O':\n",
    "        continue\n",
    "        \n",
    "    data = w.wsd(ticker, 'close, mkt_cap_ard', start_date, '2025-1-24', 'unit=1;Currency=USD;PriceAdj=F', usedf = True)[1]\n",
    "    \n",
    "    data.to_csv(ticker + \".csv\")"
   ]
  },
  {
   "cell_type": "code",
   "execution_count": 16,
   "id": "4b5d0495",
   "metadata": {},
   "outputs": [],
   "source": [
    "w.stop()"
   ]
  },
  {
   "cell_type": "code",
   "execution_count": null,
   "id": "779f2e3d",
   "metadata": {},
   "outputs": [],
   "source": []
  },
  {
   "cell_type": "code",
   "execution_count": null,
   "id": "116f55ac",
   "metadata": {},
   "outputs": [],
   "source": []
  },
  {
   "cell_type": "code",
   "execution_count": null,
   "id": "034c449b",
   "metadata": {},
   "outputs": [],
   "source": []
  },
  {
   "cell_type": "code",
   "execution_count": 18,
   "id": "ae72446f",
   "metadata": {},
   "outputs": [],
   "source": [
    "ticker = \"SPY\""
   ]
  },
  {
   "cell_type": "code",
   "execution_count": 19,
   "id": "d7f540e2",
   "metadata": {},
   "outputs": [
    {
     "name": "stderr",
     "output_type": "stream",
     "text": [
      "[*********************100%***********************]  1 of 1 completed\n"
     ]
    }
   ],
   "source": [
    "start_date = \"1993-01-29\"\n",
    "end_date = \"2025-01-25\"\n",
    "\n",
    "data = yf.download(ticker, start=start_date, end=end_date)"
   ]
  },
  {
   "cell_type": "code",
   "execution_count": 23,
   "id": "faf77f97",
   "metadata": {},
   "outputs": [],
   "source": [
    "data.to_csv('SPY.csv')"
   ]
  },
  {
   "cell_type": "code",
   "execution_count": 24,
   "id": "7055f2b0",
   "metadata": {},
   "outputs": [
    {
     "data": {
      "text/html": [
       "<div>\n",
       "<style scoped>\n",
       "    .dataframe tbody tr th:only-of-type {\n",
       "        vertical-align: middle;\n",
       "    }\n",
       "\n",
       "    .dataframe tbody tr th {\n",
       "        vertical-align: top;\n",
       "    }\n",
       "\n",
       "    .dataframe thead th {\n",
       "        text-align: right;\n",
       "    }\n",
       "</style>\n",
       "<table border=\"1\" class=\"dataframe\">\n",
       "  <thead>\n",
       "    <tr style=\"text-align: right;\">\n",
       "      <th></th>\n",
       "      <th>Open</th>\n",
       "      <th>High</th>\n",
       "      <th>Low</th>\n",
       "      <th>Close</th>\n",
       "      <th>Adj Close</th>\n",
       "      <th>Volume</th>\n",
       "    </tr>\n",
       "    <tr>\n",
       "      <th>Date</th>\n",
       "      <th></th>\n",
       "      <th></th>\n",
       "      <th></th>\n",
       "      <th></th>\n",
       "      <th></th>\n",
       "      <th></th>\n",
       "    </tr>\n",
       "  </thead>\n",
       "  <tbody>\n",
       "    <tr>\n",
       "      <th>1993-01-29</th>\n",
       "      <td>43.96875</td>\n",
       "      <td>43.96875</td>\n",
       "      <td>43.75000</td>\n",
       "      <td>43.93750</td>\n",
       "      <td>24.526081</td>\n",
       "      <td>1003200</td>\n",
       "    </tr>\n",
       "    <tr>\n",
       "      <th>1993-02-01</th>\n",
       "      <td>43.96875</td>\n",
       "      <td>44.25000</td>\n",
       "      <td>43.96875</td>\n",
       "      <td>44.25000</td>\n",
       "      <td>24.700518</td>\n",
       "      <td>480500</td>\n",
       "    </tr>\n",
       "    <tr>\n",
       "      <th>1993-02-02</th>\n",
       "      <td>44.21875</td>\n",
       "      <td>44.37500</td>\n",
       "      <td>44.12500</td>\n",
       "      <td>44.34375</td>\n",
       "      <td>24.752842</td>\n",
       "      <td>201300</td>\n",
       "    </tr>\n",
       "    <tr>\n",
       "      <th>1993-02-03</th>\n",
       "      <td>44.40625</td>\n",
       "      <td>44.84375</td>\n",
       "      <td>44.37500</td>\n",
       "      <td>44.81250</td>\n",
       "      <td>25.014505</td>\n",
       "      <td>529400</td>\n",
       "    </tr>\n",
       "    <tr>\n",
       "      <th>1993-02-04</th>\n",
       "      <td>44.96875</td>\n",
       "      <td>45.09375</td>\n",
       "      <td>44.46875</td>\n",
       "      <td>45.00000</td>\n",
       "      <td>25.119167</td>\n",
       "      <td>531500</td>\n",
       "    </tr>\n",
       "  </tbody>\n",
       "</table>\n",
       "</div>"
      ],
      "text/plain": [
       "                Open      High       Low     Close  Adj Close   Volume\n",
       "Date                                                                  \n",
       "1993-01-29  43.96875  43.96875  43.75000  43.93750  24.526081  1003200\n",
       "1993-02-01  43.96875  44.25000  43.96875  44.25000  24.700518   480500\n",
       "1993-02-02  44.21875  44.37500  44.12500  44.34375  24.752842   201300\n",
       "1993-02-03  44.40625  44.84375  44.37500  44.81250  25.014505   529400\n",
       "1993-02-04  44.96875  45.09375  44.46875  45.00000  25.119167   531500"
      ]
     },
     "execution_count": 24,
     "metadata": {},
     "output_type": "execute_result"
    }
   ],
   "source": [
    "data.head()"
   ]
  },
  {
   "cell_type": "code",
   "execution_count": null,
   "id": "55c3bed6",
   "metadata": {},
   "outputs": [],
   "source": []
  },
  {
   "cell_type": "code",
   "execution_count": 5,
   "id": "e98b3855",
   "metadata": {},
   "outputs": [],
   "source": [
    "ticker = \"^NDXT\""
   ]
  },
  {
   "cell_type": "code",
   "execution_count": 6,
   "id": "a3af3b39",
   "metadata": {},
   "outputs": [
    {
     "name": "stderr",
     "output_type": "stream",
     "text": [
      "[*********************100%***********************]  1 of 1 completed\n"
     ]
    }
   ],
   "source": [
    "start_date = \"2006-02-22\"\n",
    "end_date = \"2025-01-25\"\n",
    "\n",
    "data = yf.download(ticker, start = start_date, end = end_date)"
   ]
  },
  {
   "cell_type": "code",
   "execution_count": 8,
   "id": "3366ff05",
   "metadata": {},
   "outputs": [],
   "source": [
    "data.to_csv('NDXT.csv')"
   ]
  },
  {
   "cell_type": "code",
   "execution_count": 9,
   "id": "58eb88d6",
   "metadata": {},
   "outputs": [
    {
     "data": {
      "text/html": [
       "<div>\n",
       "<style scoped>\n",
       "    .dataframe tbody tr th:only-of-type {\n",
       "        vertical-align: middle;\n",
       "    }\n",
       "\n",
       "    .dataframe tbody tr th {\n",
       "        vertical-align: top;\n",
       "    }\n",
       "\n",
       "    .dataframe thead th {\n",
       "        text-align: right;\n",
       "    }\n",
       "</style>\n",
       "<table border=\"1\" class=\"dataframe\">\n",
       "  <thead>\n",
       "    <tr style=\"text-align: right;\">\n",
       "      <th></th>\n",
       "      <th>Open</th>\n",
       "      <th>High</th>\n",
       "      <th>Low</th>\n",
       "      <th>Close</th>\n",
       "      <th>Adj Close</th>\n",
       "      <th>Volume</th>\n",
       "    </tr>\n",
       "    <tr>\n",
       "      <th>Date</th>\n",
       "      <th></th>\n",
       "      <th></th>\n",
       "      <th></th>\n",
       "      <th></th>\n",
       "      <th></th>\n",
       "      <th></th>\n",
       "    </tr>\n",
       "  </thead>\n",
       "  <tbody>\n",
       "    <tr>\n",
       "      <th>2025-01-17</th>\n",
       "      <td>10778.110352</td>\n",
       "      <td>10779.269531</td>\n",
       "      <td>10682.889648</td>\n",
       "      <td>10757.299805</td>\n",
       "      <td>10757.299805</td>\n",
       "      <td>0</td>\n",
       "    </tr>\n",
       "    <tr>\n",
       "      <th>2025-01-21</th>\n",
       "      <td>10844.780273</td>\n",
       "      <td>10940.240234</td>\n",
       "      <td>10743.429688</td>\n",
       "      <td>10871.240234</td>\n",
       "      <td>10871.240234</td>\n",
       "      <td>0</td>\n",
       "    </tr>\n",
       "    <tr>\n",
       "      <th>2025-01-22</th>\n",
       "      <td>10951.410156</td>\n",
       "      <td>11107.019531</td>\n",
       "      <td>10949.490234</td>\n",
       "      <td>11048.690430</td>\n",
       "      <td>11048.690430</td>\n",
       "      <td>0</td>\n",
       "    </tr>\n",
       "    <tr>\n",
       "      <th>2025-01-23</th>\n",
       "      <td>10920.750000</td>\n",
       "      <td>11037.250000</td>\n",
       "      <td>10898.799805</td>\n",
       "      <td>11037.009766</td>\n",
       "      <td>11037.009766</td>\n",
       "      <td>0</td>\n",
       "    </tr>\n",
       "    <tr>\n",
       "      <th>2025-01-24</th>\n",
       "      <td>11035.320312</td>\n",
       "      <td>11035.320312</td>\n",
       "      <td>10906.290039</td>\n",
       "      <td>10926.719727</td>\n",
       "      <td>10926.719727</td>\n",
       "      <td>0</td>\n",
       "    </tr>\n",
       "  </tbody>\n",
       "</table>\n",
       "</div>"
      ],
      "text/plain": [
       "                    Open          High           Low         Close  \\\n",
       "Date                                                                 \n",
       "2025-01-17  10778.110352  10779.269531  10682.889648  10757.299805   \n",
       "2025-01-21  10844.780273  10940.240234  10743.429688  10871.240234   \n",
       "2025-01-22  10951.410156  11107.019531  10949.490234  11048.690430   \n",
       "2025-01-23  10920.750000  11037.250000  10898.799805  11037.009766   \n",
       "2025-01-24  11035.320312  11035.320312  10906.290039  10926.719727   \n",
       "\n",
       "               Adj Close  Volume  \n",
       "Date                              \n",
       "2025-01-17  10757.299805       0  \n",
       "2025-01-21  10871.240234       0  \n",
       "2025-01-22  11048.690430       0  \n",
       "2025-01-23  11037.009766       0  \n",
       "2025-01-24  10926.719727       0  "
      ]
     },
     "execution_count": 9,
     "metadata": {},
     "output_type": "execute_result"
    }
   ],
   "source": [
    "data.tail()"
   ]
  },
  {
   "cell_type": "code",
   "execution_count": null,
   "id": "5affd8d4",
   "metadata": {},
   "outputs": [],
   "source": []
  },
  {
   "cell_type": "code",
   "execution_count": null,
   "id": "7dc20b56",
   "metadata": {},
   "outputs": [],
   "source": []
  },
  {
   "cell_type": "code",
   "execution_count": null,
   "id": "5bf640c2",
   "metadata": {},
   "outputs": [],
   "source": []
  },
  {
   "cell_type": "code",
   "execution_count": 3,
   "id": "362adae4",
   "metadata": {},
   "outputs": [],
   "source": [
    "Ticker_Start = {'AES.N': '2000-01-01',\n",
    "               'LNT.O': '2000-01-01',\n",
    "               'AEE.N': '2000-01-01',\n",
    "               'AEP.O': '2000-01-01',\n",
    "               'AWK.N': '2008-04-23',\n",
    "               'ATO.N': '2000-01-01',\n",
    "               'CNP.N': '2000-01-01',\n",
    "               'CMS.N': '2000-01-01',\n",
    "               'ED.N': '2000-01-01',\n",
    "               }"
   ]
  },
  {
   "cell_type": "code",
   "execution_count": 4,
   "id": "e9e1309c",
   "metadata": {},
   "outputs": [],
   "source": [
    "for ticker, start in Ticker_Start.items():\n",
    "    data = w.wsd(ticker, 'close, mkt_cap_ard', start, '2025-02-16', 'unit=1;Currency=USD;PriceAdj=F', usedf = True)[1]\n",
    "    \n",
    "    data.to_csv(ticker + '.csv')"
   ]
  },
  {
   "cell_type": "code",
   "execution_count": null,
   "id": "858d1144",
   "metadata": {},
   "outputs": [],
   "source": []
  }
 ],
 "metadata": {
  "kernelspec": {
   "display_name": "Python 3 (ipykernel)",
   "language": "python",
   "name": "python3"
  },
  "language_info": {
   "codemirror_mode": {
    "name": "ipython",
    "version": 3
   },
   "file_extension": ".py",
   "mimetype": "text/x-python",
   "name": "python",
   "nbconvert_exporter": "python",
   "pygments_lexer": "ipython3",
   "version": "3.11.3"
  }
 },
 "nbformat": 4,
 "nbformat_minor": 5
}
