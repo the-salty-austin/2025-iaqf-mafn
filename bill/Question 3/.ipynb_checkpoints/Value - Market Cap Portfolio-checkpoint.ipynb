{
 "cells": [
  {
   "cell_type": "code",
   "execution_count": 1,
   "id": "58a147d3",
   "metadata": {},
   "outputs": [],
   "source": [
    "import pandas as pd\n",
    "import numpy as np \n",
    "import plotly.graph_objects as go\n",
    "from datetime import date"
   ]
  },
  {
   "cell_type": "code",
   "execution_count": 25,
   "id": "459f6727",
   "metadata": {},
   "outputs": [],
   "source": [
    "sp500_monthly_ratios = pd.read_csv('data/SP500_Monthly.csv')\n",
    "sp600_monthly_ratios = pd.read_csv('data/SP600_Monthly.csv')"
   ]
  },
  {
   "cell_type": "code",
   "execution_count": 26,
   "id": "6157ea60",
   "metadata": {},
   "outputs": [
    {
     "name": "stderr",
     "output_type": "stream",
     "text": [
      "C:\\Users\\Bill Yin\\AppData\\Local\\Temp\\ipykernel_56324\\2169265980.py:1: DtypeWarning: Columns (6,9,19,22,24,49,57) have mixed types. Specify dtype option on import or set low_memory=False.\n",
      "  sp500_daily_prices = pd.read_csv('data/SP500_daily.csv')\n",
      "C:\\Users\\Bill Yin\\AppData\\Local\\Temp\\ipykernel_56324\\2169265980.py:2: DtypeWarning: Columns (5,6,9,19,22,24,49,57) have mixed types. Specify dtype option on import or set low_memory=False.\n",
      "  sp600_daily_prices = pd.read_csv('data/SP600_daily.csv')\n"
     ]
    }
   ],
   "source": [
    "sp500_daily_prices = pd.read_csv('data/SP500_daily.csv') \n",
    "sp600_daily_prices = pd.read_csv('data/SP600_daily.csv') "
   ]
  },
  {
   "cell_type": "code",
   "execution_count": 27,
   "id": "1e492af1",
   "metadata": {},
   "outputs": [],
   "source": [
    "sp500_table = pd.read_csv('data/sp500_table.csv')\n",
    "sp600_table = pd.read_csv('data/sp600_table.csv')"
   ]
  },
  {
   "cell_type": "code",
   "execution_count": 28,
   "id": "99f0c74b",
   "metadata": {},
   "outputs": [],
   "source": [
    "from collections import defaultdict\n",
    "sp500_table = sp500_table.drop_duplicates(subset=['GICS Sector','Symbol'])[['GICS Sector','Symbol']]\n",
    "sp500_sectors = defaultdict(list)\n",
    "\n",
    "for sector in sp500_table['GICS Sector'].unique():\n",
    "    for symbol in sp500_table[sp500_table['GICS Sector'] == sector]['Symbol'].unique():\n",
    "        sp500_sectors[sector].append(symbol)\n",
    "\n",
    "sp600_table = sp600_table.drop_duplicates(subset=['GICS Sector','Symbol'])[['GICS Sector','Symbol']]\n",
    "sp600_sectors = defaultdict(list)\n",
    "\n",
    "for sector in sp600_table['GICS Sector'].unique():\n",
    "    for symbol in sp600_table[sp600_table['GICS Sector'] == sector]['Symbol'].unique():\n",
    "        sp600_sectors[sector].append(symbol)"
   ]
  },
  {
   "cell_type": "code",
   "execution_count": 29,
   "id": "d82d0de0",
   "metadata": {},
   "outputs": [],
   "source": [
    "sp600_prices = (sp600_daily_prices[['date','TICKER','PRC']]\n",
    " .groupby([\"date\", \"TICKER\"])[\"PRC\"]\n",
    " .last()\n",
    " .reset_index()\n",
    " .pivot(index=\"date\", columns=\"TICKER\", values=\"PRC\")\n",
    " .dropna(axis = 1)\n",
    ")\n",
    "\n",
    "sp600_prices = (sp600_daily_prices[['date','TICKER','PRC']]\n",
    " .groupby([\"date\", \"TICKER\"])[\"PRC\"]\n",
    " .last()\n",
    " .reset_index()\n",
    " .pivot(index=\"date\", columns=\"TICKER\", values=\"PRC\")\n",
    " .dropna(axis = 1)\n",
    ")\n",
    "\n",
    "sp600_returns = sp600_prices.pct_change().dropna()\n",
    "sp600_returns.index = pd.to_datetime(sp600_returns.index).date\n",
    "\n",
    "sp500_prices = (sp500_daily_prices[['date','TICKER','PRC']]\n",
    " .groupby([\"date\", \"TICKER\"])[\"PRC\"]\n",
    " .last()\n",
    " .reset_index()\n",
    " .pivot(index=\"date\", columns=\"TICKER\", values=\"PRC\")\n",
    " .dropna(axis = 1)\n",
    ")\n",
    "\n",
    "sp500_returns = sp500_prices.pct_change().dropna()\n",
    "sp500_returns.index = pd.to_datetime(sp500_returns.index).date"
   ]
  },
  {
   "cell_type": "code",
   "execution_count": 30,
   "id": "16ca4114",
   "metadata": {},
   "outputs": [],
   "source": [
    "sp500_monthly_ratios = (sp500_monthly_ratios\n",
    " .set_index(['public_date'])[['TICKER','roe','roa','ptb']]\n",
    " )\n",
    "sp500_monthly_ratios.index = pd.to_datetime(sp500_monthly_ratios.index).date\n",
    "\n",
    "sp600_monthly_ratios = (sp600_monthly_ratios\n",
    " .set_index(['public_date'])[['TICKER','roe','roa','ptb']]\n",
    " )\n",
    "sp600_monthly_ratios.index = pd.to_datetime(sp600_monthly_ratios.index).date"
   ]
  },
  {
   "cell_type": "code",
   "execution_count": 31,
   "id": "eae7f911",
   "metadata": {},
   "outputs": [],
   "source": [
    "sp500_ratios = {ticker: df for ticker, df in sp500_monthly_ratios.groupby('TICKER')}\n",
    "sp600_ratios = {ticker: df for ticker, df in sp600_monthly_ratios.groupby('TICKER')}"
   ]
  },
  {
   "cell_type": "markdown",
   "id": "e923c3a7",
   "metadata": {},
   "source": [
    "# Backtest"
   ]
  },
  {
   "cell_type": "code",
   "execution_count": 41,
   "id": "3c8821cc",
   "metadata": {},
   "outputs": [],
   "source": [
    "dates = pd.to_datetime(sp500_monthly_ratios.index.unique()).date\n",
    "dates = sorted(dates)"
   ]
  },
  {
   "cell_type": "code",
   "execution_count": 36,
   "id": "eacaffbe",
   "metadata": {},
   "outputs": [],
   "source": [
    "small_cap_tickers = set(sp600_monthly_ratios['TICKER']) & set(sp600_prices.columns)\n",
    "large_cap_tickers = set(sp500_monthly_ratios['TICKER']) & set(sp500_prices.columns)\n",
    "portfolio_returns = {}\n",
    "\n",
    "sp500_prices = sp500_prices[list(large_cap_tickers)]\n",
    "sp600_prices = sp600_prices[list(small_cap_tickers)]\n",
    "\n",
    "portfolio_start_date"
   ]
  },
  {
   "cell_type": "code",
   "execution_count": 40,
   "id": "0fa0eeca",
   "metadata": {},
   "outputs": [
    {
     "data": {
      "text/plain": [
       "0"
      ]
     },
     "execution_count": 40,
     "metadata": {},
     "output_type": "execute_result"
    }
   ],
   "source": [
    "small_cap_portfolio = {}\n",
    "large_cap_portfolio = {}\n",
    "\n",
    "for i in range(len(sp500_returns.index)):\n",
    "    date = sp500_returns.index[i] # Enter Date\n",
    "    \n",
    "    # Calculate Portfolio Return for Yesterday\n",
    "#     if len(small_cap_portfolio) != 0:\n",
    "#         small_cap_returns = [small_cap_portfolio[ticker] * sp600_returns.loc[date, ticker] for ticker in small_cap_portfolio]\n",
    "#         large_cap_returns = [large_cap_portfolio[ticker] * sp500_returns.loc[date, ticker] for ticker in large_cap_portfolio]\n",
    "#         portfolio_returns[date] = (small_cap_returns + large_cap_returns) / notional\n",
    "        \n",
    "    if date in dates:\n",
    "        small_cap_portfolio = {}\n",
    "        large_cap_portfolio = {}\n",
    "        \n",
    "        \n",
    "        for sector in sp600_sectors:\n",
    "            ratios = \n",
    "            small_ratios = {ticker : sp600_ratios[ticker]}"
   ]
  },
  {
   "cell_type": "code",
   "execution_count": 42,
   "id": "8446f937",
   "metadata": {},
   "outputs": [
    {
     "data": {
      "text/plain": [
       "[datetime.date(2010, 1, 31),\n",
       " datetime.date(2010, 2, 28),\n",
       " datetime.date(2010, 3, 31),\n",
       " datetime.date(2010, 4, 30),\n",
       " datetime.date(2010, 5, 31),\n",
       " datetime.date(2010, 6, 30),\n",
       " datetime.date(2010, 7, 31),\n",
       " datetime.date(2010, 8, 31),\n",
       " datetime.date(2010, 9, 30),\n",
       " datetime.date(2010, 10, 31),\n",
       " datetime.date(2010, 11, 30),\n",
       " datetime.date(2010, 12, 31),\n",
       " datetime.date(2011, 1, 31),\n",
       " datetime.date(2011, 2, 28),\n",
       " datetime.date(2011, 3, 31),\n",
       " datetime.date(2011, 4, 30),\n",
       " datetime.date(2011, 5, 31),\n",
       " datetime.date(2011, 6, 30),\n",
       " datetime.date(2011, 7, 31),\n",
       " datetime.date(2011, 8, 31),\n",
       " datetime.date(2011, 9, 30),\n",
       " datetime.date(2011, 10, 31),\n",
       " datetime.date(2011, 11, 30),\n",
       " datetime.date(2011, 12, 31),\n",
       " datetime.date(2012, 1, 31),\n",
       " datetime.date(2012, 2, 29),\n",
       " datetime.date(2012, 3, 31),\n",
       " datetime.date(2012, 4, 30),\n",
       " datetime.date(2012, 5, 31),\n",
       " datetime.date(2012, 6, 30),\n",
       " datetime.date(2012, 7, 31),\n",
       " datetime.date(2012, 8, 31),\n",
       " datetime.date(2012, 9, 30),\n",
       " datetime.date(2012, 10, 31),\n",
       " datetime.date(2012, 11, 30),\n",
       " datetime.date(2012, 12, 31),\n",
       " datetime.date(2013, 1, 31),\n",
       " datetime.date(2013, 2, 28),\n",
       " datetime.date(2013, 3, 31),\n",
       " datetime.date(2013, 4, 30),\n",
       " datetime.date(2013, 5, 31),\n",
       " datetime.date(2013, 6, 30),\n",
       " datetime.date(2013, 7, 31),\n",
       " datetime.date(2013, 8, 31),\n",
       " datetime.date(2013, 9, 30),\n",
       " datetime.date(2013, 10, 31),\n",
       " datetime.date(2013, 11, 30),\n",
       " datetime.date(2013, 12, 31),\n",
       " datetime.date(2014, 1, 31),\n",
       " datetime.date(2014, 2, 28),\n",
       " datetime.date(2014, 3, 31),\n",
       " datetime.date(2014, 4, 30),\n",
       " datetime.date(2014, 5, 31),\n",
       " datetime.date(2014, 6, 30),\n",
       " datetime.date(2014, 7, 31),\n",
       " datetime.date(2014, 8, 31),\n",
       " datetime.date(2014, 9, 30),\n",
       " datetime.date(2014, 10, 31),\n",
       " datetime.date(2014, 11, 30),\n",
       " datetime.date(2014, 12, 31),\n",
       " datetime.date(2015, 1, 31),\n",
       " datetime.date(2015, 2, 28),\n",
       " datetime.date(2015, 3, 31),\n",
       " datetime.date(2015, 4, 30),\n",
       " datetime.date(2015, 5, 31),\n",
       " datetime.date(2015, 6, 30),\n",
       " datetime.date(2015, 7, 31),\n",
       " datetime.date(2015, 8, 31),\n",
       " datetime.date(2015, 9, 30),\n",
       " datetime.date(2015, 10, 31),\n",
       " datetime.date(2015, 11, 30),\n",
       " datetime.date(2015, 12, 31),\n",
       " datetime.date(2016, 1, 31),\n",
       " datetime.date(2016, 2, 29),\n",
       " datetime.date(2016, 3, 31),\n",
       " datetime.date(2016, 4, 30),\n",
       " datetime.date(2016, 5, 31),\n",
       " datetime.date(2016, 6, 30),\n",
       " datetime.date(2016, 7, 31),\n",
       " datetime.date(2016, 8, 31),\n",
       " datetime.date(2016, 9, 30),\n",
       " datetime.date(2016, 10, 31),\n",
       " datetime.date(2016, 11, 30),\n",
       " datetime.date(2016, 12, 31),\n",
       " datetime.date(2017, 1, 31),\n",
       " datetime.date(2017, 2, 28),\n",
       " datetime.date(2017, 3, 31),\n",
       " datetime.date(2017, 4, 30),\n",
       " datetime.date(2017, 5, 31),\n",
       " datetime.date(2017, 6, 30),\n",
       " datetime.date(2017, 7, 31),\n",
       " datetime.date(2017, 8, 31),\n",
       " datetime.date(2017, 9, 30),\n",
       " datetime.date(2017, 10, 31),\n",
       " datetime.date(2017, 11, 30),\n",
       " datetime.date(2017, 12, 31),\n",
       " datetime.date(2018, 1, 31),\n",
       " datetime.date(2018, 2, 28),\n",
       " datetime.date(2018, 3, 31),\n",
       " datetime.date(2018, 4, 30),\n",
       " datetime.date(2018, 5, 31),\n",
       " datetime.date(2018, 6, 30),\n",
       " datetime.date(2018, 7, 31),\n",
       " datetime.date(2018, 8, 31),\n",
       " datetime.date(2018, 9, 30),\n",
       " datetime.date(2018, 10, 31),\n",
       " datetime.date(2018, 11, 30),\n",
       " datetime.date(2018, 12, 31),\n",
       " datetime.date(2019, 1, 31),\n",
       " datetime.date(2019, 2, 28),\n",
       " datetime.date(2019, 3, 31),\n",
       " datetime.date(2019, 4, 30),\n",
       " datetime.date(2019, 5, 31),\n",
       " datetime.date(2019, 6, 30),\n",
       " datetime.date(2019, 7, 31),\n",
       " datetime.date(2019, 8, 31),\n",
       " datetime.date(2019, 9, 30),\n",
       " datetime.date(2019, 10, 31),\n",
       " datetime.date(2019, 11, 30),\n",
       " datetime.date(2019, 12, 31),\n",
       " datetime.date(2020, 1, 31),\n",
       " datetime.date(2020, 2, 29),\n",
       " datetime.date(2020, 3, 31),\n",
       " datetime.date(2020, 4, 30),\n",
       " datetime.date(2020, 5, 31),\n",
       " datetime.date(2020, 6, 30),\n",
       " datetime.date(2020, 7, 31),\n",
       " datetime.date(2020, 8, 31),\n",
       " datetime.date(2020, 9, 30),\n",
       " datetime.date(2020, 10, 31),\n",
       " datetime.date(2020, 11, 30),\n",
       " datetime.date(2020, 12, 31),\n",
       " datetime.date(2021, 1, 31),\n",
       " datetime.date(2021, 2, 28),\n",
       " datetime.date(2021, 3, 31),\n",
       " datetime.date(2021, 4, 30),\n",
       " datetime.date(2021, 5, 31),\n",
       " datetime.date(2021, 6, 30),\n",
       " datetime.date(2021, 7, 31),\n",
       " datetime.date(2021, 8, 31),\n",
       " datetime.date(2021, 9, 30),\n",
       " datetime.date(2021, 10, 31),\n",
       " datetime.date(2021, 11, 30),\n",
       " datetime.date(2021, 12, 31),\n",
       " datetime.date(2022, 1, 31),\n",
       " datetime.date(2022, 2, 28),\n",
       " datetime.date(2022, 3, 31),\n",
       " datetime.date(2022, 4, 30),\n",
       " datetime.date(2022, 5, 31),\n",
       " datetime.date(2022, 6, 30),\n",
       " datetime.date(2022, 7, 31),\n",
       " datetime.date(2022, 8, 31),\n",
       " datetime.date(2022, 9, 30),\n",
       " datetime.date(2022, 10, 31),\n",
       " datetime.date(2022, 11, 30),\n",
       " datetime.date(2022, 12, 31),\n",
       " datetime.date(2023, 1, 31),\n",
       " datetime.date(2023, 2, 28),\n",
       " datetime.date(2023, 3, 31),\n",
       " datetime.date(2023, 4, 30),\n",
       " datetime.date(2023, 5, 31),\n",
       " datetime.date(2023, 6, 30),\n",
       " datetime.date(2023, 7, 31),\n",
       " datetime.date(2023, 8, 31),\n",
       " datetime.date(2023, 9, 30),\n",
       " datetime.date(2023, 10, 31),\n",
       " datetime.date(2023, 11, 30),\n",
       " datetime.date(2023, 12, 31)]"
      ]
     },
     "execution_count": 42,
     "metadata": {},
     "output_type": "execute_result"
    }
   ],
   "source": [
    "dates"
   ]
  },
  {
   "cell_type": "code",
   "execution_count": 44,
   "id": "b6e2468e",
   "metadata": {},
   "outputs": [
    {
     "name": "stdout",
     "output_type": "stream",
     "text": [
      "\n",
      "\n",
      "\n",
      "\n",
      "\n",
      "\n",
      "\n",
      "\n",
      "\n",
      "\n",
      "\n"
     ]
    }
   ],
   "source": [
    "for sector in sp600_sectors:\n",
    "    print()"
   ]
  },
  {
   "cell_type": "code",
   "execution_count": null,
   "id": "a3575652",
   "metadata": {},
   "outputs": [],
   "source": []
  }
 ],
 "metadata": {
  "kernelspec": {
   "display_name": "Python 3 (ipykernel)",
   "language": "python",
   "name": "python3"
  },
  "language_info": {
   "codemirror_mode": {
    "name": "ipython",
    "version": 3
   },
   "file_extension": ".py",
   "mimetype": "text/x-python",
   "name": "python",
   "nbconvert_exporter": "python",
   "pygments_lexer": "ipython3",
   "version": "3.11.3"
  }
 },
 "nbformat": 4,
 "nbformat_minor": 5
}
